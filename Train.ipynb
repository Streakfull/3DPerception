{
 "cells": [
  {
   "cell_type": "code",
   "execution_count": 1,
   "id": "8e06b64c",
   "metadata": {},
   "outputs": [
    {
     "name": "stdout",
     "output_type": "stream",
     "text": [
      "(10120527872, 10385358848)\n",
      "\u001b[94mUsing device:\u001b[0m cuda:0\n",
      "\u001b[94m{'name': 'dev', 'description': 'plz', 'experiment_id': 'FullTrainG1.0-2', 'extra_notes': 'none', 'logs_dir': 'v2logs', 'is_train': True, 'device': 'cuda:0', 'batch_size': 3, 'num_workers': 16, 'test_size': 0.1, 'n_epochs': 50000, 'append_loss_every': 250, 'print_every': 500, 'validate_every': 203300000000000000000000000000000000000000, 'save_every': 2033000000000000000000000000000000000, 'save_every_nepochs': 500000000000000000000000000, 'start_epoch': 0, 'start_iteration': 0, 'visualize_every': 1000, 'apply_metrics_every': 2033, 'use_scheduler': True, 'apply_metrics_batch_count': 5, 'load_ckpt': False, 'ckpt_path': 'v2logs/globalPVQVAELPIPS/FullTrain/2024_07_20_22_29_31/checkpoints/epoch-50.ckpt'}\u001b[0m\n"
     ]
    },
    {
     "name": "stderr",
     "output_type": "stream",
     "text": [
      "\u001b[93m- Creating new directory v2logs/dev/FullTrainG1.0-2/2024_07_23_01_17_37\u001b[0m\n",
      "\u001b[93m- Creating new directory v2logs/dev/FullTrainG1.0-2/2024_07_23_01_17_37/checkpoints\u001b[0m\n",
      "\u001b[93m- Creating new directory v2logs/dev/FullTrainG1.0-2/2024_07_23_01_17_37/tb\u001b[0m\n",
      "\u001b[93m- Creating new directory v2logs/dev/FullTrainG1.0-2/2024_07_23_01_17_37/visuals\u001b[0m\n",
      "\u001b[93m- Creating new directory v2logs/dev/FullTrainG1.0-2/2024_07_23_01_17_37/modelsummary\u001b[0m\n"
     ]
    },
    {
     "name": "stdout",
     "output_type": "stream",
     "text": [
      "Jupyter environment detected. Enabling Open3D WebVisualizer.\n",
      "[Open3D INFO] WebRTC GUI backend enabled.\n",
      "[Open3D INFO] WebRTCWindowSystem: HTTP handshake server disabled.\n",
      "[*] Enc has Attn at i_level, i_block: 3, 0\n",
      "Decoding of shape (1, 256, 8, 8, 8) = 131072 dimensions.\n",
      "[*] Dec has Attn at i_level, i_block: 3, 0\n",
      "\u001b[94mUsing device:\u001b[0m cuda:0\n",
      "Model size: 109.090MB\n",
      "Total_params: 28.6M\n",
      "Dataset length:  6778\n",
      "(9900326912, 10385358848)\n"
     ]
    },
    {
     "data": {
      "text/plain": [
       "'tensorboard --logdir v2logs/dev/FullTrainG1.0-2/2024_07_23_01_17_37/tb --bind_all'"
      ]
     },
     "execution_count": 1,
     "metadata": {},
     "output_type": "execute_result"
    }
   ],
   "source": [
    "from src.training.ModelTrainer import ModelTrainer\n",
    "#from src.datasets.shape_net.shape_net_v3_sdf import ShapeNetV3SDF\n",
    "from src.datasets.shape_net.shape_net_v2_sdf import ShapeNetV2SDF\n",
    "from src.utils.util import seed_all\n",
    "from src.utils.visualizations import visualize_sdf_as_mesh\n",
    "import numpy as np\n",
    "import torch\n",
    "%load_ext autoreload\n",
    "%load_ext tensorboard\n",
    "%autoreload 2\n",
    "seed_all(111)\n",
    "x = torch.cuda.mem_get_info()\n",
    "print(x)\n",
    "trainer = ModelTrainer(dataset_type=ShapeNetV2SDF,\n",
    "                       options={\"tdm_notebook\": True})\n",
    "\n",
    "dataset = trainer.data_loader_handler.dataset\n",
    "print(\"Dataset length: \", len(dataset))\n",
    "torch.cuda.empty_cache()\n",
    "print(torch.cuda.mem_get_info())\n",
    "model = trainer.model\n",
    "model\n",
    "str(trainer.logger.experiment_dir)\n",
    "exp = f\"{str(trainer.logger.experiment_dir)}/tb\"\n",
    "exp\n",
    "#!tensorboard --logdir exp --|bind_all\n",
    "f\"tensorboard --logdir {exp} --bind_all\""
   ]
  },
  {
   "cell_type": "code",
   "execution_count": null,
   "id": "598195b8",
   "metadata": {},
   "outputs": [
    {
     "data": {
      "application/vnd.jupyter.widget-view+json": {
       "model_id": "cafe3030ea80455c8f39466b79c33038",
       "version_major": 2,
       "version_minor": 0
      },
      "text/plain": [
       "  0%|          | 0/50000 [00:00<?, ?it/s]"
      ]
     },
     "metadata": {},
     "output_type": "display_data"
    },
    {
     "data": {
      "application/vnd.jupyter.widget-view+json": {
       "model_id": "9ff61fae37894679aa4c59e827206c0e",
       "version_major": 2,
       "version_minor": 0
      },
      "text/plain": [
       "  0%|          | 0/2033 [00:00<?, ?it/s]"
      ]
     },
     "metadata": {},
     "output_type": "display_data"
    },
    {
     "name": "stdout",
     "output_type": "stream",
     "text": [
      "Running Visualizations\n"
     ]
    },
    {
     "name": "stderr",
     "output_type": "stream",
     "text": [
      "\u001b[93m- Creating new directory v2logs/dev/FullTrainG1.0-2/2024_07_23_01_17_37/visuals/reconstructions\u001b[0m\n"
     ]
    },
    {
     "name": "stdout",
     "output_type": "stream",
     "text": [
      "v2logs/dev/FullTrainG1.0-2/2024_07_23_01_17_37/visuals/reconstructions/epoch_0_iter_0.png saved\n",
      "v2logs/dev/FullTrainG1.0-2/2024_07_23_01_17_37/visuals/target/epoch_0_iter_0.png saved\n",
      "\u001b[94mRunning Validation\u001b[0m\n"
     ]
    },
    {
     "name": "stderr",
     "output_type": "stream",
     "text": [
      "\u001b[93m- Creating new directory v2logs/dev/FullTrainG1.0-2/2024_07_23_01_17_37/visuals/target\u001b[0m\n",
      "\u001b[93m[000/00000] train_loss: 0.708190\u001b[0m\n"
     ]
    },
    {
     "data": {
      "application/vnd.jupyter.widget-view+json": {
       "model_id": "893588d264c14ef2bca8abd091742696",
       "version_major": 2,
       "version_minor": 0
      },
      "text/plain": [
       "  0%|          | 0/226 [00:00<?, ?it/s]"
      ]
     },
     "metadata": {},
     "output_type": "display_data"
    },
    {
     "name": "stdout",
     "output_type": "stream",
     "text": [
      "v2logs/dev/FullTrainG1.0-2/2024_07_23_01_17_37/checkpoints/epoch-best.ckpt created\n"
     ]
    },
    {
     "name": "stderr",
     "output_type": "stream",
     "text": [
      "\u001b[93m[000/00000] val_loss: 0.347376 | best_loss_val: 0.347376\u001b[0m\n"
     ]
    },
    {
     "name": "stdout",
     "output_type": "stream",
     "text": [
      "\u001b[94mCalculating additional metrics for training batch 96\u001b[0m\n",
      "\u001b[94mCalculating additional metrics for training batch 118\u001b[0m\n",
      "\u001b[94mCalculating additional metrics for training batch 140\u001b[0m\n",
      "\u001b[94mCalculating additional metrics for training batch 156\u001b[0m\n"
     ]
    },
    {
     "name": "stderr",
     "output_type": "stream",
     "text": [
      "\u001b[93m[000/00499] train_loss: 0.066016\u001b[0m\n"
     ]
    }
   ],
   "source": [
    "trainer.train()"
   ]
  },
  {
   "cell_type": "code",
   "execution_count": null,
   "id": "418e0725",
   "metadata": {},
   "outputs": [],
   "source": []
  }
 ],
 "metadata": {
  "kernelspec": {
   "display_name": "Python 3 (ipykernel)",
   "language": "python",
   "name": "python3"
  },
  "language_info": {
   "codemirror_mode": {
    "name": "ipython",
    "version": 3
   },
   "file_extension": ".py",
   "mimetype": "text/x-python",
   "name": "python",
   "nbconvert_exporter": "python",
   "pygments_lexer": "ipython3",
   "version": "3.10.12"
  }
 },
 "nbformat": 4,
 "nbformat_minor": 5
}
