{
 "cells": [
  {
   "cell_type": "code",
   "execution_count": 1,
   "id": "8418753d",
   "metadata": {},
   "outputs": [
    {
     "name": "stdout",
     "output_type": "stream",
     "text": [
      "(10120527872, 10385358848)\n",
      "\u001b[94mUsing device:\u001b[0m cuda:0\n",
      "\u001b[94m{'name': 'dev', 'description': 'plz', 'experiment_id': 'FullTrainG1.0-2', 'extra_notes': 'none', 'logs_dir': 'v2logs', 'is_train': True, 'device': 'cuda:0', 'batch_size': 4, 'num_workers': 16, 'test_size': 0.1, 'n_epochs': 50000, 'append_loss_every': 250, 'print_every': 10, 'validate_every': 203300000000000000000000000000000000000000, 'save_every': 2033000000000000000000000000000000000, 'save_every_nepochs': 500000000000000000000000000, 'start_epoch': 0, 'start_iteration': 0, 'visualize_every': 100, 'apply_metrics_every': 2033, 'use_scheduler': True, 'apply_metrics_batch_count': 5, 'load_ckpt': False, 'ckpt_path': 'v2logs/globalPVQVAELPIPS/FullTrain/2024_07_20_22_29_31/checkpoints/epoch-50.ckpt'}\u001b[0m\n"
     ]
    },
    {
     "name": "stderr",
     "output_type": "stream",
     "text": [
      "\u001b[93m- Creating new directory v2logs/dev/FullTrainG1.0-2/2024_07_23_01_36_41\u001b[0m\n",
      "\u001b[93m- Creating new directory v2logs/dev/FullTrainG1.0-2/2024_07_23_01_36_41/checkpoints\u001b[0m\n",
      "\u001b[93m- Creating new directory v2logs/dev/FullTrainG1.0-2/2024_07_23_01_36_41/tb\u001b[0m\n",
      "\u001b[93m- Creating new directory v2logs/dev/FullTrainG1.0-2/2024_07_23_01_36_41/visuals\u001b[0m\n",
      "\u001b[93m- Creating new directory v2logs/dev/FullTrainG1.0-2/2024_07_23_01_36_41/modelsummary\u001b[0m\n"
     ]
    },
    {
     "name": "stdout",
     "output_type": "stream",
     "text": [
      "Jupyter environment detected. Enabling Open3D WebVisualizer.\n",
      "[Open3D INFO] WebRTC GUI backend enabled.\n",
      "[Open3D INFO] WebRTCWindowSystem: HTTP handshake server disabled.\n",
      "\u001b[94mUsing device:\u001b[0m cuda:0\n",
      "\u001b[94mInitializing model weights with normal initialization\u001b[0m\n",
      "Model size: 296.775MB\n",
      "Total_params: 77.8M\n",
      "Dataset length:  4\n",
      "(9719971840, 10385358848)\n"
     ]
    },
    {
     "data": {
      "text/plain": [
       "'tensorboard --logdir v2logs/dev/FullTrainG1.0-2/2024_07_23_01_36_41/tb --bind_all'"
      ]
     },
     "execution_count": 1,
     "metadata": {},
     "output_type": "execute_result"
    }
   ],
   "source": [
    "from src.training.ModelTrainer import ModelTrainer\n",
    "#from src.datasets.shape_net.shape_net_v3_sdf import ShapeNetV3SDF\n",
    "from src.datasets.shape_net.shape_net_v2_sdf import ShapeNetV2SDF\n",
    "from src.utils.util import seed_all\n",
    "from src.utils.visualizations import visualize_sdf_as_mesh\n",
    "import numpy as np\n",
    "import torch\n",
    "%load_ext autoreload\n",
    "%load_ext tensorboard\n",
    "%autoreload 2\n",
    "seed_all(111)\n",
    "x = torch.cuda.mem_get_info()\n",
    "print(x)\n",
    "trainer = ModelTrainer(dataset_type=ShapeNetV2SDF,\n",
    "                       options={\"tdm_notebook\": True})\n",
    "\n",
    "dataset = trainer.data_loader_handler.dataset\n",
    "print(\"Dataset length: \", len(dataset))\n",
    "torch.cuda.empty_cache()\n",
    "print(torch.cuda.mem_get_info())\n",
    "model = trainer.model\n",
    "model\n",
    "str(trainer.logger.experiment_dir)\n",
    "exp = f\"{str(trainer.logger.experiment_dir)}/tb\"\n",
    "exp\n",
    "#!tensorboard --logdir exp --|bind_all\n",
    "f\"tensorboard --logdir {exp} --bind_all\""
   ]
  },
  {
   "cell_type": "code",
   "execution_count": null,
   "id": "4df3c323",
   "metadata": {},
   "outputs": [
    {
     "data": {
      "application/vnd.jupyter.widget-view+json": {
       "model_id": "e141ba534cc841679f789191da2bed82",
       "version_major": 2,
       "version_minor": 0
      },
      "text/plain": [
       "  0%|          | 0/50000 [00:00<?, ?it/s]"
      ]
     },
     "metadata": {},
     "output_type": "display_data"
    },
    {
     "name": "stderr",
     "output_type": "stream",
     "text": [
      "/mnt/hdd/streakfull/dl43d/src/models/vgg19.py:122: UserWarning: Implicit dimension choice for softmax has been deprecated. Change the call to include dim=X as an argument.\n",
      "  predictions = nn.functional.softmax(self.out.detach())\n",
      "/mnt/hdd/streakfull/dl43d/src/models/vgg19.py:113: UserWarning: Implicit dimension choice for softmax has been deprecated. Change the call to include dim=X as an argument.\n",
      "  predictions = nn.functional.softmax(self.out.detach())\n",
      "\u001b[93m- Creating new directory v2logs/dev/FullTrainG1.0-2/2024_07_23_01_36_41/visuals/target\u001b[0m\n"
     ]
    },
    {
     "name": "stdout",
     "output_type": "stream",
     "text": [
      "Running Visualizations\n",
      "v2logs/dev/FullTrainG1.0-2/2024_07_23_01_36_41/visuals/target/epoch_0_iter_0.png saved\n",
      "[*] learning rate = 0.0010000\n"
     ]
    },
    {
     "name": "stderr",
     "output_type": "stream",
     "text": [
      "\u001b[93m[000/00000] train_loss: 2.523431\u001b[0m\n"
     ]
    },
    {
     "name": "stdout",
     "output_type": "stream",
     "text": [
      "[*] learning rate = 0.0010000\n",
      "[*] learning rate = 0.0010000\n",
      "[*] learning rate = 0.0010000\n",
      "[*] learning rate = 0.0010000\n",
      "[*] learning rate = 0.0010000\n",
      "[*] learning rate = 0.0010000\n",
      "[*] learning rate = 0.0010000\n",
      "[*] learning rate = 0.0010000\n",
      "[*] learning rate = 0.0010000\n"
     ]
    },
    {
     "name": "stderr",
     "output_type": "stream",
     "text": [
      "\u001b[93m[009/00000] train_loss: 0.000001\u001b[0m\n"
     ]
    },
    {
     "name": "stdout",
     "output_type": "stream",
     "text": [
      "[*] learning rate = 0.0010000\n"
     ]
    }
   ],
   "source": [
    "trainer.train()"
   ]
  },
  {
   "cell_type": "code",
   "execution_count": null,
   "id": "81ab353d",
   "metadata": {},
   "outputs": [],
   "source": []
  }
 ],
 "metadata": {
  "kernelspec": {
   "display_name": "Python 3 (ipykernel)",
   "language": "python",
   "name": "python3"
  },
  "language_info": {
   "codemirror_mode": {
    "name": "ipython",
    "version": 3
   },
   "file_extension": ".py",
   "mimetype": "text/x-python",
   "name": "python",
   "nbconvert_exporter": "python",
   "pygments_lexer": "ipython3",
   "version": "3.10.12"
  }
 },
 "nbformat": 4,
 "nbformat_minor": 5
}
