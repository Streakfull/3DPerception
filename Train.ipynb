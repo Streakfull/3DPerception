{
 "cells": [
  {
   "cell_type": "code",
   "execution_count": 2,
   "id": "e97a1dea",
   "metadata": {},
   "outputs": [
    {
     "name": "stdout",
     "output_type": "stream",
     "text": [
      "The autoreload extension is already loaded. To reload it, use:\n",
      "  %reload_ext autoreload\n",
      "The tensorboard extension is already loaded. To reload it, use:\n",
      "  %reload_ext tensorboard\n",
      "(9667543040, 10385358848)\n",
      "\u001b[94mUsing device:\u001b[0m cuda:0\n",
      "\u001b[94m{'name': 'dev', 'description': 'plz', 'experiment_id': 'FullTrainG1.0-2', 'extra_notes': 'none', 'logs_dir': 'v2logs', 'is_train': True, 'device': 'cuda:0', 'batch_size': 4, 'num_workers': 16, 'test_size': 0.1, 'n_epochs': 50000, 'append_loss_every': 250, 'print_every': 10, 'validate_every': 203300000000000000000000000000000000000000, 'save_every': 2033000000000000000000000000000000000, 'save_every_nepochs': 500000000000000000000000000, 'start_epoch': 0, 'start_iteration': 0, 'visualize_every': 100, 'apply_metrics_every': 2033, 'use_scheduler': True, 'apply_metrics_batch_count': 5, 'load_ckpt': False, 'ckpt_path': 'v2logs/globalPVQVAELPIPS/FullTrain/2024_07_20_22_29_31/checkpoints/epoch-50.ckpt'}\u001b[0m\n",
      "[*] Enc has Attn at i_level, i_block: 3, 0\n",
      "Decoding of shape (1, 256, 8, 8, 8) = 131072 dimensions.\n",
      "[*] Dec has Attn at i_level, i_block: 3, 0\n"
     ]
    },
    {
     "name": "stderr",
     "output_type": "stream",
     "text": [
      "\u001b[93m- Creating new directory v2logs/dev/FullTrainG1.0-2/2024_07_23_01_45_11\u001b[0m\n",
      "\u001b[93m- Creating new directory v2logs/dev/FullTrainG1.0-2/2024_07_23_01_45_11/checkpoints\u001b[0m\n",
      "\u001b[93m- Creating new directory v2logs/dev/FullTrainG1.0-2/2024_07_23_01_45_11/tb\u001b[0m\n",
      "\u001b[93m- Creating new directory v2logs/dev/FullTrainG1.0-2/2024_07_23_01_45_11/visuals\u001b[0m\n",
      "\u001b[93m- Creating new directory v2logs/dev/FullTrainG1.0-2/2024_07_23_01_45_11/modelsummary\u001b[0m\n"
     ]
    },
    {
     "name": "stdout",
     "output_type": "stream",
     "text": [
      "\u001b[92mVGG loaded from logs/VGG/trainFull/2024_07_01_17_50_17/checkpoints/epoch-36.ckpt\u001b[0m\n",
      "Model loaded from logs/globalPVQVAEVGGDisc/LinearDiscExp3G1.0e-2@25kBoth/2024_07_10_19_13_37/checkpoints/epoch-best.ckpt\n",
      "\u001b[94mUsing device:\u001b[0m cuda:0\n",
      "Dataset length:  4\n",
      "(9231335424, 10385358848)\n"
     ]
    },
    {
     "data": {
      "text/plain": [
       "'tensorboard --logdir v2logs/dev/FullTrainG1.0-2/2024_07_23_01_45_11/tb --bind_all'"
      ]
     },
     "execution_count": 2,
     "metadata": {},
     "output_type": "execute_result"
    }
   ],
   "source": [
    "from src.training.ModelTrainer import ModelTrainer\n",
    "#from src.datasets.shape_net.shape_net_v3_sdf import ShapeNetV3SDF\n",
    "from src.datasets.shape_net.shape_net_v2_sdf import ShapeNetV2SDF\n",
    "from src.utils.util import seed_all\n",
    "from src.utils.visualizations import visualize_sdf_as_mesh\n",
    "import numpy as np\n",
    "import torch\n",
    "%load_ext autoreload\n",
    "%load_ext tensorboard\n",
    "%autoreload 2\n",
    "seed_all(111)\n",
    "x = torch.cuda.mem_get_info()\n",
    "print(x)\n",
    "trainer = ModelTrainer(dataset_type=ShapeNetV2SDF,\n",
    "                       options={\"tdm_notebook\": True})\n",
    "\n",
    "dataset = trainer.data_loader_handler.dataset\n",
    "print(\"Dataset length: \", len(dataset))\n",
    "torch.cuda.empty_cache()\n",
    "print(torch.cuda.mem_get_info())\n",
    "model = trainer.model\n",
    "model\n",
    "str(trainer.logger.experiment_dir)\n",
    "exp = f\"{str(trainer.logger.experiment_dir)}/tb\"\n",
    "exp\n",
    "#!tensorboard --logdir exp --|bind_all\n",
    "f\"tensorboard --logdir {exp} --bind_all\""
   ]
  },
  {
   "cell_type": "code",
   "execution_count": null,
   "id": "8c8f69e4",
   "metadata": {},
   "outputs": [
    {
     "data": {
      "application/vnd.jupyter.widget-view+json": {
       "model_id": "2f3b61e763494b0691130d217a77c0d6",
       "version_major": 2,
       "version_minor": 0
      },
      "text/plain": [
       "  0%|          | 0/50000 [00:00<?, ?it/s]"
      ]
     },
     "metadata": {},
     "output_type": "display_data"
    },
    {
     "data": {
      "application/vnd.jupyter.widget-view+json": {
       "model_id": "71b9e4a748094345ab5ad411e1723184",
       "version_major": 2,
       "version_minor": 0
      },
      "text/plain": [
       "[*] autoregressively inferencing...:   0%|          | 0/512 [00:00<?, ?it/s]"
      ]
     },
     "metadata": {},
     "output_type": "display_data"
    },
    {
     "name": "stdout",
     "output_type": "stream",
     "text": [
      "Running Visualizations\n",
      "v2logs/dev/FullTrainG1.0-2/2024_07_23_01_45_11/visuals/reconstructions_tf/epoch_0_iter_0.png saved\n"
     ]
    },
    {
     "name": "stderr",
     "output_type": "stream",
     "text": [
      "\u001b[93m- Creating new directory v2logs/dev/FullTrainG1.0-2/2024_07_23_01_45_11/visuals/reconstructions_tf\u001b[0m\n",
      "\u001b[93m- Creating new directory v2logs/dev/FullTrainG1.0-2/2024_07_23_01_45_11/visuals/reconstructions_pvqvae\u001b[0m\n"
     ]
    },
    {
     "name": "stdout",
     "output_type": "stream",
     "text": [
      "v2logs/dev/FullTrainG1.0-2/2024_07_23_01_45_11/visuals/reconstructions_pvqvae/epoch_0_iter_0.png saved\n",
      "v2logs/dev/FullTrainG1.0-2/2024_07_23_01_45_11/visuals/target/epoch_0_iter_0.png saved\n",
      "v2logs/dev/FullTrainG1.0-2/2024_07_23_01_45_11/visuals/generated/epoch_0_iter_0.png saved\n",
      "[*] learning rate = 0.0001000\n"
     ]
    },
    {
     "name": "stderr",
     "output_type": "stream",
     "text": [
      "\u001b[93m- Creating new directory v2logs/dev/FullTrainG1.0-2/2024_07_23_01_45_11/visuals/target\u001b[0m\n",
      "\u001b[93m- Creating new directory v2logs/dev/FullTrainG1.0-2/2024_07_23_01_45_11/visuals/generated\u001b[0m\n",
      "\u001b[93m[000/00000] train_loss: 6.344564\u001b[0m\n"
     ]
    },
    {
     "name": "stdout",
     "output_type": "stream",
     "text": [
      "[*] learning rate = 0.0001000\n",
      "[*] learning rate = 0.0001000\n",
      "[*] learning rate = 0.0001000\n",
      "[*] learning rate = 0.0001000\n",
      "[*] learning rate = 0.0001000\n",
      "[*] learning rate = 0.0001000\n",
      "[*] learning rate = 0.0001000\n",
      "[*] learning rate = 0.0001000\n",
      "[*] learning rate = 0.0001000\n"
     ]
    },
    {
     "name": "stderr",
     "output_type": "stream",
     "text": [
      "\u001b[93m[009/00000] train_loss: 2.394976\u001b[0m\n"
     ]
    },
    {
     "name": "stdout",
     "output_type": "stream",
     "text": [
      "[*] learning rate = 0.0001000\n",
      "[*] learning rate = 0.0001000\n",
      "[*] learning rate = 0.0001000\n",
      "[*] learning rate = 0.0001000\n",
      "[*] learning rate = 0.0001000\n",
      "[*] learning rate = 0.0001000\n",
      "[*] learning rate = 0.0001000\n",
      "[*] learning rate = 0.0001000\n",
      "[*] learning rate = 0.0001000\n",
      "[*] learning rate = 0.0001000\n"
     ]
    },
    {
     "name": "stderr",
     "output_type": "stream",
     "text": [
      "\u001b[93m[019/00000] train_loss: 2.191446\u001b[0m\n"
     ]
    },
    {
     "name": "stdout",
     "output_type": "stream",
     "text": [
      "[*] learning rate = 0.0001000\n",
      "[*] learning rate = 0.0001000\n",
      "[*] learning rate = 0.0001000\n",
      "[*] learning rate = 0.0001000\n",
      "[*] learning rate = 0.0001000\n",
      "[*] learning rate = 0.0001000\n",
      "[*] learning rate = 0.0001000\n",
      "[*] learning rate = 0.0001000\n",
      "[*] learning rate = 0.0001000\n",
      "[*] learning rate = 0.0000900\n"
     ]
    },
    {
     "name": "stderr",
     "output_type": "stream",
     "text": [
      "\u001b[93m[029/00000] train_loss: 2.107722\u001b[0m\n"
     ]
    },
    {
     "name": "stdout",
     "output_type": "stream",
     "text": [
      "[*] learning rate = 0.0000900\n",
      "[*] learning rate = 0.0000900\n",
      "[*] learning rate = 0.0000900\n",
      "[*] learning rate = 0.0000900\n",
      "[*] learning rate = 0.0000900\n",
      "[*] learning rate = 0.0000900\n",
      "[*] learning rate = 0.0000900\n",
      "[*] learning rate = 0.0000900\n",
      "[*] learning rate = 0.0000900\n",
      "[*] learning rate = 0.0000900\n"
     ]
    },
    {
     "name": "stderr",
     "output_type": "stream",
     "text": [
      "\u001b[93m[039/00000] train_loss: 2.074924\u001b[0m\n"
     ]
    },
    {
     "name": "stdout",
     "output_type": "stream",
     "text": [
      "[*] learning rate = 0.0000900\n",
      "[*] learning rate = 0.0000900\n",
      "[*] learning rate = 0.0000900\n",
      "[*] learning rate = 0.0000900\n",
      "[*] learning rate = 0.0000900\n",
      "[*] learning rate = 0.0000900\n",
      "[*] learning rate = 0.0000900\n",
      "[*] learning rate = 0.0000900\n",
      "[*] learning rate = 0.0000900\n",
      "[*] learning rate = 0.0000900\n"
     ]
    },
    {
     "name": "stderr",
     "output_type": "stream",
     "text": [
      "\u001b[93m[049/00000] train_loss: 2.063242\u001b[0m\n"
     ]
    },
    {
     "name": "stdout",
     "output_type": "stream",
     "text": [
      "[*] learning rate = 0.0000900\n",
      "[*] learning rate = 0.0000900\n",
      "[*] learning rate = 0.0000900\n",
      "[*] learning rate = 0.0000900\n",
      "[*] learning rate = 0.0000900\n",
      "[*] learning rate = 0.0000900\n",
      "[*] learning rate = 0.0000900\n",
      "[*] learning rate = 0.0000900\n",
      "[*] learning rate = 0.0000900\n",
      "[*] learning rate = 0.0000810\n"
     ]
    },
    {
     "name": "stderr",
     "output_type": "stream",
     "text": [
      "\u001b[93m[059/00000] train_loss: 2.058015\u001b[0m\n"
     ]
    },
    {
     "name": "stdout",
     "output_type": "stream",
     "text": [
      "[*] learning rate = 0.0000810\n",
      "[*] learning rate = 0.0000810\n",
      "[*] learning rate = 0.0000810\n",
      "[*] learning rate = 0.0000810\n",
      "[*] learning rate = 0.0000810\n",
      "[*] learning rate = 0.0000810\n",
      "[*] learning rate = 0.0000810\n",
      "[*] learning rate = 0.0000810\n",
      "[*] learning rate = 0.0000810\n",
      "[*] learning rate = 0.0000810\n"
     ]
    },
    {
     "name": "stderr",
     "output_type": "stream",
     "text": [
      "\u001b[93m[069/00000] train_loss: 2.055119\u001b[0m\n"
     ]
    },
    {
     "name": "stdout",
     "output_type": "stream",
     "text": [
      "[*] learning rate = 0.0000810\n",
      "[*] learning rate = 0.0000810\n",
      "[*] learning rate = 0.0000810\n",
      "[*] learning rate = 0.0000810\n",
      "[*] learning rate = 0.0000810\n",
      "[*] learning rate = 0.0000810\n",
      "[*] learning rate = 0.0000810\n",
      "[*] learning rate = 0.0000810\n",
      "[*] learning rate = 0.0000810\n",
      "[*] learning rate = 0.0000810\n"
     ]
    },
    {
     "name": "stderr",
     "output_type": "stream",
     "text": [
      "\u001b[93m[079/00000] train_loss: 2.051070\u001b[0m\n"
     ]
    },
    {
     "name": "stdout",
     "output_type": "stream",
     "text": [
      "[*] learning rate = 0.0000810\n",
      "[*] learning rate = 0.0000810\n",
      "[*] learning rate = 0.0000810\n",
      "[*] learning rate = 0.0000810\n",
      "[*] learning rate = 0.0000810\n",
      "[*] learning rate = 0.0000810\n",
      "[*] learning rate = 0.0000810\n",
      "[*] learning rate = 0.0000810\n",
      "[*] learning rate = 0.0000810\n",
      "[*] learning rate = 0.0000729\n"
     ]
    },
    {
     "name": "stderr",
     "output_type": "stream",
     "text": [
      "\u001b[93m[089/00000] train_loss: 2.046837\u001b[0m\n"
     ]
    },
    {
     "name": "stdout",
     "output_type": "stream",
     "text": [
      "[*] learning rate = 0.0000729\n",
      "[*] learning rate = 0.0000729\n",
      "[*] learning rate = 0.0000729\n",
      "[*] learning rate = 0.0000729\n",
      "[*] learning rate = 0.0000729\n",
      "[*] learning rate = 0.0000729\n",
      "[*] learning rate = 0.0000729\n",
      "[*] learning rate = 0.0000729\n",
      "[*] learning rate = 0.0000729\n"
     ]
    },
    {
     "data": {
      "application/vnd.jupyter.widget-view+json": {
       "model_id": "c6ca5ab48e274da6b8ef6e1178e67ea1",
       "version_major": 2,
       "version_minor": 0
      },
      "text/plain": [
       "[*] autoregressively inferencing...:   0%|          | 0/512 [00:00<?, ?it/s]"
      ]
     },
     "metadata": {},
     "output_type": "display_data"
    },
    {
     "name": "stdout",
     "output_type": "stream",
     "text": [
      "Running Visualizations\n",
      "v2logs/dev/FullTrainG1.0-2/2024_07_23_01_45_11/visuals/reconstructions_tf/epoch_99_iter_99.png saved\n",
      "v2logs/dev/FullTrainG1.0-2/2024_07_23_01_45_11/visuals/reconstructions_pvqvae/epoch_99_iter_99.png saved\n",
      "v2logs/dev/FullTrainG1.0-2/2024_07_23_01_45_11/visuals/target/epoch_99_iter_99.png saved\n",
      "v2logs/dev/FullTrainG1.0-2/2024_07_23_01_45_11/visuals/generated/epoch_99_iter_99.png saved\n",
      "[*] learning rate = 0.0000729\n"
     ]
    },
    {
     "name": "stderr",
     "output_type": "stream",
     "text": [
      "\u001b[93m[099/00000] train_loss: 2.044460\u001b[0m\n"
     ]
    },
    {
     "name": "stdout",
     "output_type": "stream",
     "text": [
      "[*] learning rate = 0.0000729\n",
      "[*] learning rate = 0.0000729\n",
      "[*] learning rate = 0.0000729\n",
      "[*] learning rate = 0.0000729\n",
      "[*] learning rate = 0.0000729\n",
      "[*] learning rate = 0.0000729\n",
      "[*] learning rate = 0.0000729\n",
      "[*] learning rate = 0.0000729\n",
      "[*] learning rate = 0.0000729\n",
      "[*] learning rate = 0.0000729\n"
     ]
    },
    {
     "name": "stderr",
     "output_type": "stream",
     "text": [
      "\u001b[93m[109/00000] train_loss: 2.043283\u001b[0m\n"
     ]
    },
    {
     "name": "stdout",
     "output_type": "stream",
     "text": [
      "[*] learning rate = 0.0000729\n",
      "[*] learning rate = 0.0000729\n",
      "[*] learning rate = 0.0000729\n",
      "[*] learning rate = 0.0000729\n",
      "[*] learning rate = 0.0000729\n",
      "[*] learning rate = 0.0000729\n",
      "[*] learning rate = 0.0000729\n",
      "[*] learning rate = 0.0000729\n",
      "[*] learning rate = 0.0000729\n",
      "[*] learning rate = 0.0000656\n"
     ]
    },
    {
     "name": "stderr",
     "output_type": "stream",
     "text": [
      "\u001b[93m[119/00000] train_loss: 2.043622\u001b[0m\n"
     ]
    },
    {
     "name": "stdout",
     "output_type": "stream",
     "text": [
      "[*] learning rate = 0.0000656\n",
      "[*] learning rate = 0.0000656\n",
      "[*] learning rate = 0.0000656\n",
      "[*] learning rate = 0.0000656\n",
      "[*] learning rate = 0.0000656\n",
      "[*] learning rate = 0.0000656\n",
      "[*] learning rate = 0.0000656\n",
      "[*] learning rate = 0.0000656\n",
      "[*] learning rate = 0.0000656\n",
      "[*] learning rate = 0.0000656\n"
     ]
    },
    {
     "name": "stderr",
     "output_type": "stream",
     "text": [
      "\u001b[93m[129/00000] train_loss: 2.043052\u001b[0m\n"
     ]
    },
    {
     "name": "stdout",
     "output_type": "stream",
     "text": [
      "[*] learning rate = 0.0000656\n",
      "[*] learning rate = 0.0000656\n",
      "[*] learning rate = 0.0000656\n",
      "[*] learning rate = 0.0000656\n",
      "[*] learning rate = 0.0000656\n",
      "[*] learning rate = 0.0000656\n",
      "[*] learning rate = 0.0000656\n",
      "[*] learning rate = 0.0000656\n",
      "[*] learning rate = 0.0000656\n",
      "[*] learning rate = 0.0000656\n"
     ]
    },
    {
     "name": "stderr",
     "output_type": "stream",
     "text": [
      "\u001b[93m[139/00000] train_loss: 2.041158\u001b[0m\n"
     ]
    },
    {
     "name": "stdout",
     "output_type": "stream",
     "text": [
      "[*] learning rate = 0.0000656\n",
      "[*] learning rate = 0.0000656\n",
      "[*] learning rate = 0.0000656\n",
      "[*] learning rate = 0.0000656\n",
      "[*] learning rate = 0.0000656\n",
      "[*] learning rate = 0.0000656\n",
      "[*] learning rate = 0.0000656\n",
      "[*] learning rate = 0.0000656\n",
      "[*] learning rate = 0.0000656\n",
      "[*] learning rate = 0.0000590\n"
     ]
    },
    {
     "name": "stderr",
     "output_type": "stream",
     "text": [
      "\u001b[93m[149/00000] train_loss: 2.042840\u001b[0m\n"
     ]
    },
    {
     "name": "stdout",
     "output_type": "stream",
     "text": [
      "[*] learning rate = 0.0000590\n",
      "[*] learning rate = 0.0000590\n",
      "[*] learning rate = 0.0000590\n",
      "[*] learning rate = 0.0000590\n",
      "[*] learning rate = 0.0000590\n",
      "[*] learning rate = 0.0000590\n",
      "[*] learning rate = 0.0000590\n",
      "[*] learning rate = 0.0000590\n",
      "[*] learning rate = 0.0000590\n",
      "[*] learning rate = 0.0000590\n"
     ]
    },
    {
     "name": "stderr",
     "output_type": "stream",
     "text": [
      "\u001b[93m[159/00000] train_loss: 2.044436\u001b[0m\n"
     ]
    },
    {
     "name": "stdout",
     "output_type": "stream",
     "text": [
      "[*] learning rate = 0.0000590\n",
      "[*] learning rate = 0.0000590\n",
      "[*] learning rate = 0.0000590\n",
      "[*] learning rate = 0.0000590\n",
      "[*] learning rate = 0.0000590\n",
      "[*] learning rate = 0.0000590\n",
      "[*] learning rate = 0.0000590\n",
      "[*] learning rate = 0.0000590\n",
      "[*] learning rate = 0.0000590\n",
      "[*] learning rate = 0.0000590\n"
     ]
    },
    {
     "name": "stderr",
     "output_type": "stream",
     "text": [
      "\u001b[93m[169/00000] train_loss: 2.040316\u001b[0m\n"
     ]
    },
    {
     "name": "stdout",
     "output_type": "stream",
     "text": [
      "[*] learning rate = 0.0000590\n",
      "[*] learning rate = 0.0000590\n",
      "[*] learning rate = 0.0000590\n",
      "[*] learning rate = 0.0000590\n",
      "[*] learning rate = 0.0000590\n",
      "[*] learning rate = 0.0000590\n",
      "[*] learning rate = 0.0000590\n",
      "[*] learning rate = 0.0000590\n",
      "[*] learning rate = 0.0000590\n",
      "[*] learning rate = 0.0000531\n"
     ]
    },
    {
     "name": "stderr",
     "output_type": "stream",
     "text": [
      "\u001b[93m[179/00000] train_loss: 2.041084\u001b[0m\n"
     ]
    },
    {
     "name": "stdout",
     "output_type": "stream",
     "text": [
      "[*] learning rate = 0.0000531\n",
      "[*] learning rate = 0.0000531\n",
      "[*] learning rate = 0.0000531\n",
      "[*] learning rate = 0.0000531\n",
      "[*] learning rate = 0.0000531\n",
      "[*] learning rate = 0.0000531\n",
      "[*] learning rate = 0.0000531\n",
      "[*] learning rate = 0.0000531\n",
      "[*] learning rate = 0.0000531\n",
      "[*] learning rate = 0.0000531\n"
     ]
    },
    {
     "name": "stderr",
     "output_type": "stream",
     "text": [
      "\u001b[93m[189/00000] train_loss: 2.039097\u001b[0m\n"
     ]
    },
    {
     "name": "stdout",
     "output_type": "stream",
     "text": [
      "[*] learning rate = 0.0000531\n",
      "[*] learning rate = 0.0000531\n",
      "[*] learning rate = 0.0000531\n",
      "[*] learning rate = 0.0000531\n",
      "[*] learning rate = 0.0000531\n",
      "[*] learning rate = 0.0000531\n",
      "[*] learning rate = 0.0000531\n",
      "[*] learning rate = 0.0000531\n",
      "[*] learning rate = 0.0000531\n"
     ]
    },
    {
     "data": {
      "application/vnd.jupyter.widget-view+json": {
       "model_id": "db2d3101ea154c2f9a6309401a455720",
       "version_major": 2,
       "version_minor": 0
      },
      "text/plain": [
       "[*] autoregressively inferencing...:   0%|          | 0/512 [00:00<?, ?it/s]"
      ]
     },
     "metadata": {},
     "output_type": "display_data"
    },
    {
     "name": "stdout",
     "output_type": "stream",
     "text": [
      "Running Visualizations\n",
      "v2logs/dev/FullTrainG1.0-2/2024_07_23_01_45_11/visuals/reconstructions_tf/epoch_199_iter_199.png saved\n",
      "v2logs/dev/FullTrainG1.0-2/2024_07_23_01_45_11/visuals/reconstructions_pvqvae/epoch_199_iter_199.png saved\n",
      "v2logs/dev/FullTrainG1.0-2/2024_07_23_01_45_11/visuals/target/epoch_199_iter_199.png saved\n",
      "v2logs/dev/FullTrainG1.0-2/2024_07_23_01_45_11/visuals/generated/epoch_199_iter_199.png saved\n",
      "[*] learning rate = 0.0000531\n"
     ]
    },
    {
     "name": "stderr",
     "output_type": "stream",
     "text": [
      "\u001b[93m[199/00000] train_loss: 2.037935\u001b[0m\n"
     ]
    },
    {
     "name": "stdout",
     "output_type": "stream",
     "text": [
      "[*] learning rate = 0.0000531\n",
      "[*] learning rate = 0.0000531\n",
      "[*] learning rate = 0.0000531\n",
      "[*] learning rate = 0.0000531\n",
      "[*] learning rate = 0.0000531\n"
     ]
    }
   ],
   "source": [
    "trainer.train()"
   ]
  },
  {
   "cell_type": "code",
   "execution_count": null,
   "id": "454c5d18",
   "metadata": {},
   "outputs": [],
   "source": []
  }
 ],
 "metadata": {
  "kernelspec": {
   "display_name": "Python 3 (ipykernel)",
   "language": "python",
   "name": "python3"
  },
  "language_info": {
   "codemirror_mode": {
    "name": "ipython",
    "version": 3
   },
   "file_extension": ".py",
   "mimetype": "text/x-python",
   "name": "python",
   "nbconvert_exporter": "python",
   "pygments_lexer": "ipython3",
   "version": "3.10.12"
  }
 },
 "nbformat": 4,
 "nbformat_minor": 5
}
