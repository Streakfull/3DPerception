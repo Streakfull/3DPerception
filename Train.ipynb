{
 "cells": [
  {
   "cell_type": "code",
   "execution_count": 1,
   "id": "34dc92cc",
   "metadata": {},
   "outputs": [
    {
     "name": "stdout",
     "output_type": "stream",
     "text": [
      "(10120527872, 10385358848)\n",
      "\u001b[94mUsing device:\u001b[0m cuda:0\n",
      "\u001b[94m{'name': 'dev', 'description': 'plz', 'experiment_id': 'FullTrainG1.0-2', 'extra_notes': 'none', 'logs_dir': 'v2logs', 'is_train': True, 'device': 'cuda:0', 'batch_size': 3, 'num_workers': 16, 'test_size': 0.1, 'n_epochs': 50000, 'append_loss_every': 250, 'print_every': 10, 'validate_every': 203300000000000000000000000000000000000000, 'save_every': 2033000000000000000000000000000000000, 'save_every_nepochs': 500000000000000000000000000, 'start_epoch': 0, 'start_iteration': 0, 'visualize_every': 100, 'apply_metrics_every': 2033, 'use_scheduler': True, 'apply_metrics_batch_count': 5, 'load_ckpt': False, 'ckpt_path': 'v2logs/globalPVQVAELPIPS/FullTrain/2024_07_20_22_29_31/checkpoints/epoch-50.ckpt'}\u001b[0m\n"
     ]
    },
    {
     "name": "stderr",
     "output_type": "stream",
     "text": [
      "\u001b[93m- Creating new directory v2logs/dev/FullTrainG1.0-2/2024_07_23_01_26_51\u001b[0m\n",
      "\u001b[93m- Creating new directory v2logs/dev/FullTrainG1.0-2/2024_07_23_01_26_51/checkpoints\u001b[0m\n",
      "\u001b[93m- Creating new directory v2logs/dev/FullTrainG1.0-2/2024_07_23_01_26_51/tb\u001b[0m\n",
      "\u001b[93m- Creating new directory v2logs/dev/FullTrainG1.0-2/2024_07_23_01_26_51/visuals\u001b[0m\n",
      "\u001b[93m- Creating new directory v2logs/dev/FullTrainG1.0-2/2024_07_23_01_26_51/modelsummary\u001b[0m\n"
     ]
    },
    {
     "name": "stdout",
     "output_type": "stream",
     "text": [
      "Jupyter environment detected. Enabling Open3D WebVisualizer.\n",
      "[Open3D INFO] WebRTC GUI backend enabled.\n",
      "[Open3D INFO] WebRTCWindowSystem: HTTP handshake server disabled.\n",
      "[*] Enc has Attn at i_level, i_block: 3, 0\n",
      "[*] Enc has Attn at i_level, i_block: 4, 0\n",
      "Decoding of shape (1, 512, 4, 4, 4) = 32768 dimensions.\n",
      "[*] Dec has Attn at i_level, i_block: 4, 0\n",
      "[*] Dec has Attn at i_level, i_block: 3, 0\n",
      "\u001b[94mUsing device:\u001b[0m cuda:0\n",
      "Model size: 490.403MB\n",
      "Total_params: 1.29e+02M\n",
      "Dataset length:  1\n",
      "(9482993664, 10385358848)\n"
     ]
    },
    {
     "data": {
      "text/plain": [
       "'tensorboard --logdir v2logs/dev/FullTrainG1.0-2/2024_07_23_01_26_51/tb --bind_all'"
      ]
     },
     "execution_count": 1,
     "metadata": {},
     "output_type": "execute_result"
    }
   ],
   "source": [
    "from src.training.ModelTrainer import ModelTrainer\n",
    "#from src.datasets.shape_net.shape_net_v3_sdf import ShapeNetV3SDF\n",
    "from src.datasets.shape_net.shape_net_v2_sdf import ShapeNetV2SDF\n",
    "from src.utils.util import seed_all\n",
    "from src.utils.visualizations import visualize_sdf_as_mesh\n",
    "import numpy as np\n",
    "import torch\n",
    "%load_ext autoreload\n",
    "%load_ext tensorboard\n",
    "%autoreload 2\n",
    "seed_all(111)\n",
    "x = torch.cuda.mem_get_info()\n",
    "print(x)\n",
    "trainer = ModelTrainer(dataset_type=ShapeNetV2SDF,\n",
    "                       options={\"tdm_notebook\": True})\n",
    "\n",
    "dataset = trainer.data_loader_handler.dataset\n",
    "print(\"Dataset length: \", len(dataset))\n",
    "torch.cuda.empty_cache()\n",
    "print(torch.cuda.mem_get_info())\n",
    "model = trainer.model\n",
    "model\n",
    "str(trainer.logger.experiment_dir)\n",
    "exp = f\"{str(trainer.logger.experiment_dir)}/tb\"\n",
    "exp\n",
    "#!tensorboard --logdir exp --|bind_all\n",
    "f\"tensorboard --logdir {exp} --bind_all\""
   ]
  },
  {
   "cell_type": "code",
   "execution_count": null,
   "id": "708c4e60",
   "metadata": {},
   "outputs": [
    {
     "data": {
      "application/vnd.jupyter.widget-view+json": {
       "model_id": "772cd8a5f7364e83bc52b8c1c4557911",
       "version_major": 2,
       "version_minor": 0
      },
      "text/plain": [
       "  0%|          | 0/50000 [00:00<?, ?it/s]"
      ]
     },
     "metadata": {},
     "output_type": "display_data"
    },
    {
     "name": "stdout",
     "output_type": "stream",
     "text": [
      "Running Visualizations\n",
      "v2logs/dev/FullTrainG1.0-2/2024_07_23_01_26_51/visuals/reconstructions/epoch_0_iter_0.png saved\n",
      "v2logs/dev/FullTrainG1.0-2/2024_07_23_01_26_51/visuals/target/epoch_0_iter_0.png saved\n"
     ]
    },
    {
     "name": "stderr",
     "output_type": "stream",
     "text": [
      "\u001b[93m- Creating new directory v2logs/dev/FullTrainG1.0-2/2024_07_23_01_26_51/visuals/reconstructions\u001b[0m\n",
      "\u001b[93m- Creating new directory v2logs/dev/FullTrainG1.0-2/2024_07_23_01_26_51/visuals/target\u001b[0m\n",
      "\u001b[93m- Creating new directory v2logs/dev/FullTrainG1.0-2/2024_07_23_01_26_51/visuals/samples\u001b[0m\n"
     ]
    },
    {
     "name": "stdout",
     "output_type": "stream",
     "text": [
      "v2logs/dev/FullTrainG1.0-2/2024_07_23_01_26_51/visuals/samples/epoch_0_iter_0.png saved\n",
      "[*] learning rate = 0.0001000\n"
     ]
    },
    {
     "name": "stderr",
     "output_type": "stream",
     "text": [
      "\u001b[93m[000/00000] train_loss: 0.715183\u001b[0m\n"
     ]
    },
    {
     "name": "stdout",
     "output_type": "stream",
     "text": [
      "[*] learning rate = 0.0001000\n",
      "[*] learning rate = 0.0001000\n",
      "[*] learning rate = 0.0001000\n",
      "[*] learning rate = 0.0001000\n",
      "[*] learning rate = 0.0001000\n",
      "[*] learning rate = 0.0001000\n",
      "[*] learning rate = 0.0001000\n",
      "[*] learning rate = 0.0001000\n",
      "[*] learning rate = 0.0001000\n"
     ]
    },
    {
     "name": "stderr",
     "output_type": "stream",
     "text": [
      "\u001b[93m[009/00000] train_loss: 0.182827\u001b[0m\n"
     ]
    },
    {
     "name": "stdout",
     "output_type": "stream",
     "text": [
      "[*] learning rate = 0.0001000\n",
      "[*] learning rate = 0.0001000\n",
      "[*] learning rate = 0.0001000\n",
      "[*] learning rate = 0.0001000\n",
      "[*] learning rate = 0.0001000\n",
      "[*] learning rate = 0.0001000\n",
      "[*] learning rate = 0.0001000\n",
      "[*] learning rate = 0.0001000\n",
      "[*] learning rate = 0.0001000\n",
      "[*] learning rate = 0.0001000\n"
     ]
    },
    {
     "name": "stderr",
     "output_type": "stream",
     "text": [
      "\u001b[93m[019/00000] train_loss: 0.169006\u001b[0m\n"
     ]
    },
    {
     "name": "stdout",
     "output_type": "stream",
     "text": [
      "[*] learning rate = 0.0001000\n",
      "[*] learning rate = 0.0001000\n",
      "[*] learning rate = 0.0001000\n",
      "[*] learning rate = 0.0001000\n",
      "[*] learning rate = 0.0001000\n",
      "[*] learning rate = 0.0001000\n",
      "[*] learning rate = 0.0001000\n",
      "[*] learning rate = 0.0001000\n",
      "[*] learning rate = 0.0001000\n",
      "[*] learning rate = 0.0001000\n"
     ]
    },
    {
     "name": "stderr",
     "output_type": "stream",
     "text": [
      "\u001b[93m[029/00000] train_loss: 0.107096\u001b[0m\n"
     ]
    },
    {
     "name": "stdout",
     "output_type": "stream",
     "text": [
      "[*] learning rate = 0.0001000\n",
      "[*] learning rate = 0.0001000\n",
      "[*] learning rate = 0.0001000\n",
      "[*] learning rate = 0.0001000\n",
      "[*] learning rate = 0.0001000\n",
      "[*] learning rate = 0.0001000\n",
      "[*] learning rate = 0.0001000\n",
      "[*] learning rate = 0.0001000\n",
      "[*] learning rate = 0.0001000\n",
      "[*] learning rate = 0.0001000\n"
     ]
    },
    {
     "name": "stderr",
     "output_type": "stream",
     "text": [
      "\u001b[93m[039/00000] train_loss: 0.109535\u001b[0m\n"
     ]
    },
    {
     "name": "stdout",
     "output_type": "stream",
     "text": [
      "[*] learning rate = 0.0001000\n",
      "[*] learning rate = 0.0001000\n",
      "[*] learning rate = 0.0001000\n",
      "[*] learning rate = 0.0001000\n",
      "[*] learning rate = 0.0001000\n",
      "[*] learning rate = 0.0001000\n",
      "[*] learning rate = 0.0001000\n",
      "[*] learning rate = 0.0001000\n",
      "[*] learning rate = 0.0001000\n",
      "[*] learning rate = 0.0001000\n"
     ]
    },
    {
     "name": "stderr",
     "output_type": "stream",
     "text": [
      "\u001b[93m[049/00000] train_loss: 0.116676\u001b[0m\n"
     ]
    },
    {
     "name": "stdout",
     "output_type": "stream",
     "text": [
      "[*] learning rate = 0.0001000\n",
      "[*] learning rate = 0.0001000\n",
      "[*] learning rate = 0.0001000\n",
      "[*] learning rate = 0.0001000\n",
      "[*] learning rate = 0.0001000\n",
      "[*] learning rate = 0.0001000\n",
      "[*] learning rate = 0.0001000\n",
      "[*] learning rate = 0.0001000\n",
      "[*] learning rate = 0.0001000\n",
      "[*] learning rate = 0.0001000\n"
     ]
    },
    {
     "name": "stderr",
     "output_type": "stream",
     "text": [
      "\u001b[93m[059/00000] train_loss: 0.081229\u001b[0m\n"
     ]
    },
    {
     "name": "stdout",
     "output_type": "stream",
     "text": [
      "[*] learning rate = 0.0001000\n",
      "[*] learning rate = 0.0001000\n",
      "[*] learning rate = 0.0001000\n",
      "[*] learning rate = 0.0001000\n",
      "[*] learning rate = 0.0001000\n",
      "[*] learning rate = 0.0001000\n",
      "[*] learning rate = 0.0001000\n",
      "[*] learning rate = 0.0001000\n",
      "[*] learning rate = 0.0001000\n",
      "[*] learning rate = 0.0001000\n"
     ]
    },
    {
     "name": "stderr",
     "output_type": "stream",
     "text": [
      "\u001b[93m[069/00000] train_loss: 0.065576\u001b[0m\n"
     ]
    },
    {
     "name": "stdout",
     "output_type": "stream",
     "text": [
      "[*] learning rate = 0.0001000\n",
      "[*] learning rate = 0.0001000\n",
      "[*] learning rate = 0.0001000\n",
      "[*] learning rate = 0.0001000\n",
      "[*] learning rate = 0.0001000\n",
      "[*] learning rate = 0.0001000\n",
      "[*] learning rate = 0.0001000\n",
      "[*] learning rate = 0.0001000\n",
      "[*] learning rate = 0.0001000\n",
      "[*] learning rate = 0.0001000\n"
     ]
    },
    {
     "name": "stderr",
     "output_type": "stream",
     "text": [
      "\u001b[93m[079/00000] train_loss: 0.067176\u001b[0m\n"
     ]
    },
    {
     "name": "stdout",
     "output_type": "stream",
     "text": [
      "[*] learning rate = 0.0001000\n",
      "[*] learning rate = 0.0001000\n",
      "[*] learning rate = 0.0001000\n",
      "[*] learning rate = 0.0001000\n",
      "[*] learning rate = 0.0001000\n",
      "[*] learning rate = 0.0001000\n",
      "[*] learning rate = 0.0001000\n",
      "[*] learning rate = 0.0001000\n",
      "[*] learning rate = 0.0001000\n",
      "[*] learning rate = 0.0001000\n"
     ]
    },
    {
     "name": "stderr",
     "output_type": "stream",
     "text": [
      "\u001b[93m[089/00000] train_loss: 0.061795\u001b[0m\n"
     ]
    },
    {
     "name": "stdout",
     "output_type": "stream",
     "text": [
      "[*] learning rate = 0.0001000\n",
      "[*] learning rate = 0.0001000\n",
      "[*] learning rate = 0.0001000\n",
      "[*] learning rate = 0.0001000\n",
      "[*] learning rate = 0.0001000\n",
      "[*] learning rate = 0.0001000\n",
      "[*] learning rate = 0.0001000\n",
      "[*] learning rate = 0.0001000\n",
      "[*] learning rate = 0.0001000\n",
      "Running Visualizations\n",
      "v2logs/dev/FullTrainG1.0-2/2024_07_23_01_26_51/visuals/reconstructions/epoch_99_iter_99.png saved\n",
      "v2logs/dev/FullTrainG1.0-2/2024_07_23_01_26_51/visuals/target/epoch_99_iter_99.png saved\n",
      "v2logs/dev/FullTrainG1.0-2/2024_07_23_01_26_51/visuals/samples/epoch_99_iter_99.png saved\n",
      "[*] learning rate = 0.0001000\n"
     ]
    },
    {
     "name": "stderr",
     "output_type": "stream",
     "text": [
      "\u001b[93m[099/00000] train_loss: 0.046492\u001b[0m\n"
     ]
    },
    {
     "name": "stdout",
     "output_type": "stream",
     "text": [
      "[*] learning rate = 0.0001000\n",
      "[*] learning rate = 0.0001000\n",
      "[*] learning rate = 0.0001000\n",
      "[*] learning rate = 0.0001000\n",
      "[*] learning rate = 0.0001000\n",
      "[*] learning rate = 0.0001000\n",
      "[*] learning rate = 0.0001000\n",
      "[*] learning rate = 0.0001000\n",
      "[*] learning rate = 0.0001000\n",
      "[*] learning rate = 0.0001000\n"
     ]
    },
    {
     "name": "stderr",
     "output_type": "stream",
     "text": [
      "\u001b[93m[109/00000] train_loss: 0.046460\u001b[0m\n"
     ]
    },
    {
     "name": "stdout",
     "output_type": "stream",
     "text": [
      "[*] learning rate = 0.0001000\n",
      "[*] learning rate = 0.0001000\n",
      "[*] learning rate = 0.0001000\n",
      "[*] learning rate = 0.0001000\n",
      "[*] learning rate = 0.0001000\n",
      "[*] learning rate = 0.0001000\n",
      "[*] learning rate = 0.0001000\n",
      "[*] learning rate = 0.0001000\n",
      "[*] learning rate = 0.0001000\n",
      "[*] learning rate = 0.0001000\n"
     ]
    },
    {
     "name": "stderr",
     "output_type": "stream",
     "text": [
      "\u001b[93m[119/00000] train_loss: 0.046601\u001b[0m\n"
     ]
    },
    {
     "name": "stdout",
     "output_type": "stream",
     "text": [
      "[*] learning rate = 0.0001000\n",
      "[*] learning rate = 0.0001000\n",
      "[*] learning rate = 0.0001000\n",
      "[*] learning rate = 0.0001000\n",
      "[*] learning rate = 0.0001000\n",
      "[*] learning rate = 0.0001000\n",
      "[*] learning rate = 0.0001000\n",
      "[*] learning rate = 0.0001000\n",
      "[*] learning rate = 0.0001000\n",
      "[*] learning rate = 0.0001000\n"
     ]
    },
    {
     "name": "stderr",
     "output_type": "stream",
     "text": [
      "\u001b[93m[129/00000] train_loss: 0.029542\u001b[0m\n"
     ]
    },
    {
     "name": "stdout",
     "output_type": "stream",
     "text": [
      "[*] learning rate = 0.0001000\n",
      "[*] learning rate = 0.0001000\n",
      "[*] learning rate = 0.0001000\n",
      "[*] learning rate = 0.0001000\n",
      "[*] learning rate = 0.0001000\n",
      "[*] learning rate = 0.0001000\n",
      "[*] learning rate = 0.0001000\n",
      "[*] learning rate = 0.0001000\n",
      "[*] learning rate = 0.0001000\n",
      "[*] learning rate = 0.0001000\n"
     ]
    },
    {
     "name": "stderr",
     "output_type": "stream",
     "text": [
      "\u001b[93m[139/00000] train_loss: 0.046410\u001b[0m\n"
     ]
    },
    {
     "name": "stdout",
     "output_type": "stream",
     "text": [
      "[*] learning rate = 0.0001000\n",
      "[*] learning rate = 0.0001000\n",
      "[*] learning rate = 0.0001000\n",
      "[*] learning rate = 0.0001000\n",
      "[*] learning rate = 0.0001000\n",
      "[*] learning rate = 0.0001000\n",
      "[*] learning rate = 0.0001000\n",
      "[*] learning rate = 0.0001000\n",
      "[*] learning rate = 0.0001000\n",
      "[*] learning rate = 0.0001000\n"
     ]
    },
    {
     "name": "stderr",
     "output_type": "stream",
     "text": [
      "\u001b[93m[149/00000] train_loss: 0.031927\u001b[0m\n"
     ]
    },
    {
     "name": "stdout",
     "output_type": "stream",
     "text": [
      "[*] learning rate = 0.0001000\n",
      "[*] learning rate = 0.0001000\n",
      "[*] learning rate = 0.0001000\n",
      "[*] learning rate = 0.0001000\n",
      "[*] learning rate = 0.0001000\n",
      "[*] learning rate = 0.0001000\n",
      "[*] learning rate = 0.0001000\n",
      "[*] learning rate = 0.0001000\n",
      "[*] learning rate = 0.0001000\n",
      "[*] learning rate = 0.0001000\n"
     ]
    },
    {
     "name": "stderr",
     "output_type": "stream",
     "text": [
      "\u001b[93m[159/00000] train_loss: 0.034019\u001b[0m\n"
     ]
    },
    {
     "name": "stdout",
     "output_type": "stream",
     "text": [
      "[*] learning rate = 0.0001000\n",
      "[*] learning rate = 0.0001000\n",
      "[*] learning rate = 0.0001000\n",
      "[*] learning rate = 0.0001000\n",
      "[*] learning rate = 0.0001000\n",
      "[*] learning rate = 0.0001000\n",
      "[*] learning rate = 0.0001000\n",
      "[*] learning rate = 0.0001000\n",
      "[*] learning rate = 0.0001000\n",
      "[*] learning rate = 0.0001000\n"
     ]
    },
    {
     "name": "stderr",
     "output_type": "stream",
     "text": [
      "\u001b[93m[169/00000] train_loss: 0.031624\u001b[0m\n"
     ]
    },
    {
     "name": "stdout",
     "output_type": "stream",
     "text": [
      "[*] learning rate = 0.0001000\n",
      "[*] learning rate = 0.0001000\n",
      "[*] learning rate = 0.0001000\n",
      "[*] learning rate = 0.0001000\n",
      "[*] learning rate = 0.0001000\n",
      "[*] learning rate = 0.0001000\n",
      "[*] learning rate = 0.0001000\n",
      "[*] learning rate = 0.0001000\n",
      "[*] learning rate = 0.0001000\n",
      "[*] learning rate = 0.0001000\n"
     ]
    },
    {
     "name": "stderr",
     "output_type": "stream",
     "text": [
      "\u001b[93m[179/00000] train_loss: 0.034809\u001b[0m\n"
     ]
    },
    {
     "name": "stdout",
     "output_type": "stream",
     "text": [
      "[*] learning rate = 0.0001000\n",
      "[*] learning rate = 0.0001000\n",
      "[*] learning rate = 0.0001000\n",
      "[*] learning rate = 0.0001000\n",
      "[*] learning rate = 0.0001000\n",
      "[*] learning rate = 0.0001000\n",
      "[*] learning rate = 0.0001000\n",
      "[*] learning rate = 0.0001000\n",
      "[*] learning rate = 0.0001000\n",
      "[*] learning rate = 0.0001000\n"
     ]
    },
    {
     "name": "stderr",
     "output_type": "stream",
     "text": [
      "\u001b[93m[189/00000] train_loss: 0.031946\u001b[0m\n"
     ]
    },
    {
     "name": "stdout",
     "output_type": "stream",
     "text": [
      "[*] learning rate = 0.0001000\n",
      "[*] learning rate = 0.0001000\n",
      "[*] learning rate = 0.0001000\n",
      "[*] learning rate = 0.0001000\n",
      "[*] learning rate = 0.0001000\n",
      "[*] learning rate = 0.0001000\n",
      "[*] learning rate = 0.0001000\n",
      "[*] learning rate = 0.0001000\n",
      "[*] learning rate = 0.0001000\n",
      "Running Visualizations\n",
      "v2logs/dev/FullTrainG1.0-2/2024_07_23_01_26_51/visuals/reconstructions/epoch_199_iter_199.png saved\n",
      "v2logs/dev/FullTrainG1.0-2/2024_07_23_01_26_51/visuals/target/epoch_199_iter_199.png saved\n",
      "v2logs/dev/FullTrainG1.0-2/2024_07_23_01_26_51/visuals/samples/epoch_199_iter_199.png saved\n",
      "[*] learning rate = 0.0001000\n"
     ]
    },
    {
     "name": "stderr",
     "output_type": "stream",
     "text": [
      "\u001b[93m[199/00000] train_loss: 0.030361\u001b[0m\n"
     ]
    },
    {
     "name": "stdout",
     "output_type": "stream",
     "text": [
      "[*] learning rate = 0.0001000\n",
      "[*] learning rate = 0.0001000\n",
      "[*] learning rate = 0.0001000\n",
      "[*] learning rate = 0.0001000\n",
      "[*] learning rate = 0.0001000\n",
      "[*] learning rate = 0.0001000\n",
      "[*] learning rate = 0.0001000\n",
      "[*] learning rate = 0.0001000\n",
      "[*] learning rate = 0.0001000\n",
      "[*] learning rate = 0.0001000\n"
     ]
    },
    {
     "name": "stderr",
     "output_type": "stream",
     "text": [
      "\u001b[93m[209/00000] train_loss: 0.028559\u001b[0m\n"
     ]
    },
    {
     "name": "stdout",
     "output_type": "stream",
     "text": [
      "[*] learning rate = 0.0001000\n",
      "[*] learning rate = 0.0001000\n",
      "[*] learning rate = 0.0001000\n",
      "[*] learning rate = 0.0001000\n",
      "[*] learning rate = 0.0001000\n",
      "[*] learning rate = 0.0001000\n",
      "[*] learning rate = 0.0001000\n",
      "[*] learning rate = 0.0001000\n",
      "[*] learning rate = 0.0001000\n",
      "[*] learning rate = 0.0001000\n"
     ]
    },
    {
     "name": "stderr",
     "output_type": "stream",
     "text": [
      "\u001b[93m[219/00000] train_loss: 0.041458\u001b[0m\n"
     ]
    },
    {
     "name": "stdout",
     "output_type": "stream",
     "text": [
      "[*] learning rate = 0.0001000\n",
      "[*] learning rate = 0.0001000\n",
      "[*] learning rate = 0.0001000\n",
      "[*] learning rate = 0.0001000\n",
      "[*] learning rate = 0.0001000\n",
      "[*] learning rate = 0.0001000\n",
      "[*] learning rate = 0.0001000\n",
      "[*] learning rate = 0.0001000\n",
      "[*] learning rate = 0.0001000\n",
      "[*] learning rate = 0.0001000\n"
     ]
    },
    {
     "name": "stderr",
     "output_type": "stream",
     "text": [
      "\u001b[93m[229/00000] train_loss: 0.030157\u001b[0m\n"
     ]
    },
    {
     "name": "stdout",
     "output_type": "stream",
     "text": [
      "[*] learning rate = 0.0001000\n",
      "[*] learning rate = 0.0001000\n",
      "[*] learning rate = 0.0001000\n",
      "[*] learning rate = 0.0001000\n",
      "[*] learning rate = 0.0001000\n",
      "[*] learning rate = 0.0001000\n",
      "[*] learning rate = 0.0001000\n",
      "[*] learning rate = 0.0001000\n",
      "[*] learning rate = 0.0001000\n",
      "[*] learning rate = 0.0001000\n"
     ]
    },
    {
     "name": "stderr",
     "output_type": "stream",
     "text": [
      "\u001b[93m[239/00000] train_loss: 0.025070\u001b[0m\n"
     ]
    },
    {
     "name": "stdout",
     "output_type": "stream",
     "text": [
      "[*] learning rate = 0.0001000\n",
      "[*] learning rate = 0.0001000\n",
      "[*] learning rate = 0.0001000\n",
      "[*] learning rate = 0.0001000\n",
      "[*] learning rate = 0.0001000\n",
      "[*] learning rate = 0.0001000\n",
      "[*] learning rate = 0.0001000\n",
      "[*] learning rate = 0.0001000\n",
      "[*] learning rate = 0.0001000\n",
      "[*] learning rate = 0.0001000\n"
     ]
    },
    {
     "name": "stderr",
     "output_type": "stream",
     "text": [
      "\u001b[93m[249/00000] train_loss: 0.024004\u001b[0m\n"
     ]
    },
    {
     "name": "stdout",
     "output_type": "stream",
     "text": [
      "[*] learning rate = 0.0001000\n",
      "[*] learning rate = 0.0001000\n",
      "[*] learning rate = 0.0001000\n",
      "[*] learning rate = 0.0001000\n",
      "[*] learning rate = 0.0001000\n",
      "[*] learning rate = 0.0001000\n",
      "[*] learning rate = 0.0001000\n",
      "[*] learning rate = 0.0001000\n",
      "[*] learning rate = 0.0001000\n",
      "[*] learning rate = 0.0001000\n"
     ]
    },
    {
     "name": "stderr",
     "output_type": "stream",
     "text": [
      "\u001b[93m[259/00000] train_loss: 0.024249\u001b[0m\n"
     ]
    },
    {
     "name": "stdout",
     "output_type": "stream",
     "text": [
      "[*] learning rate = 0.0001000\n",
      "[*] learning rate = 0.0001000\n",
      "[*] learning rate = 0.0001000\n",
      "[*] learning rate = 0.0001000\n",
      "[*] learning rate = 0.0001000\n",
      "[*] learning rate = 0.0001000\n",
      "[*] learning rate = 0.0001000\n",
      "[*] learning rate = 0.0001000\n",
      "[*] learning rate = 0.0001000\n",
      "[*] learning rate = 0.0001000\n"
     ]
    },
    {
     "name": "stderr",
     "output_type": "stream",
     "text": [
      "\u001b[93m[269/00000] train_loss: 0.021550\u001b[0m\n"
     ]
    },
    {
     "name": "stdout",
     "output_type": "stream",
     "text": [
      "[*] learning rate = 0.0001000\n",
      "[*] learning rate = 0.0001000\n",
      "[*] learning rate = 0.0001000\n",
      "[*] learning rate = 0.0001000\n",
      "[*] learning rate = 0.0001000\n",
      "[*] learning rate = 0.0001000\n",
      "[*] learning rate = 0.0001000\n",
      "[*] learning rate = 0.0001000\n",
      "[*] learning rate = 0.0001000\n",
      "[*] learning rate = 0.0001000\n"
     ]
    },
    {
     "name": "stderr",
     "output_type": "stream",
     "text": [
      "\u001b[93m[279/00000] train_loss: 0.023075\u001b[0m\n"
     ]
    },
    {
     "name": "stdout",
     "output_type": "stream",
     "text": [
      "[*] learning rate = 0.0001000\n",
      "[*] learning rate = 0.0001000\n",
      "[*] learning rate = 0.0001000\n",
      "[*] learning rate = 0.0001000\n",
      "[*] learning rate = 0.0001000\n",
      "[*] learning rate = 0.0001000\n",
      "[*] learning rate = 0.0001000\n",
      "[*] learning rate = 0.0001000\n",
      "[*] learning rate = 0.0001000\n",
      "[*] learning rate = 0.0001000\n"
     ]
    },
    {
     "name": "stderr",
     "output_type": "stream",
     "text": [
      "\u001b[93m[289/00000] train_loss: 0.023198\u001b[0m\n"
     ]
    },
    {
     "name": "stdout",
     "output_type": "stream",
     "text": [
      "[*] learning rate = 0.0001000\n",
      "[*] learning rate = 0.0001000\n",
      "[*] learning rate = 0.0001000\n",
      "[*] learning rate = 0.0001000\n",
      "[*] learning rate = 0.0001000\n",
      "[*] learning rate = 0.0001000\n",
      "[*] learning rate = 0.0001000\n",
      "[*] learning rate = 0.0001000\n",
      "[*] learning rate = 0.0001000\n",
      "Running Visualizations\n",
      "v2logs/dev/FullTrainG1.0-2/2024_07_23_01_26_51/visuals/reconstructions/epoch_299_iter_299.png saved\n",
      "v2logs/dev/FullTrainG1.0-2/2024_07_23_01_26_51/visuals/target/epoch_299_iter_299.png saved\n",
      "v2logs/dev/FullTrainG1.0-2/2024_07_23_01_26_51/visuals/samples/epoch_299_iter_299.png saved\n",
      "[*] learning rate = 0.0001000\n"
     ]
    },
    {
     "name": "stderr",
     "output_type": "stream",
     "text": [
      "\u001b[93m[299/00000] train_loss: 0.021310\u001b[0m\n"
     ]
    },
    {
     "name": "stdout",
     "output_type": "stream",
     "text": [
      "[*] learning rate = 0.0001000\n",
      "[*] learning rate = 0.0001000\n",
      "[*] learning rate = 0.0001000\n",
      "[*] learning rate = 0.0001000\n",
      "[*] learning rate = 0.0001000\n",
      "[*] learning rate = 0.0001000\n",
      "[*] learning rate = 0.0001000\n",
      "[*] learning rate = 0.0001000\n",
      "[*] learning rate = 0.0001000\n",
      "[*] learning rate = 0.0001000\n"
     ]
    },
    {
     "name": "stderr",
     "output_type": "stream",
     "text": [
      "\u001b[93m[309/00000] train_loss: 0.033610\u001b[0m\n"
     ]
    },
    {
     "name": "stdout",
     "output_type": "stream",
     "text": [
      "[*] learning rate = 0.0001000\n",
      "[*] learning rate = 0.0001000\n",
      "[*] learning rate = 0.0001000\n",
      "[*] learning rate = 0.0001000\n",
      "[*] learning rate = 0.0001000\n"
     ]
    }
   ],
   "source": [
    "trainer.train()"
   ]
  },
  {
   "cell_type": "code",
   "execution_count": null,
   "id": "578a229e",
   "metadata": {},
   "outputs": [],
   "source": []
  }
 ],
 "metadata": {
  "kernelspec": {
   "display_name": "Python 3 (ipykernel)",
   "language": "python",
   "name": "python3"
  },
  "language_info": {
   "codemirror_mode": {
    "name": "ipython",
    "version": 3
   },
   "file_extension": ".py",
   "mimetype": "text/x-python",
   "name": "python",
   "nbconvert_exporter": "python",
   "pygments_lexer": "ipython3",
   "version": "3.10.12"
  }
 },
 "nbformat": 4,
 "nbformat_minor": 5
}
