{
 "cells": [
  {
   "cell_type": "code",
   "execution_count": 1,
   "id": "1e7268c8",
   "metadata": {},
   "outputs": [
    {
     "name": "stdout",
     "output_type": "stream",
     "text": [
      "(10120527872, 10385358848)\n",
      "\u001b[94mUsing device:\u001b[0m cuda:0\n",
      "\u001b[94m{'name': 'globalPVQVAEVGG', 'description': 'plz', 'experiment_id': 'fullTrain', 'extra_notes': 'none', 'logs_dir': 'logs', 'is_train': True, 'device': 'cuda:0', 'batch_size': 3, 'num_workers': 16, 'test_size': 0.1, 'n_epochs': 50000, 'append_loss_every': 250, 'print_every': 500, 'validate_every': 1973, 'save_every': 1973, 'save_every_nepochs': 2, 'start_epoch': 0, 'start_iteration': 0, 'visualize_every': 1000, 'apply_metrics_every': 1973, 'load_ckpt': False, 'ckpt_path': 'logs/vaeKosmomeinOmo/Chairs2048FullConvWithDataAug/2024_06_25_12_15_40/checkpoints/epoch-latest.ckpt', 'use_scheduler': True, 'apply_metrics_batch_count': 5}\u001b[0m\n"
     ]
    },
    {
     "name": "stderr",
     "output_type": "stream",
     "text": [
      "\u001b[93m- Creating new directory logs/globalPVQVAEVGG/fullTrain/2024_07_03_12_16_57\u001b[0m\n",
      "\u001b[93m- Creating new directory logs/globalPVQVAEVGG/fullTrain/2024_07_03_12_16_57/checkpoints\u001b[0m\n",
      "\u001b[93m- Creating new directory logs/globalPVQVAEVGG/fullTrain/2024_07_03_12_16_57/tb\u001b[0m\n",
      "\u001b[93m- Creating new directory logs/globalPVQVAEVGG/fullTrain/2024_07_03_12_16_57/visuals\u001b[0m\n",
      "\u001b[93m- Creating new directory logs/globalPVQVAEVGG/fullTrain/2024_07_03_12_16_57/modelsummary\u001b[0m\n"
     ]
    },
    {
     "name": "stdout",
     "output_type": "stream",
     "text": [
      "Jupyter environment detected. Enabling Open3D WebVisualizer.\n",
      "[Open3D INFO] WebRTC GUI backend enabled.\n",
      "[Open3D INFO] WebRTCWindowSystem: HTTP handshake server disabled.\n",
      "[*] Enc has Attn at i_level, i_block: 3, 0\n",
      "Decoding of shape (1, 256, 8, 8, 8) = 131072 dimensions.\n",
      "[*] Dec has Attn at i_level, i_block: 3, 0\n",
      "\u001b[92mVGG loaded from logs/VGG/trainFull/2024_07_01_17_50_17/checkpoints/epoch-36.ckpt\u001b[0m\n",
      "\u001b[94mUsing device:\u001b[0m cuda:0\n",
      "\u001b[94mInitializing model weights with normal initialization\u001b[0m\n",
      "Model size: 278.659MB\n",
      "Total_params: 73.0M\n",
      "Dataset length:  6579\n",
      "(9728360448, 10385358848)\n"
     ]
    },
    {
     "data": {
      "text/plain": [
       "'tensorboard --logdir logs/globalPVQVAEVGG/fullTrain/2024_07_03_12_16_57/tb --bind_all'"
      ]
     },
     "execution_count": 1,
     "metadata": {},
     "output_type": "execute_result"
    }
   ],
   "source": [
    "from src.training.ModelTrainer import ModelTrainer\n",
    "from src.datasets.shape_net.shape_net_v3_sdf import ShapeNetV3SDF\n",
    "#from src.datasets.shape_net.shape_net_v2_sdf import ShapeNetV2SDF\n",
    "from src.utils.util import seed_all\n",
    "from src.utils.visualizations import visualize_sdf_as_mesh\n",
    "import numpy as np\n",
    "import torch\n",
    "%load_ext autoreload\n",
    "%load_ext tensorboard\n",
    "%autoreload 2\n",
    "seed_all(111)\n",
    "x = torch.cuda.mem_get_info()\n",
    "print(x)\n",
    "trainer = ModelTrainer(dataset_type=ShapeNetV3SDF,\n",
    "                       options={\"tdm_notebook\": True})\n",
    "\n",
    "dataset = trainer.data_loader_handler.dataset\n",
    "print(\"Dataset length: \", len(dataset))\n",
    "torch.cuda.empty_cache()\n",
    "print(torch.cuda.mem_get_info())\n",
    "model = trainer.model\n",
    "model\n",
    "str(trainer.logger.experiment_dir)\n",
    "exp = f\"{str(trainer.logger.experiment_dir)}/tb\"\n",
    "exp\n",
    "#!tensorboard --logdir exp --|bind_all\n",
    "f\"tensorboard --logdir {exp} --bind_all\""
   ]
  },
  {
   "cell_type": "code",
   "execution_count": null,
   "id": "cd94a052",
   "metadata": {},
   "outputs": [
    {
     "data": {
      "application/vnd.jupyter.widget-view+json": {
       "model_id": "949d6ccc3e0342749e7729e04026f79a",
       "version_major": 2,
       "version_minor": 0
      },
      "text/plain": [
       "  0%|          | 0/50000 [00:00<?, ?it/s]"
      ]
     },
     "metadata": {},
     "output_type": "display_data"
    },
    {
     "data": {
      "application/vnd.jupyter.widget-view+json": {
       "model_id": "e7ac899218a5440fa81452620981aa85",
       "version_major": 2,
       "version_minor": 0
      },
      "text/plain": [
       "  0%|          | 0/1973 [00:00<?, ?it/s]"
      ]
     },
     "metadata": {},
     "output_type": "display_data"
    },
    {
     "name": "stdout",
     "output_type": "stream",
     "text": [
      "Running Visualizations\n",
      "logs/globalPVQVAEVGG/fullTrain/2024_07_03_12_16_57/visuals/reconstructions/epoch_0_iter_0.png saved\n"
     ]
    },
    {
     "name": "stderr",
     "output_type": "stream",
     "text": [
      "\u001b[93m- Creating new directory logs/globalPVQVAEVGG/fullTrain/2024_07_03_12_16_57/visuals/reconstructions\u001b[0m\n"
     ]
    },
    {
     "name": "stdout",
     "output_type": "stream",
     "text": [
      "logs/globalPVQVAEVGG/fullTrain/2024_07_03_12_16_57/visuals/target/epoch_0_iter_0.png saved\n",
      "\u001b[94mRunning Validation\u001b[0m\n"
     ]
    },
    {
     "name": "stderr",
     "output_type": "stream",
     "text": [
      "\u001b[93m- Creating new directory logs/globalPVQVAEVGG/fullTrain/2024_07_03_12_16_57/visuals/target\u001b[0m\n",
      "\u001b[93m[000/00000] train_loss: 1.368186\u001b[0m\n"
     ]
    },
    {
     "data": {
      "application/vnd.jupyter.widget-view+json": {
       "model_id": "5f62a818aba94a34bd7e83e97c6204a5",
       "version_major": 2,
       "version_minor": 0
      },
      "text/plain": [
       "  0%|          | 0/219 [00:00<?, ?it/s]"
      ]
     },
     "metadata": {},
     "output_type": "display_data"
    },
    {
     "name": "stdout",
     "output_type": "stream",
     "text": [
      "logs/globalPVQVAEVGG/fullTrain/2024_07_03_12_16_57/checkpoints/epoch-best.ckpt created\n"
     ]
    },
    {
     "name": "stderr",
     "output_type": "stream",
     "text": [
      "\u001b[93m[000/00000] val_loss: 0.930129 | best_loss_val: 0.930129\u001b[0m\n"
     ]
    },
    {
     "name": "stdout",
     "output_type": "stream",
     "text": [
      "\u001b[94mCalculating additional metrics for training batch 30\u001b[0m\n"
     ]
    },
    {
     "name": "stderr",
     "output_type": "stream",
     "text": [
      "/home/youssef/.cache/pypoetry/virtualenvs/vqgan_scene_reconstruction-cT5po-tB-py3.10/lib/python3.10/site-packages/numpy/core/fromnumeric.py:3504: RuntimeWarning: Mean of empty slice.\n",
      "  return _methods._mean(a, axis=axis, dtype=dtype,\n",
      "/home/youssef/.cache/pypoetry/virtualenvs/vqgan_scene_reconstruction-cT5po-tB-py3.10/lib/python3.10/site-packages/numpy/core/_methods.py:121: RuntimeWarning: invalid value encountered in divide\n",
      "  ret = um.true_divide(\n",
      "/home/youssef/.cache/pypoetry/virtualenvs/vqgan_scene_reconstruction-cT5po-tB-py3.10/lib/python3.10/site-packages/numpy/core/_methods.py:129: RuntimeWarning: invalid value encountered in scalar divide\n",
      "  ret = ret.dtype.type(ret / rcount)\n"
     ]
    },
    {
     "name": "stdout",
     "output_type": "stream",
     "text": [
      "\u001b[94mCalculating additional metrics for training batch 86\u001b[0m\n",
      "\u001b[94mCalculating additional metrics for training batch 99\u001b[0m\n",
      "\u001b[94mCalculating additional metrics for training batch 103\u001b[0m\n",
      "\u001b[94mCalculating additional metrics for training batch 160\u001b[0m\n"
     ]
    },
    {
     "name": "stderr",
     "output_type": "stream",
     "text": [
      "\u001b[93m[000/00499] train_loss: 0.389322\u001b[0m\n"
     ]
    },
    {
     "name": "stdout",
     "output_type": "stream",
     "text": [
      "Running Visualizations\n",
      "logs/globalPVQVAEVGG/fullTrain/2024_07_03_12_16_57/visuals/reconstructions/epoch_0_iter_999.png saved\n",
      "logs/globalPVQVAEVGG/fullTrain/2024_07_03_12_16_57/visuals/target/epoch_0_iter_999.png saved\n"
     ]
    },
    {
     "name": "stderr",
     "output_type": "stream",
     "text": [
      "\u001b[93m[000/00999] train_loss: 0.091419\u001b[0m\n",
      "\u001b[93m[000/01499] train_loss: 0.059271\u001b[0m\n"
     ]
    },
    {
     "name": "stdout",
     "output_type": "stream",
     "text": [
      "logs/globalPVQVAEVGG/fullTrain/2024_07_03_12_16_57/checkpoints/epoch-latest.ckpt created\n",
      "\u001b[94mRunning Validation\u001b[0m\n"
     ]
    },
    {
     "data": {
      "application/vnd.jupyter.widget-view+json": {
       "model_id": "70fe5a958995453db5575221168b89a8",
       "version_major": 2,
       "version_minor": 0
      },
      "text/plain": [
       "  0%|          | 0/219 [00:00<?, ?it/s]"
      ]
     },
     "metadata": {},
     "output_type": "display_data"
    },
    {
     "name": "stdout",
     "output_type": "stream",
     "text": [
      "logs/globalPVQVAEVGG/fullTrain/2024_07_03_12_16_57/checkpoints/epoch-best.ckpt created\n"
     ]
    },
    {
     "name": "stderr",
     "output_type": "stream",
     "text": [
      "\u001b[93m[000/01972] val_loss: 0.043854 | best_loss_val: 0.043854\u001b[0m\n"
     ]
    },
    {
     "name": "stdout",
     "output_type": "stream",
     "text": [
      "logs/globalPVQVAEVGG/fullTrain/2024_07_03_12_16_57/checkpoints/epoch-0.ckpt created\n",
      "[*] learning rate = 0.0001000\n"
     ]
    },
    {
     "data": {
      "application/vnd.jupyter.widget-view+json": {
       "model_id": "7bf51973b8414a9faec942fc7975298d",
       "version_major": 2,
       "version_minor": 0
      },
      "text/plain": [
       "  0%|          | 0/1973 [00:00<?, ?it/s]"
      ]
     },
     "metadata": {},
     "output_type": "display_data"
    },
    {
     "name": "stdout",
     "output_type": "stream",
     "text": [
      "Running Visualizations\n",
      "logs/globalPVQVAEVGG/fullTrain/2024_07_03_12_16_57/visuals/reconstructions/epoch_1_iter_1999.png saved\n",
      "logs/globalPVQVAEVGG/fullTrain/2024_07_03_12_16_57/visuals/target/epoch_1_iter_1999.png saved\n"
     ]
    },
    {
     "name": "stderr",
     "output_type": "stream",
     "text": [
      "\u001b[93m[001/00026] train_loss: 0.045467\u001b[0m\n"
     ]
    },
    {
     "name": "stdout",
     "output_type": "stream",
     "text": [
      "\u001b[94mCalculating additional metrics for training batch 99\u001b[0m\n",
      "\u001b[94mCalculating additional metrics for training batch 165\u001b[0m\n",
      "\u001b[94mCalculating additional metrics for training batch 509\u001b[0m\n"
     ]
    },
    {
     "name": "stderr",
     "output_type": "stream",
     "text": [
      "\u001b[93m[001/00526] train_loss: 0.042499\u001b[0m\n"
     ]
    },
    {
     "name": "stdout",
     "output_type": "stream",
     "text": [
      "\u001b[94mCalculating additional metrics for training batch 982\u001b[0m\n",
      "Running Visualizations\n",
      "logs/globalPVQVAEVGG/fullTrain/2024_07_03_12_16_57/visuals/reconstructions/epoch_1_iter_2999.png saved\n",
      "logs/globalPVQVAEVGG/fullTrain/2024_07_03_12_16_57/visuals/target/epoch_1_iter_2999.png saved\n"
     ]
    },
    {
     "name": "stderr",
     "output_type": "stream",
     "text": [
      "\u001b[93m[001/01026] train_loss: 0.039712\u001b[0m\n",
      "\u001b[93m[001/01526] train_loss: 0.037109\u001b[0m\n"
     ]
    },
    {
     "name": "stdout",
     "output_type": "stream",
     "text": [
      "\u001b[94mCalculating additional metrics for training batch 1817\u001b[0m\n",
      "logs/globalPVQVAEVGG/fullTrain/2024_07_03_12_16_57/checkpoints/epoch-latest.ckpt created\n",
      "\u001b[94mRunning Validation\u001b[0m\n"
     ]
    },
    {
     "data": {
      "application/vnd.jupyter.widget-view+json": {
       "model_id": "2155413c60dc4b5884a57d7af2df7758",
       "version_major": 2,
       "version_minor": 0
      },
      "text/plain": [
       "  0%|          | 0/219 [00:00<?, ?it/s]"
      ]
     },
     "metadata": {},
     "output_type": "display_data"
    },
    {
     "name": "stdout",
     "output_type": "stream",
     "text": [
      "logs/globalPVQVAEVGG/fullTrain/2024_07_03_12_16_57/checkpoints/epoch-best.ckpt created\n",
      "[*] learning rate = 0.0001000\n"
     ]
    },
    {
     "name": "stderr",
     "output_type": "stream",
     "text": [
      "\u001b[93m[001/01972] val_loss: 0.025643 | best_loss_val: 0.025643\u001b[0m\n"
     ]
    },
    {
     "data": {
      "application/vnd.jupyter.widget-view+json": {
       "model_id": "96d276e985724cc68f23018a4578af8f",
       "version_major": 2,
       "version_minor": 0
      },
      "text/plain": [
       "  0%|          | 0/1973 [00:00<?, ?it/s]"
      ]
     },
     "metadata": {},
     "output_type": "display_data"
    },
    {
     "name": "stdout",
     "output_type": "stream",
     "text": [
      "Running Visualizations\n",
      "logs/globalPVQVAEVGG/fullTrain/2024_07_03_12_16_57/visuals/reconstructions/epoch_2_iter_3999.png saved\n",
      "logs/globalPVQVAEVGG/fullTrain/2024_07_03_12_16_57/visuals/target/epoch_2_iter_3999.png saved\n"
     ]
    },
    {
     "name": "stderr",
     "output_type": "stream",
     "text": [
      "\u001b[93m[002/00053] train_loss: 0.033284\u001b[0m\n"
     ]
    },
    {
     "name": "stdout",
     "output_type": "stream",
     "text": [
      "\u001b[94mCalculating additional metrics for training batch 380\u001b[0m\n"
     ]
    },
    {
     "name": "stderr",
     "output_type": "stream",
     "text": [
      "\u001b[93m[002/00553] train_loss: 0.031392\u001b[0m\n"
     ]
    },
    {
     "name": "stdout",
     "output_type": "stream",
     "text": [
      "Running Visualizations\n",
      "logs/globalPVQVAEVGG/fullTrain/2024_07_03_12_16_57/visuals/reconstructions/epoch_2_iter_4999.png saved\n",
      "logs/globalPVQVAEVGG/fullTrain/2024_07_03_12_16_57/visuals/target/epoch_2_iter_4999.png saved\n"
     ]
    },
    {
     "name": "stderr",
     "output_type": "stream",
     "text": [
      "\u001b[93m[002/01053] train_loss: 0.030642\u001b[0m\n"
     ]
    },
    {
     "name": "stdout",
     "output_type": "stream",
     "text": [
      "\u001b[94mCalculating additional metrics for training batch 1314\u001b[0m\n"
     ]
    },
    {
     "name": "stderr",
     "output_type": "stream",
     "text": [
      "\u001b[93m[002/01553] train_loss: 0.029923\u001b[0m\n"
     ]
    },
    {
     "name": "stdout",
     "output_type": "stream",
     "text": [
      "\u001b[94mCalculating additional metrics for training batch 1554\u001b[0m\n",
      "\u001b[94mCalculating additional metrics for training batch 1685\u001b[0m\n",
      "\u001b[94mCalculating additional metrics for training batch 1858\u001b[0m\n",
      "logs/globalPVQVAEVGG/fullTrain/2024_07_03_12_16_57/checkpoints/epoch-latest.ckpt created\n",
      "\u001b[94mRunning Validation\u001b[0m\n"
     ]
    },
    {
     "data": {
      "application/vnd.jupyter.widget-view+json": {
       "model_id": "dc1047c9fdc642c3b84ddf22331d01fa",
       "version_major": 2,
       "version_minor": 0
      },
      "text/plain": [
       "  0%|          | 0/219 [00:00<?, ?it/s]"
      ]
     },
     "metadata": {},
     "output_type": "display_data"
    },
    {
     "name": "stderr",
     "output_type": "stream",
     "text": [
      "\u001b[93m[002/01972] val_loss: 0.034881 | best_loss_val: 0.025643\u001b[0m\n"
     ]
    },
    {
     "name": "stdout",
     "output_type": "stream",
     "text": [
      "logs/globalPVQVAEVGG/fullTrain/2024_07_03_12_16_57/checkpoints/epoch-2.ckpt created\n",
      "[*] learning rate = 0.0001000\n"
     ]
    },
    {
     "data": {
      "application/vnd.jupyter.widget-view+json": {
       "model_id": "1fcd51ce51ab45ddbe1e730de815cf57",
       "version_major": 2,
       "version_minor": 0
      },
      "text/plain": [
       "  0%|          | 0/1973 [00:00<?, ?it/s]"
      ]
     },
     "metadata": {},
     "output_type": "display_data"
    },
    {
     "name": "stdout",
     "output_type": "stream",
     "text": [
      "Running Visualizations\n",
      "logs/globalPVQVAEVGG/fullTrain/2024_07_03_12_16_57/visuals/reconstructions/epoch_3_iter_5999.png saved\n",
      "logs/globalPVQVAEVGG/fullTrain/2024_07_03_12_16_57/visuals/target/epoch_3_iter_5999.png saved\n"
     ]
    },
    {
     "name": "stderr",
     "output_type": "stream",
     "text": [
      "\u001b[93m[003/00080] train_loss: 0.029116\u001b[0m\n"
     ]
    },
    {
     "name": "stdout",
     "output_type": "stream",
     "text": [
      "\u001b[94mCalculating additional metrics for training batch 456\u001b[0m\n"
     ]
    },
    {
     "name": "stderr",
     "output_type": "stream",
     "text": [
      "\u001b[93m[003/00580] train_loss: 0.027530\u001b[0m\n"
     ]
    },
    {
     "name": "stdout",
     "output_type": "stream",
     "text": [
      "\u001b[94mCalculating additional metrics for training batch 801\u001b[0m\n",
      "Running Visualizations\n",
      "logs/globalPVQVAEVGG/fullTrain/2024_07_03_12_16_57/visuals/reconstructions/epoch_3_iter_6999.png saved\n",
      "logs/globalPVQVAEVGG/fullTrain/2024_07_03_12_16_57/visuals/target/epoch_3_iter_6999.png saved\n"
     ]
    },
    {
     "name": "stderr",
     "output_type": "stream",
     "text": [
      "\u001b[93m[003/01080] train_loss: 0.026527\u001b[0m\n"
     ]
    },
    {
     "name": "stdout",
     "output_type": "stream",
     "text": [
      "\u001b[94mCalculating additional metrics for training batch 1178\u001b[0m\n",
      "\u001b[94mCalculating additional metrics for training batch 1480\u001b[0m\n",
      "\u001b[94mCalculating additional metrics for training batch 1534\u001b[0m\n"
     ]
    },
    {
     "name": "stderr",
     "output_type": "stream",
     "text": [
      "\u001b[93m[003/01580] train_loss: 0.025665\u001b[0m\n"
     ]
    },
    {
     "name": "stdout",
     "output_type": "stream",
     "text": [
      "logs/globalPVQVAEVGG/fullTrain/2024_07_03_12_16_57/checkpoints/epoch-latest.ckpt created\n",
      "\u001b[94mRunning Validation\u001b[0m\n"
     ]
    },
    {
     "data": {
      "application/vnd.jupyter.widget-view+json": {
       "model_id": "71dca78127cd44faa78e08b5888cd768",
       "version_major": 2,
       "version_minor": 0
      },
      "text/plain": [
       "  0%|          | 0/219 [00:00<?, ?it/s]"
      ]
     },
     "metadata": {},
     "output_type": "display_data"
    },
    {
     "name": "stdout",
     "output_type": "stream",
     "text": [
      "[*] learning rate = 0.0001000\n"
     ]
    },
    {
     "name": "stderr",
     "output_type": "stream",
     "text": [
      "\u001b[93m[003/01972] val_loss: 0.033680 | best_loss_val: 0.025643\u001b[0m\n"
     ]
    },
    {
     "data": {
      "application/vnd.jupyter.widget-view+json": {
       "model_id": "9d827135497a4b55964cfd5a97aed7e0",
       "version_major": 2,
       "version_minor": 0
      },
      "text/plain": [
       "  0%|          | 0/1973 [00:00<?, ?it/s]"
      ]
     },
     "metadata": {},
     "output_type": "display_data"
    },
    {
     "name": "stdout",
     "output_type": "stream",
     "text": [
      "Running Visualizations\n",
      "logs/globalPVQVAEVGG/fullTrain/2024_07_03_12_16_57/visuals/reconstructions/epoch_4_iter_7999.png saved\n",
      "logs/globalPVQVAEVGG/fullTrain/2024_07_03_12_16_57/visuals/target/epoch_4_iter_7999.png saved\n"
     ]
    },
    {
     "name": "stderr",
     "output_type": "stream",
     "text": [
      "\u001b[93m[004/00107] train_loss: 0.023966\u001b[0m\n"
     ]
    },
    {
     "name": "stdout",
     "output_type": "stream",
     "text": [
      "\u001b[94mCalculating additional metrics for training batch 221\u001b[0m\n",
      "\u001b[94mCalculating additional metrics for training batch 359\u001b[0m\n"
     ]
    },
    {
     "name": "stderr",
     "output_type": "stream",
     "text": [
      "\u001b[93m[004/00607] train_loss: 0.024743\u001b[0m\n"
     ]
    },
    {
     "name": "stdout",
     "output_type": "stream",
     "text": [
      "\u001b[94mCalculating additional metrics for training batch 654\u001b[0m\n",
      "Running Visualizations\n",
      "logs/globalPVQVAEVGG/fullTrain/2024_07_03_12_16_57/visuals/reconstructions/epoch_4_iter_8999.png saved\n",
      "logs/globalPVQVAEVGG/fullTrain/2024_07_03_12_16_57/visuals/target/epoch_4_iter_8999.png saved\n"
     ]
    },
    {
     "name": "stderr",
     "output_type": "stream",
     "text": [
      "\u001b[93m[004/01107] train_loss: 0.023840\u001b[0m\n"
     ]
    },
    {
     "name": "stdout",
     "output_type": "stream",
     "text": [
      "\u001b[94mCalculating additional metrics for training batch 1219\u001b[0m\n"
     ]
    },
    {
     "name": "stderr",
     "output_type": "stream",
     "text": [
      "\u001b[93m[004/01607] train_loss: 0.023463\u001b[0m\n"
     ]
    },
    {
     "name": "stdout",
     "output_type": "stream",
     "text": [
      "\u001b[94mCalculating additional metrics for training batch 1704\u001b[0m\n",
      "logs/globalPVQVAEVGG/fullTrain/2024_07_03_12_16_57/checkpoints/epoch-latest.ckpt created\n",
      "\u001b[94mRunning Validation\u001b[0m\n"
     ]
    },
    {
     "data": {
      "application/vnd.jupyter.widget-view+json": {
       "model_id": "882d19dbf5ca420a80389f9b1dec8485",
       "version_major": 2,
       "version_minor": 0
      },
      "text/plain": [
       "  0%|          | 0/219 [00:00<?, ?it/s]"
      ]
     },
     "metadata": {},
     "output_type": "display_data"
    },
    {
     "name": "stdout",
     "output_type": "stream",
     "text": [
      "logs/globalPVQVAEVGG/fullTrain/2024_07_03_12_16_57/checkpoints/epoch-best.ckpt created\n"
     ]
    },
    {
     "name": "stderr",
     "output_type": "stream",
     "text": [
      "\u001b[93m[004/01972] val_loss: 0.015763 | best_loss_val: 0.015763\u001b[0m\n"
     ]
    },
    {
     "name": "stdout",
     "output_type": "stream",
     "text": [
      "logs/globalPVQVAEVGG/fullTrain/2024_07_03_12_16_57/checkpoints/epoch-4.ckpt created\n",
      "[*] learning rate = 0.0001000\n"
     ]
    },
    {
     "data": {
      "application/vnd.jupyter.widget-view+json": {
       "model_id": "e1d7fa54f0dd430c95c12cd4bdb5ba0a",
       "version_major": 2,
       "version_minor": 0
      },
      "text/plain": [
       "  0%|          | 0/1973 [00:00<?, ?it/s]"
      ]
     },
     "metadata": {},
     "output_type": "display_data"
    },
    {
     "name": "stdout",
     "output_type": "stream",
     "text": [
      "Running Visualizations\n",
      "logs/globalPVQVAEVGG/fullTrain/2024_07_03_12_16_57/visuals/reconstructions/epoch_5_iter_9999.png saved\n",
      "logs/globalPVQVAEVGG/fullTrain/2024_07_03_12_16_57/visuals/target/epoch_5_iter_9999.png saved\n"
     ]
    },
    {
     "name": "stderr",
     "output_type": "stream",
     "text": [
      "\u001b[93m[005/00134] train_loss: 0.022171\u001b[0m\n"
     ]
    },
    {
     "name": "stdout",
     "output_type": "stream",
     "text": [
      "\u001b[94mCalculating additional metrics for training batch 182\u001b[0m\n"
     ]
    },
    {
     "name": "stderr",
     "output_type": "stream",
     "text": [
      "\u001b[93m[005/00634] train_loss: 0.022504\u001b[0m\n"
     ]
    },
    {
     "name": "stdout",
     "output_type": "stream",
     "text": [
      "\u001b[94mCalculating additional metrics for training batch 694\u001b[0m\n",
      "\u001b[94mCalculating additional metrics for training batch 971\u001b[0m\n"
     ]
    }
   ],
   "source": [
    "trainer.train()"
   ]
  },
  {
   "cell_type": "code",
   "execution_count": null,
   "id": "7bef938d",
   "metadata": {},
   "outputs": [],
   "source": []
  }
 ],
 "metadata": {
  "kernelspec": {
   "display_name": "Python 3 (ipykernel)",
   "language": "python",
   "name": "python3"
  },
  "language_info": {
   "codemirror_mode": {
    "name": "ipython",
    "version": 3
   },
   "file_extension": ".py",
   "mimetype": "text/x-python",
   "name": "python",
   "nbconvert_exporter": "python",
   "pygments_lexer": "ipython3",
   "version": "3.10.12"
  }
 },
 "nbformat": 4,
 "nbformat_minor": 5
}
