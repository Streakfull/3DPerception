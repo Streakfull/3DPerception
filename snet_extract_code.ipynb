{
 "cells": [
  {
   "cell_type": "code",
   "execution_count": 1,
   "id": "c9adf21f",
   "metadata": {},
   "outputs": [
    {
     "name": "stdout",
     "output_type": "stream",
     "text": [
      "(10120527872, 10385358848)\n",
      "Jupyter environment detected. Enabling Open3D WebVisualizer.\n",
      "[Open3D INFO] WebRTC GUI backend enabled.\n",
      "[Open3D INFO] WebRTCWindowSystem: HTTP handshake server disabled.\n",
      "[*] Enc has Attn at i_level, i_block: 3, 0\n",
      "Decoding of shape (1, 64, 8, 8, 8) = 32768 dimensions.\n",
      "[*] Dec has Attn at i_level, i_block: 3, 0\n",
      "\u001b[94mUsing device:\u001b[0m cuda:0\n",
      "\u001b[94mInitializing model weights with normal initialization\u001b[0m\n",
      "Model loaded from logs/pvqVAE/pvqVAE-Train/2024_05_26_02_46_01/checkpoints/epoch-114.ckpt\n",
      "\u001b[94msrc/weights/codebook.pth saved\u001b[0m\n",
      "\u001b[94mUsing device:\u001b[0m cuda:0\n"
     ]
    }
   ],
   "source": [
    "from src.datasets.shape_net.shape_net_v3_sdf import ShapeNetV3SDF\n",
    "#from src.datasets.shape_net.shape_net_v2_sdf import ShapeNetV2SDF\n",
    "from src.utils.util import seed_all\n",
    "from src.utils.visualizations import visualize_sdf_as_mesh\n",
    "from src.pre_processing.extract_snet_indices import ExtractSnetIndices\n",
    "import numpy as np\n",
    "import torch\n",
    "%load_ext autoreload\n",
    "%load_ext tensorboard\n",
    "%autoreload 2\n",
    "seed_all(111)\n",
    "x = torch.cuda.mem_get_info()\n",
    "print(x)\n",
    "extractor = ExtractSnetIndices(ShapeNetV3SDF)"
   ]
  },
  {
   "cell_type": "code",
   "execution_count": 2,
   "id": "0793b372",
   "metadata": {},
   "outputs": [
    {
     "name": "stderr",
     "output_type": "stream",
     "text": [
      "100%|██████████| 165/165 [00:32<00:00,  5.01it/s]\n"
     ]
    }
   ],
   "source": [
    "extractor.extract_validation()"
   ]
  },
  {
   "cell_type": "code",
   "execution_count": 4,
   "id": "8811eeca",
   "metadata": {},
   "outputs": [
    {
     "name": "stderr",
     "output_type": "stream",
     "text": [
      "100%|██████████| 1481/1481 [04:39<00:00,  5.29it/s]\n"
     ]
    }
   ],
   "source": [
    "extractor.extract_train()"
   ]
  },
  {
   "cell_type": "code",
   "execution_count": null,
   "id": "056cadc8",
   "metadata": {},
   "outputs": [],
   "source": []
  }
 ],
 "metadata": {
  "kernelspec": {
   "display_name": "Python 3 (ipykernel)",
   "language": "python",
   "name": "python3"
  },
  "language_info": {
   "codemirror_mode": {
    "name": "ipython",
    "version": 3
   },
   "file_extension": ".py",
   "mimetype": "text/x-python",
   "name": "python",
   "nbconvert_exporter": "python",
   "pygments_lexer": "ipython3",
   "version": "3.10.12"
  }
 },
 "nbformat": 4,
 "nbformat_minor": 5
}
