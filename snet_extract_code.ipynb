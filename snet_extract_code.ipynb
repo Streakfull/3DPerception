{
 "cells": [
  {
   "cell_type": "code",
   "execution_count": null,
   "id": "c9adf21f",
   "metadata": {},
   "outputs": [],
   "source": [
    "from src.datasets.shape_net.shape_net_v3_sdf import ShapeNetV3SDF\n",
    "#from src.datasets.shape_net.shape_net_v2_sdf import ShapeNetV2SDF\n",
    "from src.utils.util import seed_all\n",
    "from src.utils.visualizations import visualize_sdf_as_mesh\n",
    "from src.pre_processing.extract_snet_indices_global import ExtractSnetIndices\n",
    "import numpy as np\n",
    "import torch\n",
    "%load_ext autoreload\n",
    "%load_ext tensorboard\n",
    "%autoreload 2\n",
    "seed_all(111)\n",
    "x = torch.cuda.mem_get_info()\n",
    "print(x)\n",
    "extractor = ExtractSnetIndices(ShapeNetV3SDF)"
   ]
  },
  {
   "cell_type": "code",
   "execution_count": null,
   "id": "0793b372",
   "metadata": {},
   "outputs": [],
   "source": [
    "extractor.extract_validation()"
   ]
  },
  {
   "cell_type": "code",
   "execution_count": null,
   "id": "8811eeca",
   "metadata": {},
   "outputs": [],
   "source": [
    "extractor.extract_train()"
   ]
  },
  {
   "cell_type": "code",
   "execution_count": null,
   "id": "056cadc8",
   "metadata": {},
   "outputs": [],
   "source": []
  }
 ],
 "metadata": {
  "kernelspec": {
   "display_name": "Python 3 (ipykernel)",
   "language": "python",
   "name": "python3"
  },
  "language_info": {
   "codemirror_mode": {
    "name": "ipython",
    "version": 3
   },
   "file_extension": ".py",
   "mimetype": "text/x-python",
   "name": "python",
   "nbconvert_exporter": "python",
   "pygments_lexer": "ipython3",
   "version": "3.10.12"
  }
 },
 "nbformat": 4,
 "nbformat_minor": 5
}
