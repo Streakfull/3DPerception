{
 "cells": [
  {
   "cell_type": "markdown",
   "metadata": {},
   "source": [
    "# 1.0 Import Dependencies"
   ]
  },
  {
   "cell_type": "code",
   "execution_count": 1,
   "metadata": {},
   "outputs": [],
   "source": [
    "from src.training.ModelTrainer import ModelTrainer\n",
    "from src.datasets.shape_net.shape_net_sdf import ShapeNetSDF\n",
    "from src.utils.util import seed_all\n",
    "from src.utils.visualizations import visualize_sdf_as_mesh\n",
    "import numpy as np\n",
    "import torch\n",
    "%load_ext autoreload\n",
    "%load_ext tensorboard\n",
    "%autoreload 2\n",
    "seed_all(111)\n"
   ]
  },
  {
   "cell_type": "markdown",
   "metadata": {},
   "source": [
    "# 2.0 Load Model\n",
    "\n",
    "* You can adjust the configuration in the `configs/global_configs.yaml` file"
   ]
  },
  {
   "cell_type": "code",
   "execution_count": 2,
   "metadata": {},
   "outputs": [
    {
     "name": "stdout",
     "output_type": "stream",
     "text": [
      "Memory Before: %s (9422897152, 10487136256)\n",
      "\u001b[94m{'name': 'PR-Testing', 'description': 'Testing final PR', 'experiment_id': 'None', 'extra_notes': 'none', 'logs_dir': 'logs', 'is_train': True, 'device': 'cpu', 'batch_size': 6, 'num_workers': 1, 'test_size': 0.1, 'n_epochs': 500, 'append_loss_every': 50, 'print_every': 1000, 'validate_every': 6000, 'save_every': 1700000000000000000000000000, 'save_every_nepochs': 4, 'start_epoch': 0, 'start_iteration': 0, 'visualize_every': 500, 'load_ckpt': True, 'ckpt_path': 'src/logs/new-dataset-train/notebook/2024_05_08_04_08_18/checkpoints/epoch-best.ckpt', 'use_scheduler': False}\u001b[0m\n",
      "length:  6778\n",
      "[*] Enc has Attn at i_level, i_block: 3, 0\n",
      "Decoding of shape (1, 32, 8, 8, 8) = 16384 dimensions.\n",
      "[*] Dec has Attn at i_level, i_block: 3, 0\n"
     ]
    },
    {
     "name": "stderr",
     "output_type": "stream",
     "text": [
      "\u001b[93mUsing CPU\u001b[0m\n",
      "\u001b[93m- Creating new directory logs/PR-Testing/2024_05_09_02_34_25\u001b[0m\n",
      "\u001b[93m- Creating new directory logs/PR-Testing/2024_05_09_02_34_25/checkpoints\u001b[0m\n",
      "\u001b[93m- Creating new directory logs/PR-Testing/2024_05_09_02_34_25/tb\u001b[0m\n",
      "\u001b[93m- Creating new directory logs/PR-Testing/2024_05_09_02_34_25/visuals\u001b[0m\n",
      "\u001b[93m- Creating new directory logs/PR-Testing/2024_05_09_02_34_25/modelsummary\u001b[0m\n",
      "\u001b[93mUsing CPU\u001b[0m\n"
     ]
    },
    {
     "name": "stdout",
     "output_type": "stream",
     "text": [
      "Model loaded from src/logs/new-dataset-train/notebook/2024_05_08_04_08_18/checkpoints/epoch-best.ckpt\n",
      "Model size: 54.709MB\n",
      "Total_params: 14.3M\n",
      "Dataset length:  6778\n",
      "Memory After: %s (8839888896, 10487136256)\n"
     ]
    }
   ],
   "source": [
    "mem = torch.cuda.mem_get_info()\n",
    "print(\"Memory Before: %s\", mem)\n",
    "trainer = ModelTrainer(dataset_type=ShapeNetSDF,\n",
    "                       options={\"tdm_notebook\": True})\n",
    "\n",
    "dataset = trainer.data_loader_handler.dataset\n",
    "print(\"Dataset length: \", len(dataset))\n",
    "mem = torch.cuda.mem_get_info()\n",
    "print(\"Memory After: %s\", mem)"
   ]
  },
  {
   "cell_type": "markdown",
   "metadata": {},
   "source": [
    "# 3.0 Reconstruction Samples"
   ]
  },
  {
   "cell_type": "code",
   "execution_count": 3,
   "metadata": {},
   "outputs": [
    {
     "data": {
      "text/plain": [
       "1017"
      ]
     },
     "execution_count": 3,
     "metadata": {},
     "output_type": "execute_result"
    }
   ],
   "source": [
    "model = trainer.model\n",
    "dataset = trainer.data_loader_handler.train_dataloader\n",
    "len(dataset)"
   ]
  },
  {
   "cell_type": "markdown",
   "metadata": {},
   "source": [
    "## 3.1 Check a random batch reconstructions"
   ]
  },
  {
   "cell_type": "code",
   "execution_count": 4,
   "metadata": {},
   "outputs": [
    {
     "name": "stdout",
     "output_type": "stream",
     "text": [
      "Reconstruction\n"
     ]
    },
    {
     "data": {
      "application/vnd.jupyter.widget-view+json": {
       "model_id": "c1667c3903f64a63899fedc9f0e9d3cf",
       "version_major": 2,
       "version_minor": 0
      },
      "text/plain": [
       "Output()"
      ]
     },
     "metadata": {},
     "output_type": "display_data"
    },
    {
     "name": "stdout",
     "output_type": "stream",
     "text": [
      "===========================================\n",
      "Target:\n"
     ]
    },
    {
     "data": {
      "application/vnd.jupyter.widget-view+json": {
       "model_id": "60a751d3279c40ac941db382db0866aa",
       "version_major": 2,
       "version_minor": 0
      },
      "text/plain": [
       "Output()"
      ]
     },
     "metadata": {},
     "output_type": "display_data"
    },
    {
     "name": "stdout",
     "output_type": "stream",
     "text": [
      "Reconstruction\n"
     ]
    },
    {
     "data": {
      "application/vnd.jupyter.widget-view+json": {
       "model_id": "a4b005693451447285642474b1341566",
       "version_major": 2,
       "version_minor": 0
      },
      "text/plain": [
       "Output()"
      ]
     },
     "metadata": {},
     "output_type": "display_data"
    },
    {
     "name": "stdout",
     "output_type": "stream",
     "text": [
      "===========================================\n",
      "Target:\n"
     ]
    },
    {
     "data": {
      "application/vnd.jupyter.widget-view+json": {
       "model_id": "195b2f828aaf419591334da0c90915e6",
       "version_major": 2,
       "version_minor": 0
      },
      "text/plain": [
       "Output()"
      ]
     },
     "metadata": {},
     "output_type": "display_data"
    },
    {
     "name": "stdout",
     "output_type": "stream",
     "text": [
      "Reconstruction\n"
     ]
    },
    {
     "data": {
      "application/vnd.jupyter.widget-view+json": {
       "model_id": "87563325e2804d2aa6de3f51f7f9e1e5",
       "version_major": 2,
       "version_minor": 0
      },
      "text/plain": [
       "Output()"
      ]
     },
     "metadata": {},
     "output_type": "display_data"
    },
    {
     "name": "stdout",
     "output_type": "stream",
     "text": [
      "===========================================\n",
      "Target:\n"
     ]
    },
    {
     "data": {
      "application/vnd.jupyter.widget-view+json": {
       "model_id": "4b5bf37a5fe24857bd084c3f5c77b010",
       "version_major": 2,
       "version_minor": 0
      },
      "text/plain": [
       "Output()"
      ]
     },
     "metadata": {},
     "output_type": "display_data"
    },
    {
     "name": "stdout",
     "output_type": "stream",
     "text": [
      "Reconstruction\n"
     ]
    },
    {
     "data": {
      "application/vnd.jupyter.widget-view+json": {
       "model_id": "f6c3e110db514c709a7dffbf222dc5be",
       "version_major": 2,
       "version_minor": 0
      },
      "text/plain": [
       "Output()"
      ]
     },
     "metadata": {},
     "output_type": "display_data"
    },
    {
     "name": "stdout",
     "output_type": "stream",
     "text": [
      "===========================================\n",
      "Target:\n"
     ]
    },
    {
     "data": {
      "application/vnd.jupyter.widget-view+json": {
       "model_id": "d20f710efc394cb2abfaddd84843184d",
       "version_major": 2,
       "version_minor": 0
      },
      "text/plain": [
       "Output()"
      ]
     },
     "metadata": {},
     "output_type": "display_data"
    },
    {
     "name": "stdout",
     "output_type": "stream",
     "text": [
      "Reconstruction\n"
     ]
    },
    {
     "data": {
      "application/vnd.jupyter.widget-view+json": {
       "model_id": "1b780c51eeb4464c8d584ce492cdbdec",
       "version_major": 2,
       "version_minor": 0
      },
      "text/plain": [
       "Output()"
      ]
     },
     "metadata": {},
     "output_type": "display_data"
    },
    {
     "name": "stdout",
     "output_type": "stream",
     "text": [
      "===========================================\n",
      "Target:\n"
     ]
    },
    {
     "data": {
      "application/vnd.jupyter.widget-view+json": {
       "model_id": "90c84355c8a34b92b08be72db3e4f322",
       "version_major": 2,
       "version_minor": 0
      },
      "text/plain": [
       "Output()"
      ]
     },
     "metadata": {},
     "output_type": "display_data"
    },
    {
     "name": "stdout",
     "output_type": "stream",
     "text": [
      "Reconstruction\n"
     ]
    },
    {
     "data": {
      "application/vnd.jupyter.widget-view+json": {
       "model_id": "16326bf18dcc4de0b0d3d7c0a87a5ce1",
       "version_major": 2,
       "version_minor": 0
      },
      "text/plain": [
       "Output()"
      ]
     },
     "metadata": {},
     "output_type": "display_data"
    },
    {
     "name": "stdout",
     "output_type": "stream",
     "text": [
      "===========================================\n",
      "Target:\n"
     ]
    },
    {
     "data": {
      "application/vnd.jupyter.widget-view+json": {
       "model_id": "31bdb5bdec3f4dc790cd814e1967aa0a",
       "version_major": 2,
       "version_minor": 0
      },
      "text/plain": [
       "Output()"
      ]
     },
     "metadata": {},
     "output_type": "display_data"
    }
   ],
   "source": [
    "visualize_batch_index = 10\n",
    "for index, batch in enumerate(dataset):\n",
    "    if (index != visualize_batch_index):\n",
    "        continue\n",
    "    sdfs = batch['sdf']\n",
    "    pred = model.inference(sdfs)\n",
    "    pred = pred.detach().numpy()\n",
    "    i = 0\n",
    "    for shape in pred:\n",
    "        print(\"Reconstruction\")\n",
    "        visualize_sdf_as_mesh(shape[0], \"\",\n",
    "                              0.00, saveMesh=False)\n",
    "        print(\"===========================================\")\n",
    "        print(\"Target:\")\n",
    "        visualize_sdf_as_mesh(sdfs[i][0].detach().numpy(), \"\",\n",
    "                              0.00, saveMesh=False)\n",
    "        i += 1"
   ]
  },
  {
   "cell_type": "code",
   "execution_count": null,
   "metadata": {},
   "outputs": [],
   "source": [
    "#for index, batch in enumerate(dataset):\n",
    "\n",
    "x = list(enumerate(dataset))\n",
    "\n"
   ]
  },
  {
   "cell_type": "code",
   "execution_count": null,
   "metadata": {},
   "outputs": [],
   "source": [
    "sdf = x[10][1]['sdf']\n",
    "pred = model.inference(torch.tensor(sdf))\n",
    "pred = pred.detach().numpy()"
   ]
  },
  {
   "cell_type": "code",
   "execution_count": null,
   "metadata": {},
   "outputs": [],
   "source": [
    "pred[0].shape"
   ]
  },
  {
   "cell_type": "code",
   "execution_count": null,
   "metadata": {},
   "outputs": [],
   "source": [
    "sdf = sdf.numpy()\n",
    "visualize_sdf_as_mesh(pred[0][0], \"\",\n",
    "                              0.00, saveMesh=False)"
   ]
  },
  {
   "cell_type": "code",
   "execution_count": null,
   "metadata": {},
   "outputs": [],
   "source": [
    "visualize_sdf_as_mesh(sdf[0][0], \"\",\n",
    "                      0.00, saveMesh=False)"
   ]
  },
  {
   "cell_type": "code",
   "execution_count": null,
   "metadata": {},
   "outputs": [],
   "source": []
  }
 ],
 "metadata": {
  "kernelspec": {
   "display_name": "vqgan_scene_reconstruction-cT5po-tB-py3.10",
   "language": "python",
   "name": "python3"
  },
  "language_info": {
   "codemirror_mode": {
    "name": "ipython",
    "version": 3
   },
   "file_extension": ".py",
   "mimetype": "text/x-python",
   "name": "python",
   "nbconvert_exporter": "python",
   "pygments_lexer": "ipython3",
   "version": "3.10.12"
  }
 },
 "nbformat": 4,
 "nbformat_minor": 2
}
