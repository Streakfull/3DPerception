{
 "cells": [
  {
   "cell_type": "code",
   "execution_count": 1,
   "id": "05f5d605",
   "metadata": {},
   "outputs": [
    {
     "name": "stdout",
     "output_type": "stream",
     "text": [
      "\u001b[94mUsing device:\u001b[0m cuda:0\n",
      "\u001b[94m{'name': 'presentationModelComparison', 'description': 'plzWork2', 'experiment_id': 'Dev', 'extra_notes': 'none', 'logs_dir': 'logs', 'is_train': True, 'device': 'cuda:0', 'batch_size': 16, 'num_workers': 16, 'test_size': 0.1, 'n_epochs': 50000, 'append_loss_every': 50, 'print_every': 10, 'validate_every': 1480, 'save_every': 1480, 'save_every_nepochs': 5, 'start_epoch': 0, 'start_iteration': 0, 'visualize_every': 200, 'apply_metrics_every': 1480, 'load_ckpt': True, 'ckpt_path': 'logs/GlobalPVQVAE/FullTrain/2024_06_03_12_37_19/checkpoints/epoch-latest.ckpt', 'use_scheduler': True, 'apply_metrics_batch_count': 5}\u001b[0m\n"
     ]
    },
    {
     "name": "stderr",
     "output_type": "stream",
     "text": [
      "\u001b[93m- Creating new directory logs/presentationModelComparison/Dev/2024_06_05_22_06_40\u001b[0m\n",
      "\u001b[93m- Creating new directory logs/presentationModelComparison/Dev/2024_06_05_22_06_40/checkpoints\u001b[0m\n",
      "\u001b[93m- Creating new directory logs/presentationModelComparison/Dev/2024_06_05_22_06_40/tb\u001b[0m\n",
      "\u001b[93m- Creating new directory logs/presentationModelComparison/Dev/2024_06_05_22_06_40/visuals\u001b[0m\n",
      "\u001b[93m- Creating new directory logs/presentationModelComparison/Dev/2024_06_05_22_06_40/modelsummary\u001b[0m\n"
     ]
    },
    {
     "name": "stdout",
     "output_type": "stream",
     "text": [
      "Jupyter environment detected. Enabling Open3D WebVisualizer.\n",
      "[Open3D INFO] WebRTC GUI backend enabled.\n",
      "[Open3D INFO] WebRTCWindowSystem: HTTP handshake server disabled.\n",
      "[*] Enc has Attn at i_level, i_block: 3, 0\n",
      "Decoding of shape (1, 64, 8, 8, 8) = 32768 dimensions.\n",
      "[*] Dec has Attn at i_level, i_block: 3, 0\n",
      "\u001b[94mUsing device:\u001b[0m cuda:0\n",
      "\u001b[94mInitializing model weights with normal initialization\u001b[0m\n",
      "Model loaded from logs/GlobalPVQVAE/FullTrain/2024_06_03_12_37_19/checkpoints/epoch-latest.ckpt\n",
      "Model size: 99.591MB\n",
      "Total_params: 26.1M\n",
      "(10120527872, 10385358848)\n"
     ]
    }
   ],
   "source": [
    "from src.datasets.shape_net.shape_net_v3_sdf import ShapeNetV3SDF\n",
    "from src.training.ModelTrainer import ModelTrainer\n",
    "#from src.datasets.shape_net.shape_net_v2_sdf import ShapeNetV2SDF\n",
    "from src.utils.util import seed_all\n",
    "from src.utils.visualizations import visualize_sdf_as_mesh\n",
    "from src.pre_processing.extract_snet_indices_global import ExtractSnetIndices\n",
    "from tqdm.notebook import tqdm as tqdm\n",
    "import numpy as np\n",
    "import torch\n",
    "%load_ext autoreload\n",
    "%load_ext tensorboard\n",
    "%autoreload 2\n",
    "seed_all(111)\n",
    "x = torch.cuda.mem_get_info()\n",
    "trainer = ModelTrainer(dataset_type=ShapeNetV3SDF,\n",
    "                       options={\"tdm_notebook\": True})\n",
    "\n",
    "dataset = trainer.data_loader_handler.dataset\n",
    "from tqdm.notebook import tqdm as tqdm\n",
    "import json\n",
    "print(x)"
   ]
  },
  {
   "cell_type": "code",
   "execution_count": 2,
   "id": "ffa143b7",
   "metadata": {},
   "outputs": [],
   "source": [
    "dataset = trainer.data_loader_handler.dataset\n",
    "len(dataset)\n",
    "global_dict = {}\n",
    "patched_dict = {}\n",
    "indices = np.arange(1,513)\n",
    "for index in indices:\n",
    "    global_dict[f\"{index}\"] = 0\n",
    "    patched_dict[f\"{index}\"] = 0\n",
    "\n",
    "#global_dict"
   ]
  },
  {
   "cell_type": "code",
   "execution_count": 3,
   "id": "1a4c8ff1",
   "metadata": {},
   "outputs": [
    {
     "data": {
      "application/vnd.jupyter.widget-view+json": {
       "model_id": "f0dd46d7c7ba4eb28be2091112c199c8",
       "version_major": 2,
       "version_minor": 0
      },
      "text/plain": [
       "  0%|          | 0/6579 [00:00<?, ?it/s]"
      ]
     },
     "metadata": {},
     "output_type": "display_data"
    }
   ],
   "source": [
    "for item in tqdm(dataset, total=len(dataset)):\n",
    "    code_idx_patched = item[\"idx\"].flatten()\n",
    "    code_idx_global = item[\"idx_global\"].flatten()\n",
    "    for idx in code_idx_global:\n",
    "        global_dict[f\"{idx}\"] += 1\n",
    "    for idx_g in code_idx_patched:\n",
    "        patched_dict[f\"{idx_g}\"] += 1\n"
   ]
  },
  {
   "cell_type": "code",
   "execution_count": null,
   "id": "4dfcc68f",
   "metadata": {},
   "outputs": [],
   "source": [
    "global_dict\n",
    "patched_dict"
   ]
  },
  {
   "cell_type": "code",
   "execution_count": 16,
   "id": "0cae5f7f",
   "metadata": {},
   "outputs": [],
   "source": [
    " with open(f\"./src/testVisuals/global_indices.json\", \"w\") as file1:\n",
    "            json_object = json.dumps(global_dict, indent=4)\n",
    "            file1.write(str(json_object))\n",
    "\n",
    "with open(f\"./src/testVisuals/patched_indices.json\", \"w\") as file1:\n",
    "            json_object = json.dumps(patched_dict, indent=4)\n",
    "            file1.write(str(json_object))\n",
    "            "
   ]
  },
  {
   "cell_type": "code",
   "execution_count": 9,
   "id": "97582da0",
   "metadata": {},
   "outputs": [],
   "source": [
    "k = np.array(list(global_dict.values())).sum()"
   ]
  },
  {
   "cell_type": "code",
   "execution_count": 10,
   "id": "d31fbf0d",
   "metadata": {},
   "outputs": [
    {
     "data": {
      "text/plain": [
       "3368448"
      ]
     },
     "execution_count": 10,
     "metadata": {},
     "output_type": "execute_result"
    }
   ],
   "source": [
    "k"
   ]
  },
  {
   "cell_type": "code",
   "execution_count": 11,
   "id": "076d8e70",
   "metadata": {},
   "outputs": [],
   "source": [
    "k = np.array(list(patched_dict.values())).sum()"
   ]
  },
  {
   "cell_type": "code",
   "execution_count": 12,
   "id": "69677d79",
   "metadata": {},
   "outputs": [
    {
     "data": {
      "text/plain": [
       "3368448"
      ]
     },
     "execution_count": 12,
     "metadata": {},
     "output_type": "execute_result"
    }
   ],
   "source": [
    "k"
   ]
  },
  {
   "cell_type": "code",
   "execution_count": 15,
   "id": "d6e6458b",
   "metadata": {},
   "outputs": [],
   "source": [
    "for index in indices:\n",
    "    global_dict[f\"{index}\"] =  global_dict[f\"{index}\"]*100\n",
    "    patched_dict[f\"{index}\"] = patched_dict[f\"{index}\"]*100"
   ]
  },
  {
   "cell_type": "code",
   "execution_count": 27,
   "id": "82b6725e",
   "metadata": {},
   "outputs": [
    {
     "data": {
      "text/plain": [
       "Text(0.5, 1.0, 'Codebook Index')"
      ]
     },
     "execution_count": 27,
     "metadata": {},
     "output_type": "execute_result"
    },
    {
     "data": {
      "image/png": "[encoded data removed]",
      "text/plain": [
       "<Figure size 640x480 with 1 Axes>"
      ]
     },
     "metadata": {},
     "output_type": "display_data"
    }
   ],
   "source": [
    "import matplotlib.pyplot as plt\n",
    "\n",
    "fig, ax = plt.subplots()\n",
    "\n",
    "percentages = np.array(list(patched_dict.values()))\n",
    "ax.bar(indices, percentages)\n",
    "ax.set_ylabel('Percentage %')\n",
    "ax.set_title('Codebook Index')\n"
   ]
  },
  {
   "cell_type": "code",
   "execution_count": 24,
   "id": "257e08e0",
   "metadata": {},
   "outputs": [],
   "source": [
    "percentages = np.array(list(global_dict.values()))"
   ]
  },
  {
   "cell_type": "code",
   "execution_count": 25,
   "id": "128cf837",
   "metadata": {},
   "outputs": [
    {
     "data": {
      "text/plain": [
       "(155,)"
      ]
     },
     "execution_count": 25,
     "metadata": {},
     "output_type": "execute_result"
    }
   ],
   "source": [
    "percentages[percentages==0].shape"
   ]
  },
  {
   "cell_type": "code",
   "execution_count": 26,
   "id": "8a14fd1d",
   "metadata": {},
   "outputs": [
    {
     "data": {
      "text/plain": [
       "0.302734375"
      ]
     },
     "execution_count": 26,
     "metadata": {},
     "output_type": "execute_result"
    }
   ],
   "source": [
    "155/512"
   ]
  },
  {
   "cell_type": "code",
   "execution_count": null,
   "id": "1f613da0",
   "metadata": {},
   "outputs": [],
   "source": []
  }
 ],
 "metadata": {
  "kernelspec": {
   "display_name": "Python 3 (ipykernel)",
   "language": "python",
   "name": "python3"
  },
  "language_info": {
   "codemirror_mode": {
    "name": "ipython",
    "version": 3
   },
   "file_extension": ".py",
   "mimetype": "text/x-python",
   "name": "python",
   "nbconvert_exporter": "python",
   "pygments_lexer": "ipython3",
   "version": "3.10.12"
  }
 },
 "nbformat": 4,
 "nbformat_minor": 5
}
