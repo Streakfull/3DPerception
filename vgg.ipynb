{
 "cells": [
  {
   "cell_type": "code",
   "execution_count": 1,
   "id": "212cf21a",
   "metadata": {},
   "outputs": [
    {
     "name": "stdout",
     "output_type": "stream",
     "text": [
      "(10120527872, 10385358848)\n",
      "\u001b[94mUsing device:\u001b[0m cuda:0\n",
      "\u001b[94m{'name': 'VGG', 'description': 'NormVis', 'experiment_id': 'trainFull', 'extra_notes': 'none', 'logs_dir': 'logs', 'is_train': True, 'device': 'cuda:0', 'batch_size': 8, 'num_workers': 16, 'test_size': 0.1, 'n_epochs': 50000, 'append_loss_every': 250, 'print_every': 100, 'validate_every': 4310, 'save_every': 4310, 'save_every_nepochs': 2, 'start_epoch': 0, 'start_iteration': 0, 'visualize_every': 1000, 'apply_metrics_every': 1480, 'load_ckpt': False, 'ckpt_path': 'logs/vaeKosmomeinOmo/Chairs2048FullConvWithDataAug/2024_06_25_12_15_40/checkpoints/epoch-latest.ckpt', 'use_scheduler': True, 'apply_metrics_batch_count': 1}\u001b[0m\n"
     ]
    },
    {
     "name": "stderr",
     "output_type": "stream",
     "text": [
      "\u001b[93m- Creating new directory logs/VGG/trainFull/2024_07_01_17_50_17\u001b[0m\n",
      "\u001b[93m- Creating new directory logs/VGG/trainFull/2024_07_01_17_50_17/checkpoints\u001b[0m\n",
      "\u001b[93m- Creating new directory logs/VGG/trainFull/2024_07_01_17_50_17/tb\u001b[0m\n",
      "\u001b[93m- Creating new directory logs/VGG/trainFull/2024_07_01_17_50_17/visuals\u001b[0m\n",
      "\u001b[93m- Creating new directory logs/VGG/trainFull/2024_07_01_17_50_17/modelsummary\u001b[0m\n"
     ]
    },
    {
     "name": "stdout",
     "output_type": "stream",
     "text": [
      "Jupyter environment detected. Enabling Open3D WebVisualizer.\n",
      "[Open3D INFO] WebRTC GUI backend enabled.\n",
      "[Open3D INFO] WebRTCWindowSystem: HTTP handshake server disabled.\n",
      "\u001b[94mUsing device:\u001b[0m cuda:0\n",
      "\u001b[94mInitializing model weights with normal initialization\u001b[0m\n",
      "Model size: 296.775MB\n",
      "Total_params: 77.8M\n",
      "Dataset length:  38315\n",
      "(9719971840, 10385358848)\n"
     ]
    },
    {
     "data": {
      "text/plain": [
       "'tensorboard --logdir logs/VGG/trainFull/2024_07_01_17_50_17/tb --bind_all'"
      ]
     },
     "execution_count": 1,
     "metadata": {},
     "output_type": "execute_result"
    }
   ],
   "source": [
    "from src.training.ModelTrainer import ModelTrainer\n",
    "from src.datasets.shape_net.shape_net_v3_sdf import ShapeNetV3SDF\n",
    "#from src.datasets.shape_net.shape_net_v2_sdf import ShapeNetV2SDF\n",
    "from src.utils.util import seed_all\n",
    "from src.utils.visualizations import visualize_sdf_as_mesh\n",
    "import numpy as np\n",
    "import torch\n",
    "%load_ext autoreload\n",
    "%load_ext tensorboard\n",
    "%autoreload 2\n",
    "seed_all(111)\n",
    "x = torch.cuda.mem_get_info()\n",
    "print(x)\n",
    "trainer = ModelTrainer(dataset_type=ShapeNetV3SDF,\n",
    "                       options={\"tdm_notebook\": True})\n",
    "\n",
    "dataset = trainer.data_loader_handler.dataset\n",
    "print(\"Dataset length: \", len(dataset))\n",
    "torch.cuda.empty_cache()\n",
    "print(torch.cuda.mem_get_info())\n",
    "model = trainer.model\n",
    "model\n",
    "str(trainer.logger.experiment_dir)\n",
    "exp = f\"{str(trainer.logger.experiment_dir)}/tb\"\n",
    "exp\n",
    "#!tensorboard --logdir exp --|bind_all\n",
    "f\"tensorboard --logdir {exp} --bind_all\""
   ]
  },
  {
   "cell_type": "code",
   "execution_count": null,
   "id": "9d8afb37",
   "metadata": {},
   "outputs": [
    {
     "data": {
      "application/vnd.jupyter.widget-view+json": {
       "model_id": "640d46be41f142d5a1429a5fc4eddec6",
       "version_major": 2,
       "version_minor": 0
      },
      "text/plain": [
       "  0%|          | 0/50000 [00:00<?, ?it/s]"
      ]
     },
     "metadata": {},
     "output_type": "display_data"
    },
    {
     "data": {
      "application/vnd.jupyter.widget-view+json": {
       "model_id": "4b6d3677f55f434e9901e4267d42cd3d",
       "version_major": 2,
       "version_minor": 0
      },
      "text/plain": [
       "  0%|          | 0/4310 [00:00<?, ?it/s]"
      ]
     },
     "metadata": {},
     "output_type": "display_data"
    },
    {
     "name": "stderr",
     "output_type": "stream",
     "text": [
      "/mnt/hdd/streakfull/dl43d/src/models/vgg19.py:122: UserWarning: Implicit dimension choice for softmax has been deprecated. Change the call to include dim=X as an argument.\n",
      "  predictions = nn.functional.softmax(self.out.detach())\n",
      "/mnt/hdd/streakfull/dl43d/src/models/vgg19.py:113: UserWarning: Implicit dimension choice for softmax has been deprecated. Change the call to include dim=X as an argument.\n",
      "  predictions = nn.functional.softmax(self.out.detach())\n",
      "\u001b[93m- Creating new directory logs/VGG/trainFull/2024_07_01_17_50_17/visuals/target\u001b[0m\n"
     ]
    },
    {
     "name": "stdout",
     "output_type": "stream",
     "text": [
      "Running Visualizations\n",
      "logs/VGG/trainFull/2024_07_01_17_50_17/visuals/target/epoch_0_iter_0.png saved\n",
      "\u001b[94mRunning Validation\u001b[0m\n"
     ]
    },
    {
     "name": "stderr",
     "output_type": "stream",
     "text": [
      "\u001b[93m[000/00000] train_loss: 2.583075\u001b[0m\n"
     ]
    },
    {
     "data": {
      "application/vnd.jupyter.widget-view+json": {
       "model_id": "3a007bf0b68f4669919b7bebdf6f486c",
       "version_major": 2,
       "version_minor": 0
      },
      "text/plain": [
       "  0%|          | 0/479 [00:00<?, ?it/s]"
      ]
     },
     "metadata": {},
     "output_type": "display_data"
    },
    {
     "name": "stdout",
     "output_type": "stream",
     "text": [
      "logs/VGG/trainFull/2024_07_01_17_50_17/checkpoints/epoch-best.ckpt created\n"
     ]
    },
    {
     "name": "stderr",
     "output_type": "stream",
     "text": [
      "\u001b[93m[000/00000] val_loss: 2.548299 | best_loss_val: 2.548299\u001b[0m\n",
      "\u001b[93m[000/00099] train_loss: 2.998900\u001b[0m\n",
      "\u001b[93m[000/00199] train_loss: 2.674545\u001b[0m\n",
      "\u001b[93m[000/00299] train_loss: 2.465036\u001b[0m\n",
      "\u001b[93m[000/00399] train_loss: 2.243470\u001b[0m\n",
      "\u001b[93m[000/00499] train_loss: 2.194820\u001b[0m\n",
      "\u001b[93m[000/00599] train_loss: 1.875930\u001b[0m\n",
      "\u001b[93m[000/00699] train_loss: 1.781537\u001b[0m\n",
      "\u001b[93m[000/00799] train_loss: 1.585844\u001b[0m\n",
      "\u001b[93m[000/00899] train_loss: 1.534514\u001b[0m\n"
     ]
    },
    {
     "name": "stdout",
     "output_type": "stream",
     "text": [
      "Running Visualizations\n",
      "logs/VGG/trainFull/2024_07_01_17_50_17/visuals/target/epoch_0_iter_999.png saved\n"
     ]
    },
    {
     "name": "stderr",
     "output_type": "stream",
     "text": [
      "\u001b[93m[000/00999] train_loss: 1.717442\u001b[0m\n",
      "\u001b[93m[000/01099] train_loss: 1.327992\u001b[0m\n",
      "\u001b[93m[000/01199] train_loss: 1.381608\u001b[0m\n",
      "\u001b[93m[000/01299] train_loss: 1.349687\u001b[0m\n",
      "\u001b[93m[000/01399] train_loss: 1.405346\u001b[0m\n",
      "\u001b[93m[000/01499] train_loss: 1.259255\u001b[0m\n",
      "\u001b[93m[000/01599] train_loss: 1.230982\u001b[0m\n",
      "\u001b[93m[000/01699] train_loss: 1.267033\u001b[0m\n",
      "\u001b[93m[000/01799] train_loss: 1.178029\u001b[0m\n",
      "\u001b[93m[000/01899] train_loss: 1.017702\u001b[0m\n"
     ]
    },
    {
     "name": "stdout",
     "output_type": "stream",
     "text": [
      "Running Visualizations\n",
      "logs/VGG/trainFull/2024_07_01_17_50_17/visuals/target/epoch_0_iter_1999.png saved\n"
     ]
    },
    {
     "name": "stderr",
     "output_type": "stream",
     "text": [
      "\u001b[93m[000/01999] train_loss: 1.064145\u001b[0m\n",
      "\u001b[93m[000/02099] train_loss: 1.130155\u001b[0m\n",
      "\u001b[93m[000/02199] train_loss: 1.048196\u001b[0m\n",
      "\u001b[93m[000/02299] train_loss: 0.981247\u001b[0m\n",
      "\u001b[93m[000/02399] train_loss: 0.965144\u001b[0m\n",
      "\u001b[93m[000/02499] train_loss: 1.029410\u001b[0m\n",
      "\u001b[93m[000/02599] train_loss: 0.917810\u001b[0m\n",
      "\u001b[93m[000/02699] train_loss: 0.827155\u001b[0m\n",
      "\u001b[93m[000/02799] train_loss: 0.882202\u001b[0m\n",
      "\u001b[93m[000/02899] train_loss: 0.985082\u001b[0m\n"
     ]
    },
    {
     "name": "stdout",
     "output_type": "stream",
     "text": [
      "Running Visualizations\n",
      "logs/VGG/trainFull/2024_07_01_17_50_17/visuals/target/epoch_0_iter_2999.png saved\n"
     ]
    },
    {
     "name": "stderr",
     "output_type": "stream",
     "text": [
      "\u001b[93m[000/02999] train_loss: 0.818667\u001b[0m\n",
      "\u001b[93m[000/03099] train_loss: 0.921637\u001b[0m\n",
      "\u001b[93m[000/03199] train_loss: 0.930346\u001b[0m\n",
      "\u001b[93m[000/03299] train_loss: 0.783994\u001b[0m\n",
      "\u001b[93m[000/03399] train_loss: 0.929971\u001b[0m\n",
      "\u001b[93m[000/03499] train_loss: 0.881367\u001b[0m\n",
      "\u001b[93m[000/03599] train_loss: 0.835230\u001b[0m\n",
      "\u001b[93m[000/03699] train_loss: 0.757433\u001b[0m\n",
      "\u001b[93m[000/03799] train_loss: 0.762933\u001b[0m\n",
      "\u001b[93m[000/03899] train_loss: 0.780202\u001b[0m\n"
     ]
    },
    {
     "name": "stdout",
     "output_type": "stream",
     "text": [
      "Running Visualizations\n",
      "logs/VGG/trainFull/2024_07_01_17_50_17/visuals/target/epoch_0_iter_3999.png saved\n"
     ]
    },
    {
     "name": "stderr",
     "output_type": "stream",
     "text": [
      "\u001b[93m[000/03999] train_loss: 0.714434\u001b[0m\n",
      "\u001b[93m[000/04099] train_loss: 0.745444\u001b[0m\n",
      "\u001b[93m[000/04199] train_loss: 0.730054\u001b[0m\n",
      "\u001b[93m[000/04299] train_loss: 0.671049\u001b[0m\n"
     ]
    },
    {
     "name": "stdout",
     "output_type": "stream",
     "text": [
      "logs/VGG/trainFull/2024_07_01_17_50_17/checkpoints/epoch-latest.ckpt created\n",
      "\u001b[94mRunning Validation\u001b[0m\n"
     ]
    },
    {
     "data": {
      "application/vnd.jupyter.widget-view+json": {
       "model_id": "0e291f9b2b414a19a9e6e9466d0b4aac",
       "version_major": 2,
       "version_minor": 0
      },
      "text/plain": [
       "  0%|          | 0/479 [00:00<?, ?it/s]"
      ]
     },
     "metadata": {},
     "output_type": "display_data"
    },
    {
     "name": "stdout",
     "output_type": "stream",
     "text": [
      "logs/VGG/trainFull/2024_07_01_17_50_17/checkpoints/epoch-best.ckpt created\n"
     ]
    },
    {
     "name": "stderr",
     "output_type": "stream",
     "text": [
      "\u001b[93m[000/04309] val_loss: 0.498653 | best_loss_val: 0.498653\u001b[0m\n"
     ]
    },
    {
     "name": "stdout",
     "output_type": "stream",
     "text": [
      "logs/VGG/trainFull/2024_07_01_17_50_17/checkpoints/epoch-0.ckpt created\n",
      "[*] learning rate = 0.0010000\n"
     ]
    },
    {
     "data": {
      "application/vnd.jupyter.widget-view+json": {
       "model_id": "45276f1dbc354cb0b31d1ee8d95e598b",
       "version_major": 2,
       "version_minor": 0
      },
      "text/plain": [
       "  0%|          | 0/4310 [00:00<?, ?it/s]"
      ]
     },
     "metadata": {},
     "output_type": "display_data"
    },
    {
     "name": "stderr",
     "output_type": "stream",
     "text": [
      "\u001b[93m[001/00089] train_loss: 0.793559\u001b[0m\n",
      "\u001b[93m[001/00189] train_loss: 0.693874\u001b[0m\n",
      "\u001b[93m[001/00289] train_loss: 0.767263\u001b[0m\n",
      "\u001b[93m[001/00389] train_loss: 0.712633\u001b[0m\n",
      "\u001b[93m[001/00489] train_loss: 0.687336\u001b[0m\n",
      "\u001b[93m[001/00589] train_loss: 0.595019\u001b[0m\n"
     ]
    },
    {
     "name": "stdout",
     "output_type": "stream",
     "text": [
      "Running Visualizations\n",
      "logs/VGG/trainFull/2024_07_01_17_50_17/visuals/target/epoch_1_iter_4999.png saved\n"
     ]
    },
    {
     "name": "stderr",
     "output_type": "stream",
     "text": [
      "\u001b[93m[001/00689] train_loss: 0.752446\u001b[0m\n",
      "\u001b[93m[001/00789] train_loss: 0.617160\u001b[0m\n",
      "\u001b[93m[001/00889] train_loss: 0.538509\u001b[0m\n",
      "\u001b[93m[001/00989] train_loss: 0.690236\u001b[0m\n",
      "\u001b[93m[001/01089] train_loss: 0.557740\u001b[0m\n",
      "\u001b[93m[001/01189] train_loss: 0.623424\u001b[0m\n",
      "\u001b[93m[001/01289] train_loss: 0.685290\u001b[0m\n",
      "\u001b[93m[001/01389] train_loss: 0.702185\u001b[0m\n",
      "\u001b[93m[001/01489] train_loss: 0.693187\u001b[0m\n",
      "\u001b[93m[001/01589] train_loss: 0.530157\u001b[0m\n"
     ]
    },
    {
     "name": "stdout",
     "output_type": "stream",
     "text": [
      "Running Visualizations\n",
      "logs/VGG/trainFull/2024_07_01_17_50_17/visuals/target/epoch_1_iter_5999.png saved\n"
     ]
    },
    {
     "name": "stderr",
     "output_type": "stream",
     "text": [
      "\u001b[93m[001/01689] train_loss: 0.536247\u001b[0m\n",
      "\u001b[93m[001/01789] train_loss: 0.575648\u001b[0m\n",
      "\u001b[93m[001/01889] train_loss: 0.443436\u001b[0m\n",
      "\u001b[93m[001/01989] train_loss: 0.573245\u001b[0m\n",
      "\u001b[93m[001/02089] train_loss: 0.661879\u001b[0m\n",
      "\u001b[93m[001/02189] train_loss: 0.595020\u001b[0m\n"
     ]
    }
   ],
   "source": [
    "trainer.train()"
   ]
  },
  {
   "cell_type": "code",
   "execution_count": null,
   "id": "c5ee7341",
   "metadata": {},
   "outputs": [],
   "source": []
  },
  {
   "cell_type": "code",
   "execution_count": null,
   "id": "02ef6c44",
   "metadata": {},
   "outputs": [],
   "source": [
    "class_name_mapping = json.loads(\n",
    "            Path(\"src/datasets/shape_net/shape_info.json\").read_text())\n"
   ]
  },
  {
   "cell_type": "code",
   "execution_count": null,
   "id": "42868710",
   "metadata": {},
   "outputs": [],
   "source": [
    "import json\n",
    "import os\n",
    "from pathlib import Path"
   ]
  },
  {
   "cell_type": "code",
   "execution_count": null,
   "id": "a0159571",
   "metadata": {},
   "outputs": [],
   "source": [
    "class_name_mapping = json.loads(\n",
    "            Path(\"src/datasets/shape_net/shape_info.json\").read_text())"
   ]
  },
  {
   "cell_type": "code",
   "execution_count": null,
   "id": "601d5c43",
   "metadata": {},
   "outputs": [],
   "source": [
    "classes = sorted(class_name_mapping.keys())"
   ]
  },
  {
   "cell_type": "code",
   "execution_count": null,
   "id": "b2f68da7",
   "metadata": {},
   "outputs": [],
   "source": [
    "classes"
   ]
  },
  {
   "cell_type": "code",
   "execution_count": null,
   "id": "7781533a",
   "metadata": {},
   "outputs": [],
   "source": [
    "class_name_mapping"
   ]
  },
  {
   "cell_type": "code",
   "execution_count": null,
   "id": "4e9e5890",
   "metadata": {},
   "outputs": [],
   "source": [
    "classes[0]"
   ]
  },
  {
   "cell_type": "code",
   "execution_count": null,
   "id": "690e8237",
   "metadata": {},
   "outputs": [],
   "source": [
    "class_name_mapping[classes[3]]"
   ]
  },
  {
   "cell_type": "code",
   "execution_count": null,
   "id": "080c2c0d",
   "metadata": {},
   "outputs": [],
   "source": [
    "x = []"
   ]
  },
  {
   "cell_type": "code",
   "execution_count": null,
   "id": "57df95ac",
   "metadata": {},
   "outputs": [],
   "source": [
    "x.append(\"s\")"
   ]
  },
  {
   "cell_type": "code",
   "execution_count": null,
   "id": "57b38f49",
   "metadata": {},
   "outputs": [],
   "source": [
    "x"
   ]
  },
  {
   "cell_type": "code",
   "execution_count": null,
   "id": "ada8d5d9",
   "metadata": {},
   "outputs": [],
   "source": [
    "\" ,\".join(x)"
   ]
  },
  {
   "cell_type": "code",
   "execution_count": null,
   "id": "260cae0e",
   "metadata": {},
   "outputs": [],
   "source": []
  }
 ],
 "metadata": {
  "kernelspec": {
   "display_name": "Python 3 (ipykernel)",
   "language": "python",
   "name": "python3"
  },
  "language_info": {
   "codemirror_mode": {
    "name": "ipython",
    "version": 3
   },
   "file_extension": ".py",
   "mimetype": "text/x-python",
   "name": "python",
   "nbconvert_exporter": "python",
   "pygments_lexer": "ipython3",
   "version": "3.10.12"
  }
 },
 "nbformat": 4,
 "nbformat_minor": 5
}
