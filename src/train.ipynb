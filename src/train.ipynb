{
 "cells": [
  {
   "cell_type": "markdown",
   "metadata": {},
   "source": [
    "## Required Imports"
   ]
  },
  {
   "cell_type": "code",
   "execution_count": 1,
   "metadata": {},
   "outputs": [],
   "source": [
    "from utils.util import mkdir,seed_all\n",
    "from omegaconf import OmegaConf\n",
    "from cprint import *\n",
    "from datasets.shape_net.shape_net_vox import ShapeNetVox\n",
    "from models.dummy_classifier import DummyClassifier\n",
    "import torch\n",
    "from tqdm.notebook import tqdm\n",
    "from torch.utils.tensorboard import SummaryWriter\n",
    "from utils.visualizations import save_voxels\n",
    "from PIL import Image\n",
    "import os\n",
    "import numpy as np\n",
    "import datetime\n",
    "%load_ext autoreload\n",
    "%load_ext tensorboard\n",
    "%autoreload 2\n"
   ]
  },
  {
   "cell_type": "markdown",
   "metadata": {},
   "source": [
    "## Setup Expirement Folder"
   ]
  },
  {
   "cell_type": "code",
   "execution_count": 2,
   "metadata": {},
   "outputs": [],
   "source": [
    "configs_path = \"./configs/global_configs.yaml\"\n",
    "global_configs = OmegaConf.load(configs_path)"
   ]
  },
  {
   "cell_type": "code",
   "execution_count": 3,
   "metadata": {},
   "outputs": [
    {
     "name": "stdout",
     "output_type": "stream",
     "text": [
      "\u001b[94m{'name': 'dummy_classification', 'description': 'Initial overfitting Experiment on shape net', 'extra_notes': 'none', 'experiment_id': 12, 'logs_dir': 'logs', 'is_train': True, 'device': 'cuda:0', 'batch_size': 8, 'n_epochs': 20, 'append_loss_every': 1, 'print_every': 1, 'validate_every': 5, 'save_every': 5, 'save_every_nepochs': 10, 'start_epoch': 0, 'start_iteration': 0, 'visualize_every': 5, 'load_ckpt': False, 'ckpt_path': 'test_path'}\u001b[0m\n",
      "\u001b[94m- logs directory found\u001b[0m\n"
     ]
    },
    {
     "name": "stderr",
     "output_type": "stream",
     "text": [
      "\u001b[93m- Creating new directory logs/dummy_classification/12\u001b[0m\n",
      "\u001b[93m- Creating new directory logs/dummy_classification/12/checkpoints\u001b[0m\n",
      "\u001b[93m- Creating new directory logs/dummy_classification/12/tb\u001b[0m\n",
      "\u001b[93m- Creating new directory logs/dummy_classification/12/visuals\u001b[0m\n"
     ]
    }
   ],
   "source": [
    "import time\n",
    "seed_all(111)\n",
    "training_config = global_configs[\"training\"]\n",
    "today = time.strftime(\"%Y-%m-%d\")\n",
    "cprint.ok(training_config)\n",
    "description = training_config[\"description\"]  # Describe Experiment params here\n",
    "logs_dir = training_config[\"logs_dir\"]\n",
    "mkdir(logs_dir)\n",
    "experiment_dir = f\"{logs_dir}/{training_config['name']}/{training_config['experiment_id']}\"\n",
    "mkdir(experiment_dir)\n",
    "loss_log_title = \"Loss Log \" + today\n",
    "\n",
    "with open(f\"{experiment_dir}/description.txt\", \"w\") as file1:\n",
    "    file1.write(description)\n",
    "\n",
    "with open(f\"{experiment_dir}/global_configs.txt\", \"w\") as file1:\n",
    "    file1.write(str(training_config))\n",
    "\n",
    "with open(f\"{experiment_dir}/loss_log.txt\", \"w\") as file1:\n",
    "    file1.write(loss_log_title)\n",
    "    file1.write(\"\\n\")\n",
    "\n",
    "\n",
    "mkdir(f\"{experiment_dir}/checkpoints\")\n",
    "mkdir(f\"{experiment_dir}/tb\")\n",
    "mkdir(f\"{experiment_dir}/visuals\")"
   ]
  },
  {
   "cell_type": "markdown",
   "metadata": {},
   "source": [
    "## Load Dataset & Dataloaders\n"
   ]
  },
  {
   "cell_type": "code",
   "execution_count": 4,
   "metadata": {},
   "outputs": [
    {
     "name": "stdout",
     "output_type": "stream",
     "text": [
      "length:  2\n"
     ]
    }
   ],
   "source": [
    "# Change overfit param here & cat here\n",
    "global_dataset_config = global_configs[\"dataset\"]\n",
    "local_dataset_config = global_dataset_config[\"shape_net_vox\"]\n",
    "DataSet = ShapeNetVox\n",
    "dataset = DataSet(global_dataset_config, local_dataset_config)\n",
    "print('length: ', len(dataset))\n",
    "dataset[0]\n",
    "# train_ds, valid_ds, test_ds = torch.utils.data.random_split(\n",
    "#     dataset, [1,1,1])\n",
    "\n",
    "train_ds,valid_ds, test_ds = dataset, dataset, dataset\n",
    "\n",
    "train_dataloader = torch.utils.data.DataLoader(\n",
    "    train_ds,   # Datasets return data one sample at a time; Dataloaders use them and aggregate samples into batches\n",
    "    batch_size=training_config['batch_size'],   # The size of batches is defined here\n",
    "    shuffle=True,    # Shuffling the order of samples is useful during training to prevent that the network learns to depend on the order of the input data\n",
    "    num_workers=1,   # Data is usually loaded in parallel by num_workers\n",
    "    pin_memory=True,  # This is an implementation detail to speed up data uploading to the GPU\n",
    "    # worker_init_fn=train_dataset.worker_init_fn  TODO: Uncomment this line if you are using shapenet_zip on Google Colab\n",
    ")\n",
    "\n",
    "validation_dataloader = torch.utils.data.DataLoader(\n",
    "    valid_ds,   # Datasets return data one sample at a time; Dataloaders use them and aggregate samples into batches\n",
    "    batch_size=training_config['batch_size'],   # The size of batches is defined here\n",
    "    shuffle=True,    # Shuffling the order of samples is useful during training to prevent that the network learns to depend on the order of the input data\n",
    "    num_workers=1,   # Data is usually loaded in parallel by num_workers\n",
    "    pin_memory=True,  # This is an implementation detail to speed up data uploading to the GPU\n",
    "    # worker_init_fn=train_dataset.worker_init_fn  TODO: Uncomment this line if you are using shapenet_zip on Google Colab\n",
    ")"
   ]
  },
  {
   "cell_type": "markdown",
   "metadata": {},
   "source": [
    "## Loading Model"
   ]
  },
  {
   "cell_type": "code",
   "execution_count": 5,
   "metadata": {},
   "outputs": [
    {
     "name": "stderr",
     "output_type": "stream",
     "text": [
      "\u001b[93mUsing CPU\u001b[0m\n"
     ]
    }
   ],
   "source": [
    "model_configs = global_configs[\"model\"][\"dummy_classifier\"]\n",
    "model = DummyClassifier(model_configs)\n",
    "device = torch.device('cpu')\n",
    "if torch.cuda.is_available() and training_config['device'].startswith('cuda'):\n",
    "    device = torch.device(training_config['device'])\n",
    "    cprint.ok('Using device:', training_config['device'])\n",
    "else:\n",
    "    cprint.warn('Using CPU')\n",
    "\n",
    "model.to(device)\n",
    "\n",
    "if(training_config[\"load_ckpt\"]):\n",
    "    model.load_ckpt(training_config['ckpt_path'])\n",
    "\n",
    "if(torch.cuda.is_available()):\n",
    "    torch.cuda.mem_get_info()"
   ]
  },
  {
   "cell_type": "markdown",
   "metadata": {},
   "source": [
    "# Training"
   ]
  },
  {
   "cell_type": "markdown",
   "metadata": {},
   "source": [
    "### Variables Setup"
   ]
  },
  {
   "cell_type": "code",
   "execution_count": 6,
   "metadata": {},
   "outputs": [],
   "source": [
    "train_loss_running = 0.\n",
    "best_loss_val = np.inf\n",
    "model.train()\n",
    "start_iteration = training_config[\"start_iteration\"]\n",
    "tb_dir = f\"{experiment_dir}/tb\"\n",
    "writer = SummaryWriter(log_dir=tb_dir)\n",
    "model_checkpoint_path = f\"{experiment_dir}/checkpoints\"\n",
    "loss_log_name = f\"{experiment_dir}/loss_log.txt\"\n",
    "visuals_path = f\"{experiment_dir}/visuals\"\n",
    "last_loss = 0."
   ]
  },
  {
   "cell_type": "markdown",
   "metadata": {},
   "source": [
    "## Train Logic"
   ]
  },
  {
   "cell_type": "code",
   "execution_count": 7,
   "metadata": {},
   "outputs": [],
   "source": [
    "def train_one_epoch(epoch, writer):\n",
    "    global best_loss_val\n",
    "    global last_loss\n",
    "    global start_iteration\n",
    "    train_loss_running = 0.\n",
    "    iteration_count = 0\n",
    "    for batch_idx, batch in tqdm(enumerate(train_dataloader)):\n",
    "         iteration = epoch * len(train_dataloader) + batch_idx \n",
    "         if(iteration<= start_iteration):\n",
    "            continue\n",
    "         DataSet.move_batch_to_device(batch, device)\n",
    "         model.step(batch)\n",
    "         metrics = model.get_metrics()\n",
    "         loss = metrics[\"loss\"]\n",
    "         train_loss_running += loss\n",
    "         iteration_count += 1\n",
    "\n",
    "         if iteration % training_config[\"append_loss_every\"] == (training_config[\"append_loss_every\"] - 1) or (epoch==0 and iteration==0):\n",
    "            message = '(epoch: %d, iters: %d, loss: %.6f)' % (epoch, iteration, loss.item())\n",
    "            with open(loss_log_name, \"a\") as log_file:\n",
    "                log_file.write('%s\\n' % message)\n",
    "            print(loss)\n",
    "\n",
    "         if iteration % training_config[\"visualize_every\"] == (training_config[\"visualize_every\"] - 1):\n",
    "            # Do visualizations here\n",
    "            cprint.ok(\"visuals here\")\n",
    "        \n",
    "         if iteration % training_config['print_every'] == (training_config['print_every'] - 1) or (epoch==0 and iteration==0):\n",
    "            avg_train_loss = train_loss_running / iteration_count\n",
    "            cprint.warn(f'[{epoch:03d}/{batch_idx:05d}] train_loss: {avg_train_loss:.6f}')\n",
    "            writer.add_scalar(\"Train/Loss\", avg_train_loss, iteration)\n",
    "            last_loss = avg_train_loss\n",
    "            train_loss_running = 0.\n",
    "            iteration_count = 0\n",
    "        \n",
    "         if iteration % training_config['save_every'] == (training_config['save_every'] - 1):\n",
    "            model.save(model_checkpoint_path, \"latest\")\n",
    "\n",
    "         if iteration % training_config['validate_every'] == (training_config['validate_every'] - 1) or (epoch == 0 and iteration == 0):\n",
    "            cprint.ok(\"Running Validation\")\n",
    "            model.eval()\n",
    "            loss_val = 0.\n",
    "            index_batch = 0\n",
    "            for batch_idx, batch_val in tqdm(enumerate(validation_dataloader)):\n",
    "                DataSet.move_batch_to_device(batch_val, device)\n",
    "                with torch.no_grad():\n",
    "                    model.inference(batch_val)\n",
    "                    metrics = model.get_metrics()\n",
    "                    loss_val += metrics[\"loss\"]\n",
    "                    index_batch += 1\n",
    "            avg_loss_val = loss_val / (index_batch)\n",
    "\n",
    "            #Do visualizations here\n",
    "            if avg_loss_val < best_loss_val:\n",
    "                model.save(model_checkpoint_path, \"best\")\n",
    "                best_loss_val = avg_loss_val\n",
    "            \n",
    "            cprint.warn(f'[{epoch:03d}/{batch_idx:05d}] val_loss: {avg_loss_val:.6f} | best_loss_val: {best_loss_val:.6f}')\n",
    "            writer.add_scalar(\"Validation/Loss\", avg_loss_val, iteration)\n",
    "            writer.add_scalars('Validation/LossComparison',\n",
    "                   { 'Training' : last_loss, 'Validation' : avg_loss_val },\n",
    "                    iteration)\n",
    "            writer.flush()\n",
    "         return last_loss"
   ]
  },
  {
   "cell_type": "markdown",
   "metadata": {},
   "source": [
    "## Run Training"
   ]
  },
  {
   "cell_type": "code",
   "execution_count": 8,
   "metadata": {},
   "outputs": [
    {
     "data": {
      "application/vnd.jupyter.widget-view+json": {
       "model_id": "862136d0bd1341c29e3b05f6789493ec",
       "version_major": 2,
       "version_minor": 0
      },
      "text/plain": [
       "  0%|          | 0/20 [00:00<?, ?it/s]"
      ]
     },
     "metadata": {},
     "output_type": "display_data"
    },
    {
     "data": {
      "application/vnd.jupyter.widget-view+json": {
       "model_id": "14314129726848e599df7c0191db2a73",
       "version_major": 2,
       "version_minor": 0
      },
      "text/plain": [
       "0it [00:00, ?it/s]"
      ]
     },
     "metadata": {},
     "output_type": "display_data"
    },
    {
     "name": "stdout",
     "output_type": "stream",
     "text": [
      "logs/dummy_classification/12/checkpoints/epoch-0.ckpt created\n"
     ]
    },
    {
     "data": {
      "application/vnd.jupyter.widget-view+json": {
       "model_id": "030d54a52f5346d0ac1212ddc629b787",
       "version_major": 2,
       "version_minor": 0
      },
      "text/plain": [
       "0it [00:00, ?it/s]"
      ]
     },
     "metadata": {},
     "output_type": "display_data"
    },
    {
     "name": "stdout",
     "output_type": "stream",
     "text": [
      "tensor(2.6021)\n",
      "logs/dummy_classification/12/checkpoints/epoch-1.ckpt created\n"
     ]
    },
    {
     "name": "stderr",
     "output_type": "stream",
     "text": [
      "\u001b[93m[001/00000] train_loss: 2.602103\u001b[0m\n"
     ]
    },
    {
     "data": {
      "application/vnd.jupyter.widget-view+json": {
       "model_id": "27bfea123f874b75a7daf59f66a6287c",
       "version_major": 2,
       "version_minor": 0
      },
      "text/plain": [
       "0it [00:00, ?it/s]"
      ]
     },
     "metadata": {},
     "output_type": "display_data"
    },
    {
     "name": "stdout",
     "output_type": "stream",
     "text": [
      "tensor(2.4447)\n",
      "logs/dummy_classification/12/checkpoints/epoch-2.ckpt created\n"
     ]
    },
    {
     "name": "stderr",
     "output_type": "stream",
     "text": [
      "\u001b[93m[002/00000] train_loss: 2.444674\u001b[0m\n"
     ]
    },
    {
     "data": {
      "application/vnd.jupyter.widget-view+json": {
       "model_id": "19c3933c1d1240859b35c6c094e8c85d",
       "version_major": 2,
       "version_minor": 0
      },
      "text/plain": [
       "0it [00:00, ?it/s]"
      ]
     },
     "metadata": {},
     "output_type": "display_data"
    },
    {
     "name": "stdout",
     "output_type": "stream",
     "text": [
      "tensor(2.0145)\n",
      "logs/dummy_classification/12/checkpoints/epoch-3.ckpt created\n"
     ]
    },
    {
     "name": "stderr",
     "output_type": "stream",
     "text": [
      "\u001b[93m[003/00000] train_loss: 2.014546\u001b[0m\n"
     ]
    },
    {
     "data": {
      "application/vnd.jupyter.widget-view+json": {
       "model_id": "0105e046b0244614837800d5c42c5276",
       "version_major": 2,
       "version_minor": 0
      },
      "text/plain": [
       "0it [00:00, ?it/s]"
      ]
     },
     "metadata": {},
     "output_type": "display_data"
    },
    {
     "name": "stdout",
     "output_type": "stream",
     "text": [
      "tensor(1.1900)\n",
      "\u001b[94mvisuals here\u001b[0m\n"
     ]
    },
    {
     "name": "stderr",
     "output_type": "stream",
     "text": [
      "\u001b[93m[004/00000] train_loss: 1.190029\u001b[0m\n"
     ]
    },
    {
     "name": "stdout",
     "output_type": "stream",
     "text": [
      "logs/dummy_classification/12/checkpoints/epoch-latest.ckpt created\n",
      "\u001b[94mRunning Validation\u001b[0m\n"
     ]
    },
    {
     "data": {
      "application/vnd.jupyter.widget-view+json": {
       "model_id": "cffc26df145545c98a3e6696c56b4421",
       "version_major": 2,
       "version_minor": 0
      },
      "text/plain": [
       "0it [00:00, ?it/s]"
      ]
     },
     "metadata": {},
     "output_type": "display_data"
    },
    {
     "name": "stdout",
     "output_type": "stream",
     "text": [
      "logs/dummy_classification/12/checkpoints/epoch-best.ckpt created\n",
      "logs/dummy_classification/12/checkpoints/epoch-4.ckpt created\n"
     ]
    },
    {
     "name": "stderr",
     "output_type": "stream",
     "text": [
      "\u001b[93m[004/00000] val_loss: 1.953214 | best_loss_val: 1.953214\u001b[0m\n"
     ]
    },
    {
     "data": {
      "application/vnd.jupyter.widget-view+json": {
       "model_id": "1633383e85554545b7cb357931f41352",
       "version_major": 2,
       "version_minor": 0
      },
      "text/plain": [
       "0it [00:00, ?it/s]"
      ]
     },
     "metadata": {},
     "output_type": "display_data"
    },
    {
     "name": "stdout",
     "output_type": "stream",
     "text": [
      "tensor(0.2063)\n",
      "logs/dummy_classification/12/checkpoints/epoch-5.ckpt created\n"
     ]
    },
    {
     "name": "stderr",
     "output_type": "stream",
     "text": [
      "\u001b[93m[005/00000] train_loss: 0.206289\u001b[0m\n"
     ]
    },
    {
     "data": {
      "application/vnd.jupyter.widget-view+json": {
       "model_id": "7bbceb47e496445cbba8f9cc9119ff2a",
       "version_major": 2,
       "version_minor": 0
      },
      "text/plain": [
       "0it [00:00, ?it/s]"
      ]
     },
     "metadata": {},
     "output_type": "display_data"
    },
    {
     "name": "stdout",
     "output_type": "stream",
     "text": [
      "tensor(0.0030)\n",
      "logs/dummy_classification/12/checkpoints/epoch-6.ckpt created\n"
     ]
    },
    {
     "name": "stderr",
     "output_type": "stream",
     "text": [
      "\u001b[93m[006/00000] train_loss: 0.002989\u001b[0m\n"
     ]
    },
    {
     "data": {
      "application/vnd.jupyter.widget-view+json": {
       "model_id": "459b4cdcc79d4887a86f21da3e38f974",
       "version_major": 2,
       "version_minor": 0
      },
      "text/plain": [
       "0it [00:00, ?it/s]"
      ]
     },
     "metadata": {},
     "output_type": "display_data"
    },
    {
     "name": "stdout",
     "output_type": "stream",
     "text": [
      "tensor(1.0967e-05)\n",
      "logs/dummy_classification/12/checkpoints/epoch-7.ckpt created\n"
     ]
    },
    {
     "name": "stderr",
     "output_type": "stream",
     "text": [
      "\u001b[93m[007/00000] train_loss: 0.000011\u001b[0m\n"
     ]
    },
    {
     "data": {
      "application/vnd.jupyter.widget-view+json": {
       "model_id": "8f5db0cdd1d44cee8088052aa95f4e82",
       "version_major": 2,
       "version_minor": 0
      },
      "text/plain": [
       "0it [00:00, ?it/s]"
      ]
     },
     "metadata": {},
     "output_type": "display_data"
    },
    {
     "name": "stdout",
     "output_type": "stream",
     "text": [
      "tensor(0.)\n",
      "logs/dummy_classification/12/checkpoints/epoch-8.ckpt created\n"
     ]
    },
    {
     "name": "stderr",
     "output_type": "stream",
     "text": [
      "\u001b[93m[008/00000] train_loss: 0.000000\u001b[0m\n"
     ]
    },
    {
     "data": {
      "application/vnd.jupyter.widget-view+json": {
       "model_id": "5141bc60f8f94d7d9bb910f990c841fe",
       "version_major": 2,
       "version_minor": 0
      },
      "text/plain": [
       "0it [00:05, ?it/s]"
      ]
     },
     "metadata": {},
     "output_type": "display_data"
    },
    {
     "name": "stdout",
     "output_type": "stream",
     "text": [
      "tensor(0.)\n",
      "\u001b[94mvisuals here\u001b[0m\n",
      "logs/dummy_classification/12/checkpoints/epoch-latest.ckpt created\n",
      "\u001b[94mRunning Validation\u001b[0m\n"
     ]
    },
    {
     "name": "stderr",
     "output_type": "stream",
     "text": [
      "\u001b[93m[009/00000] train_loss: 0.000000\u001b[0m\n"
     ]
    },
    {
     "data": {
      "application/vnd.jupyter.widget-view+json": {
       "model_id": "993e30b99b89409da483eae476465bb0",
       "version_major": 2,
       "version_minor": 0
      },
      "text/plain": [
       "0it [00:00, ?it/s]"
      ]
     },
     "metadata": {},
     "output_type": "display_data"
    },
    {
     "name": "stdout",
     "output_type": "stream",
     "text": [
      "logs/dummy_classification/12/checkpoints/epoch-best.ckpt created\n",
      "logs/dummy_classification/12/checkpoints/epoch-9.ckpt created\n"
     ]
    },
    {
     "name": "stderr",
     "output_type": "stream",
     "text": [
      "\u001b[93m[009/00000] val_loss: 0.000115 | best_loss_val: 0.000115\u001b[0m\n"
     ]
    },
    {
     "data": {
      "application/vnd.jupyter.widget-view+json": {
       "model_id": "fc90a3d529d14802b0ed027009633950",
       "version_major": 2,
       "version_minor": 0
      },
      "text/plain": [
       "0it [00:00, ?it/s]"
      ]
     },
     "metadata": {},
     "output_type": "display_data"
    },
    {
     "name": "stdout",
     "output_type": "stream",
     "text": [
      "tensor(0.)\n",
      "logs/dummy_classification/12/checkpoints/epoch-10.ckpt created\n"
     ]
    },
    {
     "name": "stderr",
     "output_type": "stream",
     "text": [
      "\u001b[93m[010/00000] train_loss: 0.000000\u001b[0m\n"
     ]
    },
    {
     "data": {
      "application/vnd.jupyter.widget-view+json": {
       "model_id": "bf3ae0999f1445d9847ecc4f1085fb52",
       "version_major": 2,
       "version_minor": 0
      },
      "text/plain": [
       "0it [00:00, ?it/s]"
      ]
     },
     "metadata": {},
     "output_type": "display_data"
    },
    {
     "name": "stdout",
     "output_type": "stream",
     "text": [
      "tensor(0.)\n",
      "logs/dummy_classification/12/checkpoints/epoch-11.ckpt created\n"
     ]
    },
    {
     "name": "stderr",
     "output_type": "stream",
     "text": [
      "\u001b[93m[011/00000] train_loss: 0.000000\u001b[0m\n"
     ]
    },
    {
     "data": {
      "application/vnd.jupyter.widget-view+json": {
       "model_id": "478f05e1fe724f98987548a352658784",
       "version_major": 2,
       "version_minor": 0
      },
      "text/plain": [
       "0it [00:00, ?it/s]"
      ]
     },
     "metadata": {},
     "output_type": "display_data"
    },
    {
     "name": "stdout",
     "output_type": "stream",
     "text": [
      "tensor(0.)\n",
      "logs/dummy_classification/12/checkpoints/epoch-12.ckpt created\n"
     ]
    },
    {
     "name": "stderr",
     "output_type": "stream",
     "text": [
      "\u001b[93m[012/00000] train_loss: 0.000000\u001b[0m\n"
     ]
    },
    {
     "data": {
      "application/vnd.jupyter.widget-view+json": {
       "model_id": "d733ab561e61405190db70ae58afd6f6",
       "version_major": 2,
       "version_minor": 0
      },
      "text/plain": [
       "0it [00:00, ?it/s]"
      ]
     },
     "metadata": {},
     "output_type": "display_data"
    },
    {
     "name": "stdout",
     "output_type": "stream",
     "text": [
      "tensor(0.)\n",
      "logs/dummy_classification/12/checkpoints/epoch-13.ckpt created\n"
     ]
    },
    {
     "name": "stderr",
     "output_type": "stream",
     "text": [
      "\u001b[93m[013/00000] train_loss: 0.000000\u001b[0m\n"
     ]
    },
    {
     "data": {
      "application/vnd.jupyter.widget-view+json": {
       "model_id": "efcda8031a8f4aa8bcbd8c971565424b",
       "version_major": 2,
       "version_minor": 0
      },
      "text/plain": [
       "0it [00:05, ?it/s]"
      ]
     },
     "metadata": {},
     "output_type": "display_data"
    },
    {
     "name": "stdout",
     "output_type": "stream",
     "text": [
      "tensor(0.)\n",
      "\u001b[94mvisuals here\u001b[0m\n",
      "logs/dummy_classification/12/checkpoints/epoch-latest.ckpt created\n",
      "\u001b[94mRunning Validation\u001b[0m\n"
     ]
    },
    {
     "name": "stderr",
     "output_type": "stream",
     "text": [
      "\u001b[93m[014/00000] train_loss: 0.000000\u001b[0m\n"
     ]
    },
    {
     "data": {
      "application/vnd.jupyter.widget-view+json": {
       "model_id": "54fe5120b7c6495895298e8cfa306c11",
       "version_major": 2,
       "version_minor": 0
      },
      "text/plain": [
       "0it [00:00, ?it/s]"
      ]
     },
     "metadata": {},
     "output_type": "display_data"
    },
    {
     "name": "stdout",
     "output_type": "stream",
     "text": [
      "logs/dummy_classification/12/checkpoints/epoch-best.ckpt created\n",
      "logs/dummy_classification/12/checkpoints/epoch-14.ckpt created\n"
     ]
    },
    {
     "name": "stderr",
     "output_type": "stream",
     "text": [
      "\u001b[93m[014/00000] val_loss: 0.000000 | best_loss_val: 0.000000\u001b[0m\n"
     ]
    },
    {
     "data": {
      "application/vnd.jupyter.widget-view+json": {
       "model_id": "b769ea70d9db4849819154837e77df56",
       "version_major": 2,
       "version_minor": 0
      },
      "text/plain": [
       "0it [00:00, ?it/s]"
      ]
     },
     "metadata": {},
     "output_type": "display_data"
    },
    {
     "name": "stdout",
     "output_type": "stream",
     "text": [
      "tensor(0.)\n",
      "logs/dummy_classification/12/checkpoints/epoch-15.ckpt created\n"
     ]
    },
    {
     "name": "stderr",
     "output_type": "stream",
     "text": [
      "\u001b[93m[015/00000] train_loss: 0.000000\u001b[0m\n"
     ]
    },
    {
     "data": {
      "application/vnd.jupyter.widget-view+json": {
       "model_id": "c014301414a84336985ba278ff8eaee6",
       "version_major": 2,
       "version_minor": 0
      },
      "text/plain": [
       "0it [00:00, ?it/s]"
      ]
     },
     "metadata": {},
     "output_type": "display_data"
    },
    {
     "name": "stdout",
     "output_type": "stream",
     "text": [
      "tensor(0.)\n",
      "logs/dummy_classification/12/checkpoints/epoch-16.ckpt created\n"
     ]
    },
    {
     "name": "stderr",
     "output_type": "stream",
     "text": [
      "\u001b[93m[016/00000] train_loss: 0.000000\u001b[0m\n"
     ]
    },
    {
     "data": {
      "application/vnd.jupyter.widget-view+json": {
       "model_id": "8711e54dfb864a4abf9a9381cb3a7c97",
       "version_major": 2,
       "version_minor": 0
      },
      "text/plain": [
       "0it [00:00, ?it/s]"
      ]
     },
     "metadata": {},
     "output_type": "display_data"
    },
    {
     "name": "stdout",
     "output_type": "stream",
     "text": [
      "tensor(0.)\n",
      "logs/dummy_classification/12/checkpoints/epoch-17.ckpt created\n"
     ]
    },
    {
     "name": "stderr",
     "output_type": "stream",
     "text": [
      "\u001b[93m[017/00000] train_loss: 0.000000\u001b[0m\n"
     ]
    },
    {
     "data": {
      "application/vnd.jupyter.widget-view+json": {
       "model_id": "993f01ba9d8542858f27fb3ec312b4ac",
       "version_major": 2,
       "version_minor": 0
      },
      "text/plain": [
       "0it [00:00, ?it/s]"
      ]
     },
     "metadata": {},
     "output_type": "display_data"
    },
    {
     "name": "stdout",
     "output_type": "stream",
     "text": [
      "tensor(0.)\n",
      "logs/dummy_classification/12/checkpoints/epoch-18.ckpt created\n"
     ]
    },
    {
     "name": "stderr",
     "output_type": "stream",
     "text": [
      "\u001b[93m[018/00000] train_loss: 0.000000\u001b[0m\n"
     ]
    },
    {
     "data": {
      "application/vnd.jupyter.widget-view+json": {
       "model_id": "6bbb56afe6054425ab4dc06508a5e126",
       "version_major": 2,
       "version_minor": 0
      },
      "text/plain": [
       "0it [00:05, ?it/s]"
      ]
     },
     "metadata": {},
     "output_type": "display_data"
    },
    {
     "name": "stdout",
     "output_type": "stream",
     "text": [
      "tensor(0.)\n",
      "\u001b[94mvisuals here\u001b[0m\n",
      "logs/dummy_classification/12/checkpoints/epoch-latest.ckpt created\n",
      "\u001b[94mRunning Validation\u001b[0m\n"
     ]
    },
    {
     "name": "stderr",
     "output_type": "stream",
     "text": [
      "\u001b[93m[019/00000] train_loss: 0.000000\u001b[0m\n"
     ]
    },
    {
     "data": {
      "application/vnd.jupyter.widget-view+json": {
       "model_id": "dc3832862c684e86bc56309d698e9f81",
       "version_major": 2,
       "version_minor": 0
      },
      "text/plain": [
       "0it [00:00, ?it/s]"
      ]
     },
     "metadata": {},
     "output_type": "display_data"
    },
    {
     "name": "stdout",
     "output_type": "stream",
     "text": [
      "logs/dummy_classification/12/checkpoints/epoch-19.ckpt created\n"
     ]
    },
    {
     "name": "stderr",
     "output_type": "stream",
     "text": [
      "\u001b[93m[019/00000] val_loss: 0.000000 | best_loss_val: 0.000000\u001b[0m\n"
     ]
    }
   ],
   "source": [
    "start_epoch = training_config[\"start_epoch\"]\n",
    "for epoch in tqdm(range(training_config['n_epochs'])):\n",
    "    if epoch < start_epoch:\n",
    "        continue\n",
    "    avg_loss = train_one_epoch(epoch, writer)\n",
    "    # if(epoch % config[\"save_every_nepochs\"]==0):\n",
    "    model.save(model_checkpoint_path, epoch)\n",
    "    model.update_lr()\n",
    "    writer.close()"
   ]
  },
  {
   "cell_type": "code",
   "execution_count": null,
   "metadata": {},
   "outputs": [],
   "source": []
  }
 ],
 "metadata": {
  "kernelspec": {
   "display_name": "Python 3",
   "language": "python",
   "name": "python3"
  },
  "language_info": {
   "codemirror_mode": {
    "name": "ipython",
    "version": 3
   },
   "file_extension": ".py",
   "mimetype": "text/x-python",
   "name": "python",
   "nbconvert_exporter": "python",
   "pygments_lexer": "ipython3",
   "version": "3.10.1"
  }
 },
 "nbformat": 4,
 "nbformat_minor": 2
}
