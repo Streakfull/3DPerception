{
 "cells": [
  {
   "cell_type": "markdown",
   "metadata": {},
   "source": [
    "## 1.0 Installing Requirements and getting shape net datasets"
   ]
  },
  {
   "cell_type": "code",
   "execution_count": null,
   "metadata": {},
   "outputs": [],
   "source": [
    "!pip install -r ../requirements.txt"
   ]
  },
  {
   "cell_type": "code",
   "execution_count": null,
   "metadata": {},
   "outputs": [],
   "source": [
    "from utils.util import mkdir"
   ]
  },
  {
   "cell_type": "code",
   "execution_count": null,
   "metadata": {},
   "outputs": [],
   "source": [
    "mkdir(\"raw_dataset\")\n",
    "!ls # !dir for windows"
   ]
  },
  {
   "cell_type": "code",
   "execution_count": null,
   "metadata": {},
   "outputs": [],
   "source": [
    "%cd raw_dataset"
   ]
  },
  {
   "cell_type": "code",
   "execution_count": null,
   "metadata": {},
   "outputs": [],
   "source": [
    "mkdir(\"ShapeNet\")"
   ]
  },
  {
   "cell_type": "code",
   "execution_count": null,
   "metadata": {},
   "outputs": [],
   "source": [
    "!wget http://cvgl.stanford.edu/data2/ShapeNetVox32.tgz\n",
    "!wget http://kaldir.vc.in.tum.de/cdiller/ShapeNetPointClouds.zip\n",
    "!tar -xzf ShapeNetVox32.tgz -C ShapeNet/\n",
    "!unzip -q ShapeNetPointClouds.zip -d ShapeNet/"
   ]
  },
  {
   "cell_type": "code",
   "execution_count": 19,
   "metadata": {},
   "outputs": [
    {
     "name": "stdout",
     "output_type": "stream",
     "text": [
      "The autoreload extension is already loaded. To reload it, use:\n",
      "  %reload_ext autoreload\n"
     ]
    }
   ],
   "source": [
    "from datasets.shape_net.shape_net_vox import ShapeNetVox\n",
    "from datasets.shape_net.shape_net_points import ShapeNetPoints\n",
    "from utils.visualizations import visualize_occupancy, visualize_pointcloud\n",
    "import matplotlib.pyplot as plt\n",
    "import numpy as np\n",
    "from PIL import Image\n",
    "from omegaconf import OmegaConf\n",
    "%load_ext autoreload\n",
    "%autoreload 2\n",
    "%matplotlib inline\n",
    "\n",
    "configs_path = \"./configs/global_configs.yaml\""
   ]
  },
  {
   "cell_type": "markdown",
   "metadata": {},
   "source": [
    "## 2.0 ShapeNet Vox"
   ]
  },
  {
   "cell_type": "code",
   "execution_count": 22,
   "metadata": {},
   "outputs": [
    {
     "data": {
      "text/plain": [
       "0"
      ]
     },
     "execution_count": 22,
     "metadata": {},
     "output_type": "execute_result"
    }
   ],
   "source": [
    "dataset_config = OmegaConf.load(configs_path)[\"dataset\"]\n",
    "dataset = ShapeNetVox(dataset_config, dataset_config[\"shape_net_vox\"])\n",
    "shape_data = dataset[0]\n",
    "shape_data[\"label\"]\n"
   ]
  },
  {
   "cell_type": "code",
   "execution_count": 23,
   "metadata": {},
   "outputs": [
    {
     "name": "stdout",
     "output_type": "stream",
     "text": [
      "ID: 02691156/b089abdb33c39321afd477f714c68df9\n",
      "Dataset Size: 2\n",
      "Voxel Dimensions: (1, 32, 32, 32)\n",
      "Label: 0 | airplane\n"
     ]
    },
    {
     "data": {
      "application/vnd.jupyter.widget-view+json": {
       "model_id": "13509cededba4e779744d3e0d15caa11",
       "version_major": 2,
       "version_minor": 0
      },
      "text/plain": [
       "Output()"
      ]
     },
     "metadata": {},
     "output_type": "display_data"
    }
   ],
   "source": [
    "shape_data = dataset[0]\n",
    "voxels = shape_data[\"voxels\"]\n",
    "print(f'ID: {shape_data[\"id\"]}')\n",
    "print(f'Dataset Size: {len(dataset)}')  # expected output: 43783\n",
    "print(f'Voxel Dimensions: {voxels.shape}')  # expected output: (1, 32, 32, 32)\n",
    "print(f'Label: {shape_data[\"label\"]} | {shape_data[\"class_name\"]}')\n",
    "visualize_occupancy(voxels[0], flip_axes=True)"
   ]
  },
  {
   "cell_type": "markdown",
   "metadata": {},
   "source": [
    "## 3.0 ShapeNet Point Cloud"
   ]
  },
  {
   "cell_type": "code",
   "execution_count": 24,
   "metadata": {},
   "outputs": [
    {
     "data": {
      "text/plain": [
       "0"
      ]
     },
     "execution_count": 24,
     "metadata": {},
     "output_type": "execute_result"
    }
   ],
   "source": [
    "dataset_config = OmegaConf.load(configs_path)[\"dataset\"]\n",
    "dataset = ShapeNetPoints(dataset_config, dataset_config[\"shape_net_points\"])\n",
    "shape_data = dataset[0]\n",
    "shape_data[\"label\"]"
   ]
  },
  {
   "cell_type": "code",
   "execution_count": 25,
   "metadata": {},
   "outputs": [
    {
     "name": "stdout",
     "output_type": "stream",
     "text": [
      "ID: 02691156/10155655850468db78d106ce0a280f87.obj\n",
      "Voxel Dimensions: (3, 1024)\n",
      "Label: 0 | airplane\n"
     ]
    },
    {
     "name": "stderr",
     "output_type": "stream",
     "text": [
      "c:\\Python310\\lib\\site-packages\\traittypes\\traittypes.py:97: UserWarning: Given trait value dtype \"float32\" does not match required type \"float32\". A coerced copy has been created.\n",
      "  warnings.warn(\n"
     ]
    },
    {
     "data": {
      "application/vnd.jupyter.widget-view+json": {
       "model_id": "2abbbf89def14259afe1ac025d5e964f",
       "version_major": 2,
       "version_minor": 0
      },
      "text/plain": [
       "Output()"
      ]
     },
     "metadata": {},
     "output_type": "display_data"
    }
   ],
   "source": [
    "print(f'ID: {shape_data[\"id\"]}')\n",
    "print(f'Dataset Size: {len(dataset)}')\n",
    "# expected output: (3, 1024)\n",
    "print(f'Voxel Dimensions: {shape_data[\"points\"].shape}')\n",
    "# expected output: 10, 04379243\n",
    "print(f'Label: {shape_data[\"label\"]} | {shape_data[\"class_name\"]}')\n",
    "\n",
    "visualize_pointcloud(shape_data[\"points\"].T, point_size=0.025, flip_axes=True)"
   ]
  },
  {
   "cell_type": "code",
   "execution_count": null,
   "metadata": {},
   "outputs": [],
   "source": []
  }
 ],
 "metadata": {
  "kernelspec": {
   "display_name": "Python 3",
   "language": "python",
   "name": "python3"
  },
  "language_info": {
   "codemirror_mode": {
    "name": "ipython",
    "version": 3
   },
   "file_extension": ".py",
   "mimetype": "text/x-python",
   "name": "python",
   "nbconvert_exporter": "python",
   "pygments_lexer": "ipython3",
   "version": "3.10.1"
  }
 },
 "nbformat": 4,
 "nbformat_minor": 2
}
