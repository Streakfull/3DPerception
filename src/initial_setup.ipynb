{
 "cells": [
  {
   "cell_type": "markdown",
   "metadata": {},
   "source": [
    "## 1.0 Installing Requirements and getting shape net datasets"
   ]
  },
  {
   "cell_type": "code",
   "execution_count": 1,
   "metadata": {},
   "outputs": [
    {
     "name": "stdout",
     "output_type": "stream",
     "text": [
      "Requirement already satisfied: k3d==2.15.2 in /home/youssef/.cache/pypoetry/virtualenvs/vqgan_scene_reconstruction-cT5po-tB-py3.10/lib/python3.10/site-packages (from -r ../requirements.txt (line 1)) (2.15.2)\n",
      "Requirement already satisfied: tensorboard==2.11.0 in /home/youssef/.cache/pypoetry/virtualenvs/vqgan_scene_reconstruction-cT5po-tB-py3.10/lib/python3.10/site-packages (from -r ../requirements.txt (line 2)) (2.11.0)\n",
      "Requirement already satisfied: einops==0.6.1 in /home/youssef/.cache/pypoetry/virtualenvs/vqgan_scene_reconstruction-cT5po-tB-py3.10/lib/python3.10/site-packages (from -r ../requirements.txt (line 3)) (0.6.1)\n",
      "Requirement already satisfied: cprint==1.2.2 in /home/youssef/.cache/pypoetry/virtualenvs/vqgan_scene_reconstruction-cT5po-tB-py3.10/lib/python3.10/site-packages (from -r ../requirements.txt (line 4)) (1.2.2)\n",
      "Requirement already satisfied: Pillow==9.2.0 in /home/youssef/.cache/pypoetry/virtualenvs/vqgan_scene_reconstruction-cT5po-tB-py3.10/lib/python3.10/site-packages (from -r ../requirements.txt (line 5)) (9.2.0)\n",
      "Requirement already satisfied: omegaconf==2.3.0 in /home/youssef/.cache/pypoetry/virtualenvs/vqgan_scene_reconstruction-cT5po-tB-py3.10/lib/python3.10/site-packages (from -r ../requirements.txt (line 6)) (2.3.0)\n",
      "Requirement already satisfied: trimesh==4.3.1 in /home/youssef/.cache/pypoetry/virtualenvs/vqgan_scene_reconstruction-cT5po-tB-py3.10/lib/python3.10/site-packages (from -r ../requirements.txt (line 7)) (4.3.1)\n",
      "Requirement already satisfied: torch==2.2.2 in /home/youssef/.cache/pypoetry/virtualenvs/vqgan_scene_reconstruction-cT5po-tB-py3.10/lib/python3.10/site-packages (from -r ../requirements.txt (line 8)) (2.2.2)\n",
      "Requirement already satisfied: torchaudio==2.2.2 in /home/youssef/.cache/pypoetry/virtualenvs/vqgan_scene_reconstruction-cT5po-tB-py3.10/lib/python3.10/site-packages (from -r ../requirements.txt (line 9)) (2.2.2)\n",
      "Requirement already satisfied: torchvision==0.17.2 in /home/youssef/.cache/pypoetry/virtualenvs/vqgan_scene_reconstruction-cT5po-tB-py3.10/lib/python3.10/site-packages (from -r ../requirements.txt (line 10)) (0.17.2)\n",
      "Requirement already satisfied: matplotlib==3.8.4 in /home/youssef/.cache/pypoetry/virtualenvs/vqgan_scene_reconstruction-cT5po-tB-py3.10/lib/python3.10/site-packages (from -r ../requirements.txt (line 11)) (3.8.4)\n",
      "Requirement already satisfied: termcolor==2.4.0 in /home/youssef/.cache/pypoetry/virtualenvs/vqgan_scene_reconstruction-cT5po-tB-py3.10/lib/python3.10/site-packages (from -r ../requirements.txt (line 12)) (2.4.0)\n",
      "Requirement already satisfied: scikit-learn==1.4.2 in /home/youssef/.cache/pypoetry/virtualenvs/vqgan_scene_reconstruction-cT5po-tB-py3.10/lib/python3.10/site-packages (from -r ../requirements.txt (line 13)) (1.4.2)\n",
      "Requirement already satisfied: numpy~=1.26.4 in /home/youssef/.cache/pypoetry/virtualenvs/vqgan_scene_reconstruction-cT5po-tB-py3.10/lib/python3.10/site-packages (from -r ../requirements.txt (line 14)) (1.26.4)\n",
      "Requirement already satisfied: PyYAML~=6.0.1 in /home/youssef/.cache/pypoetry/virtualenvs/vqgan_scene_reconstruction-cT5po-tB-py3.10/lib/python3.10/site-packages (from -r ../requirements.txt (line 15)) (6.0.1)\n",
      "Requirement already satisfied: tqdm~=4.66.2 in /home/youssef/.cache/pypoetry/virtualenvs/vqgan_scene_reconstruction-cT5po-tB-py3.10/lib/python3.10/site-packages (from -r ../requirements.txt (line 16)) (4.66.2)\n",
      "Collecting pyrender\n",
      "  Downloading pyrender-0.1.45-py3-none-any.whl (1.2 MB)\n",
      "\u001b[2K     \u001b[90m━━━━━━━━━━━━━━━━━━━━━━━━━━━━━━━━━━━━━━━━\u001b[0m \u001b[32m1.2/1.2 MB\u001b[0m \u001b[31m5.9 MB/s\u001b[0m eta \u001b[36m0:00:00\u001b[0m00:01\u001b[0m00:01\u001b[0m\n",
      "\u001b[?25hRequirement already satisfied: traittypes in /home/youssef/.cache/pypoetry/virtualenvs/vqgan_scene_reconstruction-cT5po-tB-py3.10/lib/python3.10/site-packages (from k3d==2.15.2->-r ../requirements.txt (line 1)) (0.2.1)\n",
      "Requirement already satisfied: traitlets in /home/youssef/.cache/pypoetry/virtualenvs/vqgan_scene_reconstruction-cT5po-tB-py3.10/lib/python3.10/site-packages (from k3d==2.15.2->-r ../requirements.txt (line 1)) (5.9.0)\n",
      "Requirement already satisfied: msgpack in /home/youssef/.cache/pypoetry/virtualenvs/vqgan_scene_reconstruction-cT5po-tB-py3.10/lib/python3.10/site-packages (from k3d==2.15.2->-r ../requirements.txt (line 1)) (1.0.8)\n",
      "Requirement already satisfied: ipywidgets<9.0.0,>=7.0.0 in /home/youssef/.cache/pypoetry/virtualenvs/vqgan_scene_reconstruction-cT5po-tB-py3.10/lib/python3.10/site-packages (from k3d==2.15.2->-r ../requirements.txt (line 1)) (8.1.2)\n",
      "Requirement already satisfied: werkzeug>=1.0.1 in /home/youssef/.cache/pypoetry/virtualenvs/vqgan_scene_reconstruction-cT5po-tB-py3.10/lib/python3.10/site-packages (from tensorboard==2.11.0->-r ../requirements.txt (line 2)) (3.0.2)\n",
      "Requirement already satisfied: google-auth<3,>=1.6.3 in /home/youssef/.cache/pypoetry/virtualenvs/vqgan_scene_reconstruction-cT5po-tB-py3.10/lib/python3.10/site-packages (from tensorboard==2.11.0->-r ../requirements.txt (line 2)) (2.29.0)\n",
      "Requirement already satisfied: wheel>=0.26 in /home/youssef/.cache/pypoetry/virtualenvs/vqgan_scene_reconstruction-cT5po-tB-py3.10/lib/python3.10/site-packages (from tensorboard==2.11.0->-r ../requirements.txt (line 2)) (0.37.1)\n",
      "Requirement already satisfied: google-auth-oauthlib<0.5,>=0.4.1 in /home/youssef/.cache/pypoetry/virtualenvs/vqgan_scene_reconstruction-cT5po-tB-py3.10/lib/python3.10/site-packages (from tensorboard==2.11.0->-r ../requirements.txt (line 2)) (0.4.6)\n",
      "Requirement already satisfied: grpcio>=1.24.3 in /home/youssef/.cache/pypoetry/virtualenvs/vqgan_scene_reconstruction-cT5po-tB-py3.10/lib/python3.10/site-packages (from tensorboard==2.11.0->-r ../requirements.txt (line 2)) (1.62.2)\n",
      "Requirement already satisfied: absl-py>=0.4 in /home/youssef/.cache/pypoetry/virtualenvs/vqgan_scene_reconstruction-cT5po-tB-py3.10/lib/python3.10/site-packages (from tensorboard==2.11.0->-r ../requirements.txt (line 2)) (2.1.0)\n",
      "Requirement already satisfied: markdown>=2.6.8 in /home/youssef/.cache/pypoetry/virtualenvs/vqgan_scene_reconstruction-cT5po-tB-py3.10/lib/python3.10/site-packages (from tensorboard==2.11.0->-r ../requirements.txt (line 2)) (3.6)\n",
      "Requirement already satisfied: requests<3,>=2.21.0 in /home/youssef/.cache/pypoetry/virtualenvs/vqgan_scene_reconstruction-cT5po-tB-py3.10/lib/python3.10/site-packages (from tensorboard==2.11.0->-r ../requirements.txt (line 2)) (2.31.0)\n",
      "Requirement already satisfied: setuptools>=41.0.0 in /home/youssef/.cache/pypoetry/virtualenvs/vqgan_scene_reconstruction-cT5po-tB-py3.10/lib/python3.10/site-packages (from tensorboard==2.11.0->-r ../requirements.txt (line 2)) (59.6.0)\n",
      "Requirement already satisfied: tensorboard-plugin-wit>=1.6.0 in /home/youssef/.cache/pypoetry/virtualenvs/vqgan_scene_reconstruction-cT5po-tB-py3.10/lib/python3.10/site-packages (from tensorboard==2.11.0->-r ../requirements.txt (line 2)) (1.8.1)\n",
      "Requirement already satisfied: protobuf<4,>=3.9.2 in /home/youssef/.cache/pypoetry/virtualenvs/vqgan_scene_reconstruction-cT5po-tB-py3.10/lib/python3.10/site-packages (from tensorboard==2.11.0->-r ../requirements.txt (line 2)) (3.20.3)\n",
      "Requirement already satisfied: tensorboard-data-server<0.7.0,>=0.6.0 in /home/youssef/.cache/pypoetry/virtualenvs/vqgan_scene_reconstruction-cT5po-tB-py3.10/lib/python3.10/site-packages (from tensorboard==2.11.0->-r ../requirements.txt (line 2)) (0.6.1)\n",
      "Requirement already satisfied: antlr4-python3-runtime==4.9.* in /home/youssef/.cache/pypoetry/virtualenvs/vqgan_scene_reconstruction-cT5po-tB-py3.10/lib/python3.10/site-packages (from omegaconf==2.3.0->-r ../requirements.txt (line 6)) (4.9.3)\n",
      "Requirement already satisfied: nvidia-cuda-nvrtc-cu12==12.1.105 in /home/youssef/.cache/pypoetry/virtualenvs/vqgan_scene_reconstruction-cT5po-tB-py3.10/lib/python3.10/site-packages (from torch==2.2.2->-r ../requirements.txt (line 8)) (12.1.105)\n",
      "Requirement already satisfied: nvidia-cusparse-cu12==12.1.0.106 in /home/youssef/.cache/pypoetry/virtualenvs/vqgan_scene_reconstruction-cT5po-tB-py3.10/lib/python3.10/site-packages (from torch==2.2.2->-r ../requirements.txt (line 8)) (12.1.0.106)\n",
      "Requirement already satisfied: nvidia-cudnn-cu12==8.9.2.26 in /home/youssef/.cache/pypoetry/virtualenvs/vqgan_scene_reconstruction-cT5po-tB-py3.10/lib/python3.10/site-packages (from torch==2.2.2->-r ../requirements.txt (line 8)) (8.9.2.26)\n",
      "Requirement already satisfied: networkx in /home/youssef/.cache/pypoetry/virtualenvs/vqgan_scene_reconstruction-cT5po-tB-py3.10/lib/python3.10/site-packages (from torch==2.2.2->-r ../requirements.txt (line 8)) (3.3)\n",
      "Requirement already satisfied: typing-extensions>=4.8.0 in /home/youssef/.cache/pypoetry/virtualenvs/vqgan_scene_reconstruction-cT5po-tB-py3.10/lib/python3.10/site-packages (from torch==2.2.2->-r ../requirements.txt (line 8)) (4.11.0)\n",
      "Requirement already satisfied: jinja2 in /home/youssef/.cache/pypoetry/virtualenvs/vqgan_scene_reconstruction-cT5po-tB-py3.10/lib/python3.10/site-packages (from torch==2.2.2->-r ../requirements.txt (line 8)) (3.1.3)\n",
      "Requirement already satisfied: sympy in /home/youssef/.cache/pypoetry/virtualenvs/vqgan_scene_reconstruction-cT5po-tB-py3.10/lib/python3.10/site-packages (from torch==2.2.2->-r ../requirements.txt (line 8)) (1.12)\n",
      "Requirement already satisfied: fsspec in /home/youssef/.cache/pypoetry/virtualenvs/vqgan_scene_reconstruction-cT5po-tB-py3.10/lib/python3.10/site-packages (from torch==2.2.2->-r ../requirements.txt (line 8)) (2024.3.1)\n",
      "Requirement already satisfied: nvidia-cufft-cu12==11.0.2.54 in /home/youssef/.cache/pypoetry/virtualenvs/vqgan_scene_reconstruction-cT5po-tB-py3.10/lib/python3.10/site-packages (from torch==2.2.2->-r ../requirements.txt (line 8)) (11.0.2.54)\n",
      "Requirement already satisfied: nvidia-cusolver-cu12==11.4.5.107 in /home/youssef/.cache/pypoetry/virtualenvs/vqgan_scene_reconstruction-cT5po-tB-py3.10/lib/python3.10/site-packages (from torch==2.2.2->-r ../requirements.txt (line 8)) (11.4.5.107)\n",
      "Requirement already satisfied: nvidia-cuda-runtime-cu12==12.1.105 in /home/youssef/.cache/pypoetry/virtualenvs/vqgan_scene_reconstruction-cT5po-tB-py3.10/lib/python3.10/site-packages (from torch==2.2.2->-r ../requirements.txt (line 8)) (12.1.105)\n",
      "Requirement already satisfied: triton==2.2.0 in /home/youssef/.cache/pypoetry/virtualenvs/vqgan_scene_reconstruction-cT5po-tB-py3.10/lib/python3.10/site-packages (from torch==2.2.2->-r ../requirements.txt (line 8)) (2.2.0)\n",
      "Requirement already satisfied: nvidia-curand-cu12==10.3.2.106 in /home/youssef/.cache/pypoetry/virtualenvs/vqgan_scene_reconstruction-cT5po-tB-py3.10/lib/python3.10/site-packages (from torch==2.2.2->-r ../requirements.txt (line 8)) (10.3.2.106)\n",
      "Requirement already satisfied: nvidia-nccl-cu12==2.19.3 in /home/youssef/.cache/pypoetry/virtualenvs/vqgan_scene_reconstruction-cT5po-tB-py3.10/lib/python3.10/site-packages (from torch==2.2.2->-r ../requirements.txt (line 8)) (2.19.3)\n",
      "Requirement already satisfied: nvidia-cuda-cupti-cu12==12.1.105 in /home/youssef/.cache/pypoetry/virtualenvs/vqgan_scene_reconstruction-cT5po-tB-py3.10/lib/python3.10/site-packages (from torch==2.2.2->-r ../requirements.txt (line 8)) (12.1.105)\n",
      "Requirement already satisfied: filelock in /home/youssef/.cache/pypoetry/virtualenvs/vqgan_scene_reconstruction-cT5po-tB-py3.10/lib/python3.10/site-packages (from torch==2.2.2->-r ../requirements.txt (line 8)) (3.13.4)\n",
      "Requirement already satisfied: nvidia-nvtx-cu12==12.1.105 in /home/youssef/.cache/pypoetry/virtualenvs/vqgan_scene_reconstruction-cT5po-tB-py3.10/lib/python3.10/site-packages (from torch==2.2.2->-r ../requirements.txt (line 8)) (12.1.105)\n",
      "Requirement already satisfied: nvidia-cublas-cu12==12.1.3.1 in /home/youssef/.cache/pypoetry/virtualenvs/vqgan_scene_reconstruction-cT5po-tB-py3.10/lib/python3.10/site-packages (from torch==2.2.2->-r ../requirements.txt (line 8)) (12.1.3.1)\n",
      "Requirement already satisfied: contourpy>=1.0.1 in /home/youssef/.cache/pypoetry/virtualenvs/vqgan_scene_reconstruction-cT5po-tB-py3.10/lib/python3.10/site-packages (from matplotlib==3.8.4->-r ../requirements.txt (line 11)) (1.2.1)\n",
      "Requirement already satisfied: python-dateutil>=2.7 in /home/youssef/.cache/pypoetry/virtualenvs/vqgan_scene_reconstruction-cT5po-tB-py3.10/lib/python3.10/site-packages (from matplotlib==3.8.4->-r ../requirements.txt (line 11)) (2.9.0.post0)\n",
      "Requirement already satisfied: pyparsing>=2.3.1 in /home/youssef/.cache/pypoetry/virtualenvs/vqgan_scene_reconstruction-cT5po-tB-py3.10/lib/python3.10/site-packages (from matplotlib==3.8.4->-r ../requirements.txt (line 11)) (3.1.2)\n",
      "Requirement already satisfied: cycler>=0.10 in /home/youssef/.cache/pypoetry/virtualenvs/vqgan_scene_reconstruction-cT5po-tB-py3.10/lib/python3.10/site-packages (from matplotlib==3.8.4->-r ../requirements.txt (line 11)) (0.11.0)\n",
      "Requirement already satisfied: kiwisolver>=1.3.1 in /home/youssef/.cache/pypoetry/virtualenvs/vqgan_scene_reconstruction-cT5po-tB-py3.10/lib/python3.10/site-packages (from matplotlib==3.8.4->-r ../requirements.txt (line 11)) (1.4.5)\n",
      "Requirement already satisfied: packaging>=20.0 in /home/youssef/.cache/pypoetry/virtualenvs/vqgan_scene_reconstruction-cT5po-tB-py3.10/lib/python3.10/site-packages (from matplotlib==3.8.4->-r ../requirements.txt (line 11)) (24.0)\n",
      "Requirement already satisfied: fonttools>=4.22.0 in /home/youssef/.cache/pypoetry/virtualenvs/vqgan_scene_reconstruction-cT5po-tB-py3.10/lib/python3.10/site-packages (from matplotlib==3.8.4->-r ../requirements.txt (line 11)) (4.38.0)\n",
      "Requirement already satisfied: joblib>=1.2.0 in /home/youssef/.cache/pypoetry/virtualenvs/vqgan_scene_reconstruction-cT5po-tB-py3.10/lib/python3.10/site-packages (from scikit-learn==1.4.2->-r ../requirements.txt (line 13)) (1.4.0)\n",
      "Requirement already satisfied: threadpoolctl>=2.0.0 in /home/youssef/.cache/pypoetry/virtualenvs/vqgan_scene_reconstruction-cT5po-tB-py3.10/lib/python3.10/site-packages (from scikit-learn==1.4.2->-r ../requirements.txt (line 13)) (3.4.0)\n",
      "Requirement already satisfied: scipy>=1.6.0 in /home/youssef/.cache/pypoetry/virtualenvs/vqgan_scene_reconstruction-cT5po-tB-py3.10/lib/python3.10/site-packages (from scikit-learn==1.4.2->-r ../requirements.txt (line 13)) (1.13.0)\n",
      "Requirement already satisfied: nvidia-nvjitlink-cu12 in /home/youssef/.cache/pypoetry/virtualenvs/vqgan_scene_reconstruction-cT5po-tB-py3.10/lib/python3.10/site-packages (from nvidia-cusolver-cu12==11.4.5.107->torch==2.2.2->-r ../requirements.txt (line 8)) (12.4.127)\n",
      "Collecting freetype-py\n",
      "  Downloading freetype_py-2.4.0-py3-none-manylinux_2_5_x86_64.manylinux1_x86_64.manylinux_2_12_x86_64.manylinux2010_x86_64.whl (1.0 MB)\n",
      "\u001b[2K     \u001b[90m━━━━━━━━━━━━━━━━━━━━━━━━━━━━━━━━━━━━━━━━\u001b[0m \u001b[32m1.0/1.0 MB\u001b[0m \u001b[31m5.9 MB/s\u001b[0m eta \u001b[36m0:00:00\u001b[0m00:01\u001b[0m00:01\u001b[0m\n",
      "\u001b[?25hRequirement already satisfied: six in /home/youssef/.cache/pypoetry/virtualenvs/vqgan_scene_reconstruction-cT5po-tB-py3.10/lib/python3.10/site-packages (from pyrender->-r ../requirements.txt (line 17)) (1.16.0)\n",
      "Requirement already satisfied: pyglet>=1.4.10 in /home/youssef/.cache/pypoetry/virtualenvs/vqgan_scene_reconstruction-cT5po-tB-py3.10/lib/python3.10/site-packages (from pyrender->-r ../requirements.txt (line 17)) (1.5.28)\n",
      "Collecting PyOpenGL==3.1.0\n",
      "  Downloading PyOpenGL-3.1.0.zip (2.2 MB)\n",
      "\u001b[2K     \u001b[90m━━━━━━━━━━━━━━━━━━━━━━━━━━━━━━━━━━━━━━━━\u001b[0m \u001b[32m2.2/2.2 MB\u001b[0m \u001b[31m5.8 MB/s\u001b[0m eta \u001b[36m0:00:00\u001b[0m00:01\u001b[0m00:01\u001b[0m\n",
      "\u001b[?25h  Preparing metadata (setup.py) ... \u001b[?25ldone\n",
      "\u001b[?25hCollecting imageio\n",
      "  Downloading imageio-2.34.1-py3-none-any.whl (313 kB)\n",
      "\u001b[2K     \u001b[90m━━━━━━━━━━━━━━━━━━━━━━━━━━━━━━━━━━━━━━━\u001b[0m \u001b[32m313.5/313.5 KB\u001b[0m \u001b[31m4.7 MB/s\u001b[0m eta \u001b[36m0:00:00\u001b[0ma \u001b[36m0:00:01\u001b[0m\n",
      "\u001b[?25hRequirement already satisfied: rsa<5,>=3.1.4 in /home/youssef/.cache/pypoetry/virtualenvs/vqgan_scene_reconstruction-cT5po-tB-py3.10/lib/python3.10/site-packages (from google-auth<3,>=1.6.3->tensorboard==2.11.0->-r ../requirements.txt (line 2)) (4.9)\n",
      "Requirement already satisfied: pyasn1-modules>=0.2.1 in /home/youssef/.cache/pypoetry/virtualenvs/vqgan_scene_reconstruction-cT5po-tB-py3.10/lib/python3.10/site-packages (from google-auth<3,>=1.6.3->tensorboard==2.11.0->-r ../requirements.txt (line 2)) (0.4.0)\n",
      "Requirement already satisfied: cachetools<6.0,>=2.0.0 in /home/youssef/.cache/pypoetry/virtualenvs/vqgan_scene_reconstruction-cT5po-tB-py3.10/lib/python3.10/site-packages (from google-auth<3,>=1.6.3->tensorboard==2.11.0->-r ../requirements.txt (line 2)) (5.3.3)\n",
      "Requirement already satisfied: requests-oauthlib>=0.7.0 in /home/youssef/.cache/pypoetry/virtualenvs/vqgan_scene_reconstruction-cT5po-tB-py3.10/lib/python3.10/site-packages (from google-auth-oauthlib<0.5,>=0.4.1->tensorboard==2.11.0->-r ../requirements.txt (line 2)) (2.0.0)\n",
      "Requirement already satisfied: comm>=0.1.3 in /home/youssef/.cache/pypoetry/virtualenvs/vqgan_scene_reconstruction-cT5po-tB-py3.10/lib/python3.10/site-packages (from ipywidgets<9.0.0,>=7.0.0->k3d==2.15.2->-r ../requirements.txt (line 1)) (0.2.2)\n",
      "Requirement already satisfied: widgetsnbextension~=4.0.10 in /home/youssef/.cache/pypoetry/virtualenvs/vqgan_scene_reconstruction-cT5po-tB-py3.10/lib/python3.10/site-packages (from ipywidgets<9.0.0,>=7.0.0->k3d==2.15.2->-r ../requirements.txt (line 1)) (4.0.10)\n",
      "Requirement already satisfied: ipython>=6.1.0 in /home/youssef/.cache/pypoetry/virtualenvs/vqgan_scene_reconstruction-cT5po-tB-py3.10/lib/python3.10/site-packages (from ipywidgets<9.0.0,>=7.0.0->k3d==2.15.2->-r ../requirements.txt (line 1)) (7.34.0)\n",
      "Requirement already satisfied: jupyterlab-widgets~=3.0.10 in /home/youssef/.cache/pypoetry/virtualenvs/vqgan_scene_reconstruction-cT5po-tB-py3.10/lib/python3.10/site-packages (from ipywidgets<9.0.0,>=7.0.0->k3d==2.15.2->-r ../requirements.txt (line 1)) (3.0.10)\n",
      "Requirement already satisfied: certifi>=2017.4.17 in /home/youssef/.cache/pypoetry/virtualenvs/vqgan_scene_reconstruction-cT5po-tB-py3.10/lib/python3.10/site-packages (from requests<3,>=2.21.0->tensorboard==2.11.0->-r ../requirements.txt (line 2)) (2024.2.2)\n",
      "Requirement already satisfied: charset-normalizer<4,>=2 in /home/youssef/.cache/pypoetry/virtualenvs/vqgan_scene_reconstruction-cT5po-tB-py3.10/lib/python3.10/site-packages (from requests<3,>=2.21.0->tensorboard==2.11.0->-r ../requirements.txt (line 2)) (3.3.2)\n",
      "Requirement already satisfied: urllib3<3,>=1.21.1 in /home/youssef/.cache/pypoetry/virtualenvs/vqgan_scene_reconstruction-cT5po-tB-py3.10/lib/python3.10/site-packages (from requests<3,>=2.21.0->tensorboard==2.11.0->-r ../requirements.txt (line 2)) (2.0.7)\n",
      "Requirement already satisfied: idna<4,>=2.5 in /home/youssef/.cache/pypoetry/virtualenvs/vqgan_scene_reconstruction-cT5po-tB-py3.10/lib/python3.10/site-packages (from requests<3,>=2.21.0->tensorboard==2.11.0->-r ../requirements.txt (line 2)) (3.7)\n",
      "Requirement already satisfied: MarkupSafe>=2.1.1 in /home/youssef/.cache/pypoetry/virtualenvs/vqgan_scene_reconstruction-cT5po-tB-py3.10/lib/python3.10/site-packages (from werkzeug>=1.0.1->tensorboard==2.11.0->-r ../requirements.txt (line 2)) (2.1.5)\n",
      "Requirement already satisfied: mpmath>=0.19 in /home/youssef/.cache/pypoetry/virtualenvs/vqgan_scene_reconstruction-cT5po-tB-py3.10/lib/python3.10/site-packages (from sympy->torch==2.2.2->-r ../requirements.txt (line 8)) (1.3.0)\n",
      "Requirement already satisfied: decorator in /home/youssef/.cache/pypoetry/virtualenvs/vqgan_scene_reconstruction-cT5po-tB-py3.10/lib/python3.10/site-packages (from ipython>=6.1.0->ipywidgets<9.0.0,>=7.0.0->k3d==2.15.2->-r ../requirements.txt (line 1)) (4.4.2)\n",
      "Requirement already satisfied: pygments in /home/youssef/.cache/pypoetry/virtualenvs/vqgan_scene_reconstruction-cT5po-tB-py3.10/lib/python3.10/site-packages (from ipython>=6.1.0->ipywidgets<9.0.0,>=7.0.0->k3d==2.15.2->-r ../requirements.txt (line 1)) (2.17.2)\n",
      "Requirement already satisfied: pexpect>4.3 in /home/youssef/.cache/pypoetry/virtualenvs/vqgan_scene_reconstruction-cT5po-tB-py3.10/lib/python3.10/site-packages (from ipython>=6.1.0->ipywidgets<9.0.0,>=7.0.0->k3d==2.15.2->-r ../requirements.txt (line 1)) (4.9.0)\n",
      "Requirement already satisfied: prompt-toolkit!=3.0.0,!=3.0.1,<3.1.0,>=2.0.0 in /home/youssef/.cache/pypoetry/virtualenvs/vqgan_scene_reconstruction-cT5po-tB-py3.10/lib/python3.10/site-packages (from ipython>=6.1.0->ipywidgets<9.0.0,>=7.0.0->k3d==2.15.2->-r ../requirements.txt (line 1)) (3.0.43)\n",
      "Requirement already satisfied: jedi>=0.16 in /home/youssef/.cache/pypoetry/virtualenvs/vqgan_scene_reconstruction-cT5po-tB-py3.10/lib/python3.10/site-packages (from ipython>=6.1.0->ipywidgets<9.0.0,>=7.0.0->k3d==2.15.2->-r ../requirements.txt (line 1)) (0.19.1)\n",
      "Requirement already satisfied: backcall in /home/youssef/.cache/pypoetry/virtualenvs/vqgan_scene_reconstruction-cT5po-tB-py3.10/lib/python3.10/site-packages (from ipython>=6.1.0->ipywidgets<9.0.0,>=7.0.0->k3d==2.15.2->-r ../requirements.txt (line 1)) (0.2.0)\n",
      "Requirement already satisfied: matplotlib-inline in /home/youssef/.cache/pypoetry/virtualenvs/vqgan_scene_reconstruction-cT5po-tB-py3.10/lib/python3.10/site-packages (from ipython>=6.1.0->ipywidgets<9.0.0,>=7.0.0->k3d==2.15.2->-r ../requirements.txt (line 1)) (0.1.6)\n",
      "Requirement already satisfied: pickleshare in /home/youssef/.cache/pypoetry/virtualenvs/vqgan_scene_reconstruction-cT5po-tB-py3.10/lib/python3.10/site-packages (from ipython>=6.1.0->ipywidgets<9.0.0,>=7.0.0->k3d==2.15.2->-r ../requirements.txt (line 1)) (0.7.5)\n",
      "Requirement already satisfied: pyasn1<0.7.0,>=0.4.6 in /home/youssef/.cache/pypoetry/virtualenvs/vqgan_scene_reconstruction-cT5po-tB-py3.10/lib/python3.10/site-packages (from pyasn1-modules>=0.2.1->google-auth<3,>=1.6.3->tensorboard==2.11.0->-r ../requirements.txt (line 2)) (0.6.0)\n",
      "Requirement already satisfied: oauthlib>=3.0.0 in /home/youssef/.cache/pypoetry/virtualenvs/vqgan_scene_reconstruction-cT5po-tB-py3.10/lib/python3.10/site-packages (from requests-oauthlib>=0.7.0->google-auth-oauthlib<0.5,>=0.4.1->tensorboard==2.11.0->-r ../requirements.txt (line 2)) (3.2.2)\n",
      "Requirement already satisfied: parso<0.9.0,>=0.8.3 in /home/youssef/.cache/pypoetry/virtualenvs/vqgan_scene_reconstruction-cT5po-tB-py3.10/lib/python3.10/site-packages (from jedi>=0.16->ipython>=6.1.0->ipywidgets<9.0.0,>=7.0.0->k3d==2.15.2->-r ../requirements.txt (line 1)) (0.8.4)\n",
      "Requirement already satisfied: ptyprocess>=0.5 in /home/youssef/.cache/pypoetry/virtualenvs/vqgan_scene_reconstruction-cT5po-tB-py3.10/lib/python3.10/site-packages (from pexpect>4.3->ipython>=6.1.0->ipywidgets<9.0.0,>=7.0.0->k3d==2.15.2->-r ../requirements.txt (line 1)) (0.7.0)\n",
      "Requirement already satisfied: wcwidth in /home/youssef/.cache/pypoetry/virtualenvs/vqgan_scene_reconstruction-cT5po-tB-py3.10/lib/python3.10/site-packages (from prompt-toolkit!=3.0.0,!=3.0.1,<3.1.0,>=2.0.0->ipython>=6.1.0->ipywidgets<9.0.0,>=7.0.0->k3d==2.15.2->-r ../requirements.txt (line 1)) (0.2.13)\n",
      "Building wheels for collected packages: PyOpenGL\n",
      "  Building wheel for PyOpenGL (setup.py) ... \u001b[?25ldone\n",
      "\u001b[?25h  Created wheel for PyOpenGL: filename=PyOpenGL-3.1.0-py3-none-any.whl size=1745210 sha256=76ee420591ce7138bde54a2022c51f82effb47ce62b0277e3c9aa49f53b0d426\n",
      "  Stored in directory: /home/youssef/.cache/pip/wheels/a1/3c/d2/1f9533f908d86176637521e533c6cdb2d4e48b59003b5c3f19\n",
      "Successfully built PyOpenGL\n",
      "Installing collected packages: PyOpenGL, imageio, freetype-py, pyrender\n",
      "Successfully installed PyOpenGL-3.1.0 freetype-py-2.4.0 imageio-2.34.1 pyrender-0.1.45\n"
     ]
    }
   ],
   "source": [
    "!pip install -r ../requirements.txt"
   ]
  },
  {
   "cell_type": "code",
   "execution_count": null,
   "metadata": {},
   "outputs": [],
   "source": [
    "from utils.util import mkdir"
   ]
  },
  {
   "cell_type": "code",
   "execution_count": null,
   "metadata": {},
   "outputs": [],
   "source": [
    "mkdir(\"raw_dataset\")\n",
    "!ls # !dir for windows"
   ]
  },
  {
   "cell_type": "code",
   "execution_count": null,
   "metadata": {},
   "outputs": [],
   "source": [
    "%cd raw_dataset"
   ]
  },
  {
   "cell_type": "code",
   "execution_count": null,
   "metadata": {},
   "outputs": [],
   "source": [
    "mkdir(\"ShapeNet\")"
   ]
  },
  {
   "cell_type": "code",
   "execution_count": null,
   "metadata": {},
   "outputs": [],
   "source": [
    "!wget http://cvgl.stanford.edu/data2/ShapeNetVox32.tgz\n",
    "!wget http://kaldir.vc.in.tum.de/cdiller/ShapeNetPointClouds.zip\n",
    "!tar -xzf ShapeNetVox32.tgz -C ShapeNet/\n",
    "!unzip -q ShapeNetPointClouds.zip -d ShapeNet/"
   ]
  },
  {
   "cell_type": "code",
   "execution_count": null,
   "metadata": {},
   "outputs": [],
   "source": [
    "%cd .."
   ]
  },
  {
   "cell_type": "code",
   "execution_count": 8,
   "metadata": {},
   "outputs": [
    {
     "name": "stdout",
     "output_type": "stream",
     "text": [
      "The autoreload extension is already loaded. To reload it, use:\n",
      "  %reload_ext autoreload\n"
     ]
    }
   ],
   "source": [
    "from datasets.shape_net.shape_net_vox import ShapeNetVox\n",
    "from datasets.shape_net.shape_net_points import ShapeNetPoints\n",
    "from utils.visualizations import visualize_occupancy, visualize_pointcloud\n",
    "import matplotlib.pyplot as plt\n",
    "import numpy as np\n",
    "from PIL import Image\n",
    "from omegaconf import OmegaConf\n",
    "%load_ext autoreload\n",
    "%autoreload 2\n",
    "%matplotlib inline\n",
    "\n",
    "configs_path = \"./configs/global_configs.yaml\""
   ]
  },
  {
   "cell_type": "markdown",
   "metadata": {},
   "source": [
    "## 2.0 ShapeNet Vox"
   ]
  },
  {
   "cell_type": "code",
   "execution_count": 13,
   "metadata": {},
   "outputs": [
    {
     "data": {
      "text/plain": [
       "0"
      ]
     },
     "execution_count": 13,
     "metadata": {},
     "output_type": "execute_result"
    }
   ],
   "source": [
    "dataset_config = OmegaConf.load(configs_path)[\"dataset\"]\n",
    "dataset = ShapeNetVox(dataset_config, dataset_config[\"shape_net_vox\"])\n",
    "shape_data = dataset[0]\n",
    "shape_data[\"label\"]\n"
   ]
  },
  {
   "cell_type": "code",
   "execution_count": 15,
   "metadata": {},
   "outputs": [
    {
     "name": "stdout",
     "output_type": "stream",
     "text": [
      "ID: 02691156/b04ec55f4960b3b984b7ea000aa0a2b\n",
      "Dataset Size: 43783\n",
      "Voxel Dimensions: (1, 32, 32, 32)\n",
      "Label: 0 | airplane\n"
     ]
    },
    {
     "data": {
      "application/vnd.jupyter.widget-view+json": {
       "model_id": "de74d79c9a4d4727b5fbc10064b97bde",
       "version_major": 2,
       "version_minor": 0
      },
      "text/plain": [
       "Output()"
      ]
     },
     "metadata": {},
     "output_type": "display_data"
    }
   ],
   "source": [
    "shape_data = dataset[0]\n",
    "voxels = shape_data[\"voxels\"]\n",
    "print(f'ID: {shape_data[\"id\"]}')\n",
    "print(f'Dataset Size: {len(dataset)}')  # expected output: 43783\n",
    "print(f'Voxel Dimensions: {voxels.shape}')  # expected output: (1, 32, 32, 32)\n",
    "print(f'Label: {shape_data[\"label\"]} | {shape_data[\"class_name\"]}')\n",
    "visualize_occupancy(voxels[0], flip_axes=True)"
   ]
  },
  {
   "cell_type": "markdown",
   "metadata": {},
   "source": [
    "## 3.0 ShapeNet Point Cloud"
   ]
  },
  {
   "cell_type": "code",
   "execution_count": null,
   "metadata": {},
   "outputs": [],
   "source": [
    "dataset_config = OmegaConf.load(configs_path)[\"dataset\"]\n",
    "dataset = ShapeNetPoints(dataset_config, dataset_config[\"shape_net_points\"])\n",
    "shape_data = dataset[0]\n",
    "shape_data[\"label\"]"
   ]
  },
  {
   "cell_type": "code",
   "execution_count": null,
   "metadata": {},
   "outputs": [],
   "source": [
    "print(f'ID: {shape_data[\"id\"]}')\n",
    "print(f'Dataset Size: {len(dataset)}')\n",
    "# expected output: (3, 1024)\n",
    "print(f'Voxel Dimensions: {shape_data[\"points\"].shape}')\n",
    "# expected output: 10, 04379243\n",
    "print(f'Label: {shape_data[\"label\"]} | {shape_data[\"class_name\"]}')\n",
    "\n",
    "visualize_pointcloud(shape_data[\"points\"].T, point_size=0.025, flip_axes=True)"
   ]
  }
 ],
 "metadata": {
  "kernelspec": {
   "display_name": "Python 3 (ipykernel)",
   "language": "python",
   "name": "python3"
  },
  "language_info": {
   "codemirror_mode": {
    "name": "ipython",
    "version": 3
   },
   "file_extension": ".py",
   "mimetype": "text/x-python",
   "name": "python",
   "nbconvert_exporter": "python",
   "pygments_lexer": "ipython3",
   "version": "3.10.12"
  }
 },
 "nbformat": 4,
 "nbformat_minor": 2
}
