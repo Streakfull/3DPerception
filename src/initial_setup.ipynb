{
 "cells": [
  {
   "cell_type": "markdown",
   "metadata": {},
   "source": [
    "## 1.0 Installing Requirements and getting shape net datasets"
   ]
  },
  {
   "cell_type": "code",
   "execution_count": null,
   "metadata": {},
   "outputs": [],
   "source": [
    "!pip install -r ../requirements.txt"
   ]
  },
  {
   "cell_type": "code",
   "execution_count": null,
   "metadata": {},
   "outputs": [],
   "source": [
    "from utils.util import mkdir"
   ]
  },
  {
   "cell_type": "code",
   "execution_count": null,
   "metadata": {},
   "outputs": [],
   "source": [
    "mkdir(\"raw_dataset\")\n",
    "!ls # !dir for windows"
   ]
  },
  {
   "cell_type": "code",
   "execution_count": null,
   "metadata": {},
   "outputs": [],
   "source": [
    "%cd raw_dataset"
   ]
  },
  {
   "cell_type": "code",
   "execution_count": null,
   "metadata": {},
   "outputs": [],
   "source": [
    "mkdir(\"ShapeNet\")"
   ]
  },
  {
   "cell_type": "code",
   "execution_count": null,
   "metadata": {},
   "outputs": [],
   "source": [
    "!wget http://cvgl.stanford.edu/data2/ShapeNetVox32.tgz\n",
    "!wget http://kaldir.vc.in.tum.de/cdiller/ShapeNetPointClouds.zip\n",
    "!tar -xzf ShapeNetVox32.tgz -C ShapeNet/\n",
    "!unzip -q ShapeNetPointClouds.zip -d ShapeNet/"
   ]
  },
  {
   "cell_type": "code",
   "execution_count": null,
   "outputs": [],
   "source": [
    "%cd .."
   ],
   "metadata": {
    "collapsed": false
   }
  },
  {
   "cell_type": "code",
   "execution_count": null,
   "metadata": {},
   "outputs": [],
   "source": [
    "from datasets.shape_net.shape_net_vox import ShapeNetVox\n",
    "from datasets.shape_net.shape_net_points import ShapeNetPoints\n",
    "from utils.visualizations import visualize_occupancy, visualize_pointcloud\n",
    "import matplotlib.pyplot as plt\n",
    "import numpy as np\n",
    "from PIL import Image\n",
    "from omegaconf import OmegaConf\n",
    "%load_ext autoreload\n",
    "%autoreload 2\n",
    "%matplotlib inline\n",
    "\n",
    "configs_path = \"./configs/global_configs.yaml\""
   ]
  },
  {
   "cell_type": "markdown",
   "metadata": {},
   "source": [
    "## 2.0 ShapeNet Vox"
   ]
  },
  {
   "cell_type": "code",
   "execution_count": null,
   "metadata": {},
   "outputs": [],
   "source": [
    "dataset_config = OmegaConf.load(configs_path)[\"dataset\"]\n",
    "dataset = ShapeNetVox(dataset_config, dataset_config[\"shape_net_vox\"])\n",
    "shape_data = dataset[0]\n",
    "shape_data[\"label\"]\n"
   ]
  },
  {
   "cell_type": "code",
   "execution_count": null,
   "metadata": {},
   "outputs": [],
   "source": [
    "shape_data = dataset[0]\n",
    "voxels = shape_data[\"voxels\"]\n",
    "print(f'ID: {shape_data[\"id\"]}')\n",
    "print(f'Dataset Size: {len(dataset)}')  # expected output: 43783\n",
    "print(f'Voxel Dimensions: {voxels.shape}')  # expected output: (1, 32, 32, 32)\n",
    "print(f'Label: {shape_data[\"label\"]} | {shape_data[\"class_name\"]}')\n",
    "visualize_occupancy(voxels[0], flip_axes=True)"
   ]
  },
  {
   "cell_type": "markdown",
   "metadata": {},
   "source": [
    "## 3.0 ShapeNet Point Cloud"
   ]
  },
  {
   "cell_type": "code",
   "execution_count": null,
   "metadata": {},
   "outputs": [],
   "source": [
    "dataset_config = OmegaConf.load(configs_path)[\"dataset\"]\n",
    "dataset = ShapeNetPoints(dataset_config, dataset_config[\"shape_net_points\"])\n",
    "shape_data = dataset[0]\n",
    "shape_data[\"label\"]"
   ]
  },
  {
   "cell_type": "code",
   "execution_count": null,
   "metadata": {},
   "outputs": [],
   "source": [
    "print(f'ID: {shape_data[\"id\"]}')\n",
    "print(f'Dataset Size: {len(dataset)}')\n",
    "# expected output: (3, 1024)\n",
    "print(f'Voxel Dimensions: {shape_data[\"points\"].shape}')\n",
    "# expected output: 10, 04379243\n",
    "print(f'Label: {shape_data[\"label\"]} | {shape_data[\"class_name\"]}')\n",
    "\n",
    "visualize_pointcloud(shape_data[\"points\"].T, point_size=0.025, flip_axes=True)"
   ]
  }
 ],
 "metadata": {
  "kernelspec": {
   "display_name": "Python 3",
   "language": "python",
   "name": "python3"
  },
  "language_info": {
   "codemirror_mode": {
    "name": "ipython",
    "version": 3
   },
   "file_extension": ".py",
   "mimetype": "text/x-python",
   "name": "python",
   "nbconvert_exporter": "python",
   "pygments_lexer": "ipython3",
   "version": "3.10.1"
  }
 },
 "nbformat": 4,
 "nbformat_minor": 2
}
